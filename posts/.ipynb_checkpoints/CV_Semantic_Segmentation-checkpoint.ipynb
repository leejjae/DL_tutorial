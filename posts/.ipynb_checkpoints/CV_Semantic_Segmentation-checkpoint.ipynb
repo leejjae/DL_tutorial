{
 "cells": [
  {
   "cell_type": "raw",
   "id": "893278ad-de59-4821-af30-3997c4253841",
   "metadata": {},
   "source": [
    "---\n",
    "\"title\": \"CV_Semantic_Segmentaion_0\"\n",
    "\"author\": \"이정재\"\n",
    "\"date\": \"2024-02-12\"\n",
    "---"
   ]
  },
  {
   "cell_type": "markdown",
   "id": "916da0d4-3ee1-4fbc-b317-33595a758940",
   "metadata": {},
   "source": [
    "### UNet\n",
    "----------------\n",
    "![](https://search.pstatic.net/common/?src=http%3A%2F%2Fblogfiles.naver.net%2FMjAyMDA0MDNfMjgx%2FMDAxNTg1ODgyMDY2MTUw.aV4rP5KrYnFL24FCg-xpuGdc319YOMWY5H5GqMRHh50g.u_t5lKPe4DDm4VU7wLOcq9sWCMAGcPKj4OJxPmKUFrIg.PNG.kswoo3030%2Fec0ac2e2d2df8f213b916453375ccee95a254ac3.png)"
   ]
  },
  {
   "cell_type": "code",
   "execution_count": 42,
   "id": "15fc7841-c91c-462a-b721-37d82dd7623e",
   "metadata": {},
   "outputs": [],
   "source": [
    "# !jar xvf pavement_crack.zip"
   ]
  },
  {
   "cell_type": "code",
   "execution_count": 1,
   "id": "4aa5d461-8bcb-4ccd-a246-6de7bb64a508",
   "metadata": {},
   "outputs": [],
   "source": [
    "import torch\n",
    "from torch import nn\n",
    "import torch.nn.functional as F\n",
    "from torch.autograd import Variable\n",
    "from torch.utils.data import DataLoader, Dataset, random_split\n",
    "\n",
    "import torchvision.transforms as transforms\n",
    "\n",
    "import os, zipfile\n",
    "import tqdm\n",
    "import random\n",
    "import shutil\n",
    "import numpy as np\n",
    "from PIL import Image\n",
    "from pathlib import Path\n",
    "import scipy.ndimage as ndimage\n",
    "import matplotlib.pyplot as plt"
   ]
  },
  {
   "cell_type": "code",
   "execution_count": 2,
   "id": "91a79084-e1c6-46a0-a413-ce235185f529",
   "metadata": {},
   "outputs": [],
   "source": [
    "# 재현성을 위한 랜덤시드 고정\n",
    "random_seed = 2024\n",
    "torch.manual_seed(random_seed)\n",
    "torch.cuda.manual_seed(random_seed)\n",
    "torch.backends.cudnn.deterministic = True\n",
    "torch.backends.cudnn.benchmark = False\n",
    "np.random.seed(random_seed)\n",
    "random.seed(random_seed)"
   ]
  },
  {
   "cell_type": "markdown",
   "id": "8d8433e7-aaf7-4443-90dd-bde938d59d5e",
   "metadata": {},
   "source": [
    "### 균열 데이터 클래스 정의\n"
   ]
  },
  {
   "cell_type": "code",
   "execution_count": 3,
   "id": "3adfc1b6-8a0e-4365-a676-edd12eff2d90",
   "metadata": {},
   "outputs": [],
   "source": [
    "# 클래스 정의\n",
    "class CrackDatasets(Dataset):\n",
    "    def __init__(self, img_dir, mask_dir, img_transform, mask_transform):\n",
    "        self.img_dir = img_dir\n",
    "        self.img_transform = img_transform\n",
    "        self.img_files = []\n",
    "        self.mask_dir = mask_dir\n",
    "        self.mask_transform = mask_transform\n",
    "        self.mask_files = []\n",
    "        self.seed = np.random.randint(2024)\n",
    "\n",
    "        for img_name in os.listdir(self.img_dir):\n",
    "            if img_name.split('.')[-1] in ('png', 'jpg'):\n",
    "                self.img_files.append(os.path.join(self.img_dir, img_name))\n",
    "                self.mask_files.append(os.path.join(self.mask_dir, img_name))\n",
    "\n",
    "    def __getitem__(self, i):\n",
    "        img = Image.open(self.img_files[i])\n",
    "        if self.img_transform is not None:\n",
    "            random.seed(self.seed)\n",
    "            img = self.img_transform(img)\n",
    "\n",
    "        mask = Image.open(self.mask_files[i]).convert('L')\n",
    "        if self.mask_transform is not None:\n",
    "            mask = self.mask_transform(mask)\n",
    "\n",
    "        return img, mask\n",
    "\n",
    "    def __len__(self):\n",
    "        return len(self.img_files)"
   ]
  },
  {
   "cell_type": "markdown",
   "id": "89d04fec-075f-4701-9b65-2ec95b613448",
   "metadata": {},
   "source": [
    "### Dice Score와 IoU 메트릭 함수 정의"
   ]
  },
  {
   "cell_type": "code",
   "execution_count": 4,
   "id": "3d01d0be-2a7a-41f2-bda3-64a2fd7106ed",
   "metadata": {},
   "outputs": [],
   "source": [
    "def dice_coeff(input, target, reduce_batch_first: bool = False, epsilon: float=1e-6):\n",
    "    # Average of Dice coefficient for all batches, or for a single mask\n",
    "    assert input.size() == target.size()\n",
    "    assert input.dim() == 3 or not reduce_batch_first\n",
    "\n",
    "    sum_dim = (-1, -2) if input.dim() == 2 or not reduce_batch_first else (-1, -2, -3)\n",
    "\n",
    "    inter = 2 * (input * target).sum(dim=sum_dim)\n",
    "    sets_sum = input.sum(dim=sum_dim) + target.sum(dim=sum_dim)\n",
    "    sets_sum = torch.where(sets_sum == 0, inter, sets_sum)\n",
    "\n",
    "    dice = (inter + epsilon) / (sets_sum + epsilon)\n",
    "    return dice.mean()\n",
    "\n",
    "def iou(y_true, y_pred, epsilon: float = 1e-6):\n",
    "    intersection = (y_true * y_pred).sum()\n",
    "    union = y_true.sum() + y_pred.sum() - intersection\n",
    "    return (intersection + epsilon) / (union + epsilon)"
   ]
  },
  {
   "cell_type": "markdown",
   "id": "9b721326-1b84-49d7-aedd-c1532ec3a155",
   "metadata": {},
   "source": [
    "### UNet 모델 클래스 정의"
   ]
  },
  {
   "cell_type": "code",
   "execution_count": 5,
   "id": "69790693-2cc9-4f19-868a-5fc74aaa5cc4",
   "metadata": {},
   "outputs": [],
   "source": [
    "class UNet(nn.Module):\n",
    "\n",
    "    def __init__(self, num_classes):\n",
    "        super(UNet, self).__init__()\n",
    "        self.num_classes = num_classes\n",
    "        self.contracting_11 = self.conv_block(in_channels=3, out_channels=64)\n",
    "        self.contracting_12 = nn.MaxPool2d(kernel_size=2, stride=2)\n",
    "\n",
    "        self.contracting_21 = self.conv_block(in_channels=64, out_channels=128)\n",
    "        self.contracting_22 = nn.MaxPool2d(kernel_size=2, stride=2)\n",
    "\n",
    "        self.contracting_31 = self.conv_block(in_channels=128, out_channels=256)\n",
    "        self.contracting_32 = nn.MaxPool2d(kernel_size=2, stride=2)\n",
    "\n",
    "        self.contracting_41 = self.conv_block(in_channels=256, out_channels=512)\n",
    "        self.contracting_42 = nn.MaxPool2d(kernel_size=2, stride=2)\n",
    "\n",
    "        self.middle = self.conv_block(in_channels=512, out_channels=1024)\n",
    "\n",
    "        self.expansive_11 = nn.ConvTranspose2d(in_channels=1024, out_channels=512, kernel_size=3, stride=2, padding=1, output_padding=1)\n",
    "        self.expansive_12 = self.conv_block(in_channels=1024, out_channels=512)\n",
    "\n",
    "        self.expansive_21 = nn.ConvTranspose2d(in_channels=512, out_channels=256, kernel_size=3, stride=2, padding=1, output_padding=1)\n",
    "        self.expansive_22 = self.conv_block(in_channels=512, out_channels=256)\n",
    "\n",
    "        self.expansive_31 = nn.ConvTranspose2d(in_channels=256, out_channels=128, kernel_size=3, stride=2, padding=1, output_padding=1)\n",
    "        self.expansive_32 = self.conv_block(in_channels=256, out_channels=128)\n",
    "\n",
    "        self.expansive_41 = nn.ConvTranspose2d(in_channels=128, out_channels=64, kernel_size=3, stride=2, padding=1, output_padding=1)\n",
    "        self.expansive_42 = self.conv_block(in_channels=128, out_channels=64)\n",
    "\n",
    "        self.output = nn.Conv2d(in_channels=64, out_channels=num_classes, kernel_size=3, stride=1, padding=1)\n",
    "\n",
    "    def conv_block(self, in_channels, out_channels):\n",
    "        block = nn.Sequential(nn.Conv2d(in_channels=in_channels, out_channels=out_channels, kernel_size=3, stride=1, padding=1),\n",
    "                             nn.ReLU(),\n",
    "                             nn.BatchNorm2d(num_features=out_channels),\n",
    "                             nn.Conv2d(in_channels=out_channels, out_channels=out_channels, kernel_size=3, stride=1, padding=1),\n",
    "                             nn.ReLU(),\n",
    "                             nn.BatchNorm2d(num_features=out_channels))\n",
    "        return block\n",
    "\n",
    "    def forward(self, X):\n",
    "        contracting_11_out = self.contracting_11(X) #[-1, 64, 256, 256]\n",
    "        contracting_12_out = self.contracting_12(contracting_11_out) #[-1, 64, 128, 128]\n",
    "\n",
    "        contracting_21_out = self.contracting_21(contracting_12_out) #[-1, 128, 128, 128]\n",
    "        contracting_22_out = self.contracting_22(contracting_21_out) #[-1, 128, 64, 64]\n",
    "\n",
    "        contracting_31_out = self.contracting_31(contracting_22_out) #[-1, 256, 64, 64]\n",
    "        contracting_32_out = self.contracting_32(contracting_31_out) #[-1, 256, 32, 32]\n",
    "\n",
    "        contracting_41_out = self.contracting_41(contracting_32_out) #[-1, 512, 32, 32]\n",
    "        contracting_42_out = self.contracting_42(contracting_41_out) #[-1, 512, 16, 16]\n",
    "\n",
    "        middle_out = self.middle(contracting_42_out) #[-1, 512, 32, 32]\n",
    "\n",
    "        expansive_11_out = self.expansive_11(middle_out) #[-1, 512, 32, 32]\n",
    "        expansive_12_out = self.expansive_12(torch.cat((expansive_11_out, contracting_41_out), dim=1))\n",
    "        # [-1, 1024, 32, 32] -> # [-1, 512, 32, 32]\n",
    "        \n",
    "        expansive_21_out = self.expansive_21(expansive_12_out) #[-1, 256, 64, 64]\n",
    "        expansive_22_out = self.expansive_22(torch.cat((expansive_21_out, contracting_31_out), dim=1))\n",
    "        # [-1, 512, 64, 64] -> # [-1, 256, 64, 64]\n",
    "        \n",
    "        expansive_31_out = self.expansive_31(expansive_22_out) #[-1, 128, 128, 128]\n",
    "        expansive_32_out = self.expansive_32(torch.cat((expansive_31_out, contracting_21_out), dim=1))\n",
    "        # [-1, 256, 128, 128] -> # [-1, 128, 128, 128]\n",
    "        \n",
    "        expansive_41_out = self.expansive_41(expansive_32_out)\n",
    "        expansive_42_out = self.expansive_42(torch.cat((expansive_41_out,contracting_11_out), dim=1))\n",
    "        #[-1, 128, 256, 256] -> # [1, 64, 256,256]\n",
    "        \n",
    "        output_out = self.output(expansive_42_out) # [-1, num_classes, 256, 256]\n",
    "        return output_out\n"
   ]
  },
  {
   "cell_type": "markdown",
   "id": "9472c080-8650-4f78-8710-c8b5fcc56417",
   "metadata": {},
   "source": [
    "#### 유틸 함수 정의"
   ]
  },
  {
   "cell_type": "code",
   "execution_count": 6,
   "id": "75d3d7ab-b41c-43cc-9d68-477971da2a8f",
   "metadata": {},
   "outputs": [],
   "source": [
    "class AverageMeter(object):\n",
    "    #Computes and stores the average and current value\n",
    "    def __init__(self):\n",
    "        self.reset()\n",
    "\n",
    "    def reset(self):\n",
    "        self.val = 0\n",
    "        self.avg = 0\n",
    "        self.sum = 0\n",
    "        self.count = 0\n",
    "\n",
    "    def update(self, val, n=1):\n",
    "        self.val = val\n",
    "        self.sum += val * n\n",
    "        self.count += n\n",
    "        self.avg = self.sum / self.count\n",
    "\n",
    "def adjust_learning_rate(optimizer, epoch, lr):\n",
    "    #Sets the learning rate to the initial LR decayed by 10 every 30 epochs\n",
    "    lr = lr * (0.1 **(epoch//30))\n",
    "    for param_group in optimizer.param_groups:\n",
    "        param_group['lr'] = lr\n",
    "\n",
    "def find_latest_model_path(dir):\n",
    "    model_paths = []\n",
    "    epochs = []\n",
    "    for path in Path(dir).glob('*.pth'):\n",
    "        if 'epoch' not in path.stem:\n",
    "            continue\n",
    "        model_paths.append(path)\n",
    "        parts = path.stem.split('_')\n",
    "        epoch = int(parts[-1])\n",
    "        epochs.append(epoch)\n",
    "\n",
    "    if len(epochs) > 0:\n",
    "        epochs = np.array(epochs)\n",
    "        max_idx = np.argmax(epochs)\n",
    "        return model_paths[max_idx]\n",
    "    else:\n",
    "        return None\n",
    "\n",
    "def save_check_point(state, is_best, file_name='checkpoint.pth'):\n",
    "    torch.save(state, file_name)\n",
    "    if is_best:\n",
    "        shutil.copy(file_name, 'model_best.pth')\n",
    "\n",
    "def calc_crack_pixel_weight(mask_dir):\n",
    "    avg_w = 0.0\n",
    "    n_files = 0\n",
    "    for path in Path(mask_dir).glob('*.*'):\n",
    "        n_files += 1\n",
    "        m = ndimage.imread(path)\n",
    "        ncrack = np.sum((m>0)[:])\n",
    "        w = float(ncrack) / (m.shape[0]*m.shape[1])\n",
    "        avg_w = avg_w + (1-w)\n",
    "\n",
    "    return avg_w / (1.0 - avg_w)"
   ]
  },
  {
   "cell_type": "markdown",
   "id": "576755cc-9a93-47ee-bfc3-4728b19fa131",
   "metadata": {},
   "source": [
    "### train & validation function"
   ]
  },
  {
   "cell_type": "code",
   "execution_count": 7,
   "id": "f55d34d7-420a-46db-99d7-eed6c1e2892c",
   "metadata": {},
   "outputs": [],
   "source": [
    "def train(train_loader, model, criterion, optimizer, valid_loader, model_dir, n_epoch, batch_size, lr, device):\n",
    "\n",
    "    latest_model_path = find_latest_model_path(model_dir)\n",
    "    best_model_path = os.path.join(*[model_dir, 'model_best.pth'])\n",
    "\n",
    "    if latest_model_path is not None:\n",
    "        state = torch.load(latest_model_path)\n",
    "        epoch = state['epoch']\n",
    "        model.load_state_dict(state['model'])\n",
    "        epoch = epoch\n",
    "\n",
    "        # if latest model path does exist, best_model_path should exists as well\n",
    "        assert Path(best_model_path).exists() == True, f'best model path {best_model_path} doest not exist'\n",
    "        # load the min loss so far\n",
    "        best_state = torch.load(latest_model_path)\n",
    "        min_val_los = best_state['valid_loss']\n",
    "\n",
    "        print(f'Restored model at epoch {epoch}. Min Validation loss so far is: {min_val_los}')\n",
    "        epoch += 1\n",
    "        print(f'Started training model from epoch {epoch}')\n",
    "    else:\n",
    "        print('Started training model from epoch 0')\n",
    "        epoch = 0\n",
    "        min_val_los = 9999\n",
    "\n",
    "    valid_losses = []\n",
    "    for epoch in range(epoch, n_epoch):\n",
    "        adjust_learning_rate(optimizer, epoch, lr)\n",
    "\n",
    "        tq = tqdm.tqdm(total=(len(train_loader) * batch_size))\n",
    "        tq.set_description(f'Epoch {epoch}')\n",
    "\n",
    "        losses = AverageMeter()\n",
    "        t_iou = 0\n",
    "        t_dice = 0\n",
    "\n",
    "        model.train()\n",
    "        for i, (input, target) in enumerate(train_loader):\n",
    "            input_var = Variable(input).to(device)\n",
    "            target_var = Variable(target).to(device)\n",
    "\n",
    "            masks_pred = model(input_var)\n",
    "            pred = F.sigmoid(masks_pred)\n",
    "            target_mask = target_var\n",
    "\n",
    "            pred[pred>0.5] = 1\n",
    "            pred[pred<=0.5] = 0\n",
    "            target_mask[target_mask>0.5] = 1\n",
    "            target_mask[target_mask<=0.5] = 0\n",
    "\n",
    "            masks_prob_flat = masks_pred.view(-1)\n",
    "            true_masks_flat = target_var.view(-1)\n",
    "\n",
    "            loss = criterion(masks_prob_flat, true_masks_flat)\n",
    "            losses.update(loss)\n",
    "            tq.set_postfix(loss='{:.5f}'.format(losses.avg))\n",
    "            tq.update(batch_size)\n",
    "\n",
    "            t_dice += dice_coeff(pred, target_mask)\n",
    "            t_iou += iou(pred, target_mask)\n",
    "\n",
    "            # compute gradient and do SGD step\n",
    "            optimizer.zero_grad()\n",
    "            loss.backward()\n",
    "            optimizer.step()\n",
    "\n",
    "        print(f'train miou : {t_iou/len(train_loader):.5f} train dice score : {t_dice/len(train_loader):.5f}')\n",
    "        valid_metrics = valid(model, valid_loader, criterion)\n",
    "        valid_loss = valid_metrics['valid_loss']\n",
    "        valid_dice = valid_metrics['v_dice']\n",
    "        valid_iou = valid_metrics['v_iou']\n",
    "        valid_losses.append(valid_loss)\n",
    "        print(f'valid_loss = {valid_loss:.5f}')\n",
    "        print(f'valid miou : {valid_iou/len(valid_loader):.5f} valid dice score : {valid_dice/len(valid_loader):.5f}')\n",
    "        tq.close()\n",
    "\n",
    "        # save the model of the current epoch\n",
    "        epoch_model_path = os.path.join(*[model_dir, f'model_epoch_{epoch}.pth'])\n",
    "        torch.save({\n",
    "            'model': model.state_dict(),\n",
    "            'epoch': epoch,\n",
    "            'valid_loss': valid_loss,\n",
    "            'train_loss': losses.avg\n",
    "        }, epoch_model_path)\n",
    "\n",
    "        if valid_loss < min_val_los:\n",
    "            min_val_los = valid_loss\n",
    "\n",
    "            torch.save({\n",
    "                'model' : model.state_dict(),\n",
    "                'epoch' : epoch,\n",
    "                'valid_loss' : valid_loss,\n",
    "                'train_loss' : losses.avg\n",
    "            }, best_model_path)"
   ]
  },
  {
   "cell_type": "code",
   "execution_count": 8,
   "id": "faf87a1f-83a6-4d40-81c4-6cd68314d6e2",
   "metadata": {},
   "outputs": [],
   "source": [
    "def valid(model, val_loader, criterion):\n",
    "    losses = AverageMeter()\n",
    "    v_iou = 0\n",
    "    v_dice = 0\n",
    "    model.eval()\n",
    "    with torch.no_grad():\n",
    "\n",
    "        for i, (input, target) in enumerate(val_loader):\n",
    "            input_var = Variable(input).to(device)\n",
    "            target_var = Variable(target).to(device)\n",
    "\n",
    "            output = model(input_var)\n",
    "            loss = criterion(output, target_var)\n",
    "\n",
    "            losses.update(loss.item(), input_var.size(0))\n",
    "\n",
    "            pred = F.sigmoid(output)\n",
    "            target_mask = target_var\n",
    "            pred[pred>0.5] = 1\n",
    "            pred[pred<=0.5] = 0\n",
    "            target_mask[target_mask>0.5] = 1\n",
    "            target_mask[target_mask<=0.5] = 0\n",
    "\n",
    "            v_dice += dice_coeff(pred, target_mask)\n",
    "            v_iou = iou(pred, target_mask)\n",
    "\n",
    "    return {'valid_loss': losses.avg, 'v_dice': v_dice, 'v_iou': v_iou}"
   ]
  },
  {
   "cell_type": "markdown",
   "id": "8d4aa547-000d-4438-a073-eb1c8101131b",
   "metadata": {},
   "source": [
    "### parameter"
   ]
  },
  {
   "cell_type": "code",
   "execution_count": 9,
   "id": "5f33f669-9098-4fa5-9dab-ab2333045b06",
   "metadata": {},
   "outputs": [],
   "source": [
    "# model folder\n",
    "model_dir = '/root/2024winter/DL_tutorial/posts/model_weights'\n",
    "os.makedirs(model_dir, exist_ok=True)\n",
    "\n",
    "# data folder\n",
    "data_dir = '/root/2024winter/DL_tutorial/posts/crack_segmentation_dataset/train'\n",
    "DIR_IMG = os.path.join(data_dir, 'images')\n",
    "DIR_MASK = os.path.join(data_dir, 'masks')\n",
    "\n",
    "# Device 할당\n",
    "device = torch.device(\"cuda\" if torch.cuda.is_available() else \"cpu\")\n",
    "\n",
    "lr = 0.001\n",
    "momentum = 0.9\n",
    "weight_decay = 1e-4\n",
    "batch_size = 8\n",
    "num_workers = 8\n",
    "n_epoch = 10"
   ]
  },
  {
   "cell_type": "code",
   "execution_count": 10,
   "id": "39aecf9f-f704-421b-af56-6fbdfab94537",
   "metadata": {},
   "outputs": [
    {
     "name": "stdout",
     "output_type": "stream",
     "text": [
      "Started training model from epoch 0\n"
     ]
    },
    {
     "name": "stderr",
     "output_type": "stream",
     "text": [
      "Epoch 0:   0%|                                                                                 | 0/8168 [00:00<?, ?it/s]/root/anaconda3/envs/dl/lib/python3.10/site-packages/torch/nn/functional.py:1960: UserWarning: nn.functional.sigmoid is deprecated. Use torch.sigmoid instead.\n",
      "  warnings.warn(\"nn.functional.sigmoid is deprecated. Use torch.sigmoid instead.\")\n",
      "Epoch 0: 100%|███████████████████████████████████████████████████████▉| 8160/8168 [01:18<00:00, 88.84it/s, loss=0.20300]"
     ]
    },
    {
     "name": "stdout",
     "output_type": "stream",
     "text": [
      "train miou : 0.16975 train dice score : 0.23192\n"
     ]
    },
    {
     "name": "stderr",
     "output_type": "stream",
     "text": [
      "Epoch 0: 100%|████████████████████████████████████████████████████████| 8168/8168 [01:24<00:00, 96.69it/s, loss=0.20300]"
     ]
    },
    {
     "name": "stdout",
     "output_type": "stream",
     "text": [
      "valid_loss = 0.10602\n",
      "valid miou : 0.00013 valid dice score : 0.21843\n"
     ]
    },
    {
     "name": "stderr",
     "output_type": "stream",
     "text": [
      "\n",
      "Epoch 1: 100%|███████████████████████████████████████████████████████| 8168/8168 [01:11<00:00, 120.05it/s, loss=0.09282]"
     ]
    },
    {
     "name": "stdout",
     "output_type": "stream",
     "text": [
      "train miou : 0.27445 train dice score : 0.34929\n"
     ]
    },
    {
     "name": "stderr",
     "output_type": "stream",
     "text": [
      "Epoch 1: 100%|███████████████████████████████████████████████████████| 8168/8168 [01:17<00:00, 106.00it/s, loss=0.09282]"
     ]
    },
    {
     "name": "stdout",
     "output_type": "stream",
     "text": [
      "valid_loss = 0.09925\n",
      "valid miou : 0.00038 valid dice score : 0.26572\n"
     ]
    },
    {
     "name": "stderr",
     "output_type": "stream",
     "text": [
      "\n",
      "Epoch 2: 100%|███████████████████████████████████████████████████████| 8168/8168 [01:12<00:00, 120.32it/s, loss=0.08378]"
     ]
    },
    {
     "name": "stdout",
     "output_type": "stream",
     "text": [
      "train miou : 0.32347 train dice score : 0.41108\n"
     ]
    },
    {
     "name": "stderr",
     "output_type": "stream",
     "text": [
      "Epoch 2: 100%|███████████████████████████████████████████████████████| 8168/8168 [01:17<00:00, 105.32it/s, loss=0.08378]"
     ]
    },
    {
     "name": "stdout",
     "output_type": "stream",
     "text": [
      "valid_loss = 0.08654\n",
      "valid miou : 0.00108 valid dice score : 0.37338\n"
     ]
    },
    {
     "name": "stderr",
     "output_type": "stream",
     "text": [
      "\n",
      "Epoch 3: 100%|██████████████████████████████████████████████████████▉| 8160/8168 [01:11<00:00, 118.50it/s, loss=0.07736]"
     ]
    },
    {
     "name": "stdout",
     "output_type": "stream",
     "text": [
      "train miou : 0.36215 train dice score : 0.44759\n"
     ]
    },
    {
     "name": "stderr",
     "output_type": "stream",
     "text": [
      "Epoch 3: 100%|███████████████████████████████████████████████████████| 8168/8168 [01:15<00:00, 107.60it/s, loss=0.07736]"
     ]
    },
    {
     "name": "stdout",
     "output_type": "stream",
     "text": [
      "valid_loss = 0.08282\n",
      "valid miou : 0.00079 valid dice score : 0.47123\n"
     ]
    },
    {
     "name": "stderr",
     "output_type": "stream",
     "text": [
      "\n",
      "Epoch 4: 100%|███████████████████████████████████████████████████████| 8168/8168 [01:13<00:00, 107.44it/s, loss=0.07263]"
     ]
    },
    {
     "name": "stdout",
     "output_type": "stream",
     "text": [
      "train miou : 0.38905 train dice score : 0.48338\n"
     ]
    },
    {
     "name": "stderr",
     "output_type": "stream",
     "text": [
      "Epoch 4: 100%|███████████████████████████████████████████████████████| 8168/8168 [01:20<00:00, 101.28it/s, loss=0.07263]"
     ]
    },
    {
     "name": "stdout",
     "output_type": "stream",
     "text": [
      "valid_loss = 0.07262\n",
      "valid miou : 0.00085 valid dice score : 0.49158\n"
     ]
    },
    {
     "name": "stderr",
     "output_type": "stream",
     "text": [
      "\n",
      "Epoch 5: 100%|██████████████████████████████████████████████████████▉| 8160/8168 [01:17<00:00, 114.78it/s, loss=0.06974]"
     ]
    },
    {
     "name": "stdout",
     "output_type": "stream",
     "text": [
      "train miou : 0.40778 train dice score : 0.50428\n"
     ]
    },
    {
     "name": "stderr",
     "output_type": "stream",
     "text": [
      "Epoch 5: 100%|████████████████████████████████████████████████████████| 8168/8168 [01:23<00:00, 97.74it/s, loss=0.06974]"
     ]
    },
    {
     "name": "stdout",
     "output_type": "stream",
     "text": [
      "valid_loss = 0.07109\n",
      "valid miou : 0.00097 valid dice score : 0.52032\n"
     ]
    },
    {
     "name": "stderr",
     "output_type": "stream",
     "text": [
      "\n",
      "Epoch 6: 100%|███████████████████████████████████████████████████████| 8168/8168 [01:15<00:00, 111.50it/s, loss=0.06713]"
     ]
    },
    {
     "name": "stdout",
     "output_type": "stream",
     "text": [
      "train miou : 0.42189 train dice score : 0.52392\n"
     ]
    },
    {
     "name": "stderr",
     "output_type": "stream",
     "text": [
      "Epoch 6: 100%|███████████████████████████████████████████████████████| 8168/8168 [01:21<00:00, 100.49it/s, loss=0.06713]"
     ]
    },
    {
     "name": "stdout",
     "output_type": "stream",
     "text": [
      "valid_loss = 0.06942\n",
      "valid miou : 0.00078 valid dice score : 0.54654\n"
     ]
    },
    {
     "name": "stderr",
     "output_type": "stream",
     "text": [
      "\n",
      "Epoch 7: 100%|██████████████████████████████████████████████████████▉| 8160/8168 [01:23<00:00, 111.52it/s, loss=0.06493]"
     ]
    },
    {
     "name": "stdout",
     "output_type": "stream",
     "text": [
      "train miou : 0.43467 train dice score : 0.53903\n"
     ]
    },
    {
     "name": "stderr",
     "output_type": "stream",
     "text": [
      "Epoch 7: 100%|████████████████████████████████████████████████████████| 8168/8168 [01:29<00:00, 91.64it/s, loss=0.06493]"
     ]
    },
    {
     "name": "stdout",
     "output_type": "stream",
     "text": [
      "valid_loss = 0.06694\n",
      "valid miou : 0.00077 valid dice score : 0.52760\n"
     ]
    },
    {
     "name": "stderr",
     "output_type": "stream",
     "text": [
      "\n",
      "Epoch 8: 100%|██████████████████████████████████████████████████████▉| 8160/8168 [01:14<00:00, 111.54it/s, loss=0.06300]"
     ]
    },
    {
     "name": "stdout",
     "output_type": "stream",
     "text": [
      "train miou : 0.44633 train dice score : 0.55094\n"
     ]
    },
    {
     "name": "stderr",
     "output_type": "stream",
     "text": [
      "Epoch 8: 100%|███████████████████████████████████████████████████████| 8168/8168 [01:20<00:00, 101.57it/s, loss=0.06300]"
     ]
    },
    {
     "name": "stdout",
     "output_type": "stream",
     "text": [
      "valid_loss = 0.06965\n",
      "valid miou : 0.00069 valid dice score : 0.55299\n"
     ]
    },
    {
     "name": "stderr",
     "output_type": "stream",
     "text": [
      "\n",
      "Epoch 9: 100%|███████████████████████████████████████████████████████| 8168/8168 [01:14<00:00, 119.27it/s, loss=0.06161]"
     ]
    },
    {
     "name": "stdout",
     "output_type": "stream",
     "text": [
      "train miou : 0.45546 train dice score : 0.55663\n"
     ]
    },
    {
     "name": "stderr",
     "output_type": "stream",
     "text": [
      "Epoch 9: 100%|███████████████████████████████████████████████████████| 8168/8168 [01:20<00:00, 101.92it/s, loss=0.06161]"
     ]
    },
    {
     "name": "stdout",
     "output_type": "stream",
     "text": [
      "valid_loss = 0.06245\n",
      "valid miou : 0.00043 valid dice score : 0.55632\n"
     ]
    },
    {
     "name": "stderr",
     "output_type": "stream",
     "text": [
      "\n"
     ]
    }
   ],
   "source": [
    "# 모델 할당\n",
    "model = UNet(num_classes=1)\n",
    "\n",
    "# Optimizer 정의\n",
    "optimizer = torch.optim.SGD(model.parameters(), lr,\n",
    "                           momentum=momentum,\n",
    "                           weight_decay=weight_decay)\n",
    "\n",
    "# 손실 함수 정의\n",
    "criterion = nn.BCEWithLogitsLoss().to(device)\n",
    "\n",
    "channel_means = [0.485, 0.456, 0.406]\n",
    "channel_stds  = [0.229, 0.224, 0.224]\n",
    "\n",
    "train_tfms = transforms.Compose([transforms.ToTensor(),\n",
    "                                transforms.Resize(256),\n",
    "                                transforms.Normalize(channel_means, channel_stds)])\n",
    "\n",
    "val_tfms = transforms.Compose([transforms.ToTensor(),\n",
    "                              transforms.Resize(256),\n",
    "                              transforms.Normalize(channel_means, channel_stds)])\n",
    "\n",
    "mask_tfms = transforms.Compose([transforms.ToTensor(),\n",
    "                               transforms.Resize(256)])\n",
    "\n",
    "dataset = CrackDatasets(img_dir=DIR_IMG,\n",
    "                       img_transform=train_tfms,\n",
    "                       mask_dir=DIR_MASK,\n",
    "                       mask_transform=mask_tfms)\n",
    "\n",
    "train_size = int(0.85*len(dataset))\n",
    "valid_size = len(dataset) - train_size\n",
    "\n",
    "# train / val 분할\n",
    "train_dataset, valid_dataset = random_split(dataset, [train_size, valid_size])\n",
    "\n",
    "# 데이터로더\n",
    "train_loader = DataLoader(train_dataset, batch_size, shuffle=True, num_workers=num_workers)\n",
    "valid_loader = DataLoader(valid_dataset, batch_size, shuffle=False, num_workers=num_workers)\n",
    "\n",
    "model.to(device)\n",
    "\n",
    "#train\n",
    "train(train_loader, model, criterion, optimizer,\n",
    "      valid_loader, model_dir, n_epoch, batch_size, lr, device)"
   ]
  },
  {
   "cell_type": "code",
   "execution_count": 11,
   "id": "883d00f1-b3bf-4d7b-a667-d90fe46f0e6b",
   "metadata": {},
   "outputs": [
    {
     "name": "stdout",
     "output_type": "stream",
     "text": [
      "torch.Size([8, 3, 256, 256]) torch.Size([8, 1, 256, 256])\n"
     ]
    }
   ],
   "source": [
    "for images, masks in train_loader:\n",
    "    print(images.shape, masks.shape)\n",
    "    break"
   ]
  },
  {
   "cell_type": "code",
   "execution_count": 9,
   "id": "d8c5b6a1-44f8-46d8-b7e5-afa133113596",
   "metadata": {},
   "outputs": [],
   "source": [
    "import gc\n",
    "gc.collect()\n",
    "torch.cuda.empty_cache()"
   ]
  },
  {
   "cell_type": "code",
   "execution_count": 13,
   "id": "bb74d58e-038f-4822-a8c3-98d36a1e2541",
   "metadata": {},
   "outputs": [
    {
     "name": "stdout",
     "output_type": "stream",
     "text": [
      "[PosixPath('/root/2024winter/DL_tutorial/posts/model_weights/model_best.pth'), PosixPath('/root/2024winter/DL_tutorial/posts/model_weights/model_epoch_0.pth'), PosixPath('/root/2024winter/DL_tutorial/posts/model_weights/model_epoch_1.pth'), PosixPath('/root/2024winter/DL_tutorial/posts/model_weights/model_epoch_2.pth'), PosixPath('/root/2024winter/DL_tutorial/posts/model_weights/model_epoch_3.pth'), PosixPath('/root/2024winter/DL_tutorial/posts/model_weights/model_epoch_4.pth'), PosixPath('/root/2024winter/DL_tutorial/posts/model_weights/model_epoch_5.pth'), PosixPath('/root/2024winter/DL_tutorial/posts/model_weights/model_epoch_6.pth'), PosixPath('/root/2024winter/DL_tutorial/posts/model_weights/model_epoch_7.pth'), PosixPath('/root/2024winter/DL_tutorial/posts/model_weights/model_epoch_8.pth'), PosixPath('/root/2024winter/DL_tutorial/posts/model_weights/model_epoch_9.pth')]\n"
     ]
    },
    {
     "data": {
      "image/png": "[encoded data removed]",
      "text/plain": [
       "<Figure size 640x480 with 1 Axes>"
      ]
     },
     "metadata": {},
     "output_type": "display_data"
    }
   ],
   "source": [
    "# 저장된 모델 웨이트로 경로 지정\n",
    "model_dir = '/root/2024winter/DL_tutorial/posts/model_weights'\n",
    "title=\"Loss Graph\"\n",
    "\n",
    "weights_paths = [path for path in Path(model_dir).glob('*.pth')]\n",
    "weights_paths = sorted(weights_paths)\n",
    "print(weights_paths)\n",
    "epochs = []\n",
    "tr_losses = []\n",
    "vl_losses = []\n",
    "\n",
    "for w_path in weights_paths:\n",
    "    if 'epoch' not in w_path.stem:\n",
    "        continue\n",
    "    # load the min loss so far\n",
    "    parts = w_path.stem.split('_')\n",
    "    epoch = int(parts[-1])\n",
    "    epochs.append(epoch)\n",
    "    state = torch.load(w_path)\n",
    "    val_los = state['valid_loss']\n",
    "    train_loss = float(state['train_loss'])\n",
    "    tr_losses.append(train_loss)\n",
    "    vl_losses.append(val_los)\n",
    "\n",
    "sorted_idx = np.argsort(epochs)\n",
    "tr_losses = [tr_losses[idx] for idx in sorted_idx]\n",
    "vl_losses = [vl_losses[idx] for idx in sorted_idx]\n",
    "plt.plot(tr_losses[1:], label='train_loss')\n",
    "plt.plot(vl_losses[1:], label='valid_loss')\n",
    "plt.title(title)\n",
    "plt.legend()\n",
    "plt.show()"
   ]
  },
  {
   "cell_type": "code",
   "execution_count": 14,
   "id": "1add9bc1-250a-4129-9acd-6cee511de55e",
   "metadata": {},
   "outputs": [],
   "source": [
    "import cv2\n",
    "def evaluate(test_loader, model, output_path):\n",
    "    e_iou = 0\n",
    "    e_dice = 0\n",
    "    model.eval()\n",
    "    with torch.no_grad():\n",
    "        for i, (input, target) in enumerate(test_loader):\n",
    "            input_var = Variable(input).to(device)\n",
    "            target_var = Variable(target).to(device)\n",
    "\n",
    "            output = model(input_var)\n",
    "            pred = F.sigmoid(output)\n",
    "            target_mask = target_var\n",
    "\n",
    "            pred[pred>0.5]=1\n",
    "            pred[pred<=0.5]=0\n",
    "            target_mask[target_mask>0.5]=1\n",
    "            target_mask[target_mask<=0.5]=0\n",
    "            \n",
    "            cv2.imwrite(f'{output_path}/predicts/{i}.png', tensor2image(pred))\n",
    "            cv2.imwrite(f'{output_path}/masks/{i}.png', tensor2image(target_mask))\n",
    "\n",
    "            e_dice += dice_coeff(pred, target_mask)\n",
    "            e_iou += iou(pred, target_mask)\n",
    "\n",
    "    print(f'test miou : {e_iou/len(test_loader):.5f} test dice score : {e_dice/len(test_loader):.5f}')"
   ]
  },
  {
   "cell_type": "code",
   "execution_count": 15,
   "id": "0af902e2-954a-495b-9937-70b7e867d3ca",
   "metadata": {},
   "outputs": [],
   "source": [
    "def denormalize(image):\n",
    "    #IMAGENET_MEAN, IMAGENET_STD = np.array([0.485, 0.456, 0.406]), np.array([0.229, 0.224, 0.225])\n",
    "    #image = np.clip(255.0 * (image * IMAGENET_STD + IMAGENET_MEAN), 0, 255)\n",
    "    image = image * 255.0\n",
    "    return image\n",
    "\n",
    "def tensor2image(tensor_list):\n",
    "    img = tensor_list[0].detach().cpu().numpy()\n",
    "    img = np.transpose(img, (1,2,0))\n",
    "    img = denormalize(img)\n",
    "    #img = img.astype('float32')\n",
    "    #img = cv2.cvtColor(img, cv2.COLOR_GRAY2RGB)\n",
    "    img = img.astype(np.uint8).copy()\n",
    "    return img"
   ]
  },
  {
   "cell_type": "code",
   "execution_count": 16,
   "id": "5092122d-acc2-47a3-96e1-2947d9be6fb7",
   "metadata": {},
   "outputs": [
    {
     "name": "stdout",
     "output_type": "stream",
     "text": [
      "test miou : 0.37293 test dice score : 0.49206\n"
     ]
    }
   ],
   "source": [
    "# 테스트 데이터셋\n",
    "test_data_dir = '/root/2024winter/DL_tutorial/posts/crack_segmentation_dataset/test'\n",
    "test_img_path = os.path.join(test_data_dir, 'images')\n",
    "test_mask_path = os.path.join(test_data_dir, 'masks')\n",
    "\n",
    "test_tfms = transforms.Compose([transforms.ToTensor(),\n",
    "                               transforms.Normalize(channel_means, channel_stds)])\n",
    "mask_tfms = transforms.Compose([transforms.ToTensor()])\n",
    "\n",
    "test_dataset = CrackDatasets(img_dir=test_img_path, img_transform=test_tfms,\n",
    "                            mask_dir=test_mask_path, mask_transform=mask_tfms)\n",
    "test_loader = DataLoader(test_dataset, 1, shuffle=False, num_workers=num_workers)\n",
    "\n",
    "# 모델 할당\n",
    "model = UNet(num_classes=1)\n",
    "\n",
    "best_model_path = os.path.join(*[model_dir, 'model_best.pth'])\n",
    "if best_model_path is not None:\n",
    "    state = torch.load(best_model_path)\n",
    "    epoch = state['epoch']\n",
    "    model.load_state_dict(state['model'])\n",
    "model.to(device)\n",
    "\n",
    "os.makedirs('/root/2024winter/DL_tutorial/posts/results/predicts', exist_ok=True)\n",
    "os.makedirs('/root/2024winter/DL_tutorial/posts/results/masks', exist_ok=True)\n",
    "\n",
    "output_path = '/root/2024winter/DL_tutorial/posts/results'\n",
    "evaluate(test_loader, model, output_path)"
   ]
  },
  {
   "cell_type": "markdown",
   "id": "25f039fc-e9d5-47fa-a290-c4bb5c76b393",
   "metadata": {},
   "source": [
    "#### 커스텀 데이터 다운로드\n",
    "-------------"
   ]
  },
  {
   "cell_type": "code",
   "execution_count": null,
   "id": "d749c723-ca99-4bbf-ab64-6200c8478077",
   "metadata": {},
   "outputs": [],
   "source": [
    "!unzip /root/2024winter/DL_tutorial/posts/Semantic_Segmentation_Custom.zip"
   ]
  },
  {
   "cell_type": "markdown",
   "id": "a241b52a-aac3-4e43-927f-fd9eb6000c3e",
   "metadata": {},
   "source": [
    "### CVAT 마스크 라벨 포맷 변경"
   ]
  },
  {
   "cell_type": "markdown",
   "id": "35c00f06-cd54-4e85-8bb2-596105d2c2f5",
   "metadata": {},
   "source": [
    "####  .png $\\to\\$ .jpg"
   ]
  },
  {
   "cell_type": "code",
   "execution_count": 21,
   "id": "61382b5e-ccbc-4510-97ca-a89fc9cf4477",
   "metadata": {},
   "outputs": [],
   "source": [
    "from PIL import Image\n",
    "root_dir = '/root/2024winter/DL_tutorial/posts/Semantic_Custom_Datasets/masks'\n",
    "for img in os.listdir(root_dir):\n",
    "    if img.split('.')[-1] in ('png', 'jpg'):\n",
    "        im = Image.open(os.path.join(root_dir, img))\n",
    "        im.save(os.path.join(root_dir, img.split('.')[0]+'.jpg'))\n",
    "        os.remove(os.path.join(root_dir, img))"
   ]
  },
  {
   "cell_type": "markdown",
   "id": "a5038a4c-fa97-48f9-afd6-53c2828a7599",
   "metadata": {},
   "source": [
    "#### 커스텀 데이터셋 성능 평가"
   ]
  },
  {
   "cell_type": "code",
   "execution_count": 22,
   "id": "432867f4-eef8-4e00-a235-03631d096a2f",
   "metadata": {},
   "outputs": [
    {
     "ename": "FileNotFoundError",
     "evalue": "Caught FileNotFoundError in DataLoader worker process 0.\nOriginal Traceback (most recent call last):\n  File \"/root/anaconda3/envs/dl/lib/python3.10/site-packages/torch/utils/data/_utils/worker.py\", line 302, in _worker_loop\n    data = fetcher.fetch(index)\n  File \"/root/anaconda3/envs/dl/lib/python3.10/site-packages/torch/utils/data/_utils/fetch.py\", line 49, in fetch\n    data = [self.dataset[idx] for idx in possibly_batched_index]\n  File \"/root/anaconda3/envs/dl/lib/python3.10/site-packages/torch/utils/data/_utils/fetch.py\", line 49, in <listcomp>\n    data = [self.dataset[idx] for idx in possibly_batched_index]\n  File \"/tmp/ipykernel_203176/810415501.py\", line 23, in __getitem__\n    mask = Image.open(self.mask_files[i]).convert('L')\n  File \"/root/anaconda3/envs/dl/lib/python3.10/site-packages/PIL/Image.py\", line 3218, in open\n    fp = builtins.open(filename, \"rb\")\nFileNotFoundError: [Errno 2] No such file or directory: '/root/2024winter/DL_tutorial/posts/Semantic_Custom_Datasets/masks/CFD_001.jpg'\n",
     "output_type": "error",
     "traceback": [
      "\u001b[0;31m---------------------------------------------------------------------------\u001b[0m",
      "\u001b[0;31mFileNotFoundError\u001b[0m                         Traceback (most recent call last)",
      "Cell \u001b[0;32mIn[22], line 28\u001b[0m\n\u001b[1;32m     25\u001b[0m os\u001b[38;5;241m.\u001b[39mmakedirs(\u001b[38;5;124m'\u001b[39m\u001b[38;5;124m/root/2024winter/DL_tutorial/posts/custom_results/masks\u001b[39m\u001b[38;5;124m'\u001b[39m, exist_ok\u001b[38;5;241m=\u001b[39m\u001b[38;5;28;01mTrue\u001b[39;00m)\n\u001b[1;32m     27\u001b[0m output_path \u001b[38;5;241m=\u001b[39m \u001b[38;5;124m'\u001b[39m\u001b[38;5;124m/root/2024winter/DL_tutorial/posts/custom_results\u001b[39m\u001b[38;5;124m'\u001b[39m\n\u001b[0;32m---> 28\u001b[0m \u001b[43mevaluate\u001b[49m\u001b[43m(\u001b[49m\u001b[43mtest_loader\u001b[49m\u001b[43m,\u001b[49m\u001b[43m \u001b[49m\u001b[43mmodel\u001b[49m\u001b[43m,\u001b[49m\u001b[43m \u001b[49m\u001b[43moutput_path\u001b[49m\u001b[43m)\u001b[49m\n",
      "Cell \u001b[0;32mIn[14], line 7\u001b[0m, in \u001b[0;36mevaluate\u001b[0;34m(test_loader, model, output_path)\u001b[0m\n\u001b[1;32m      5\u001b[0m model\u001b[38;5;241m.\u001b[39meval()\n\u001b[1;32m      6\u001b[0m \u001b[38;5;28;01mwith\u001b[39;00m torch\u001b[38;5;241m.\u001b[39mno_grad():\n\u001b[0;32m----> 7\u001b[0m     \u001b[38;5;28;01mfor\u001b[39;00m i, (\u001b[38;5;28minput\u001b[39m, target) \u001b[38;5;129;01min\u001b[39;00m \u001b[38;5;28menumerate\u001b[39m(test_loader):\n\u001b[1;32m      8\u001b[0m         input_var \u001b[38;5;241m=\u001b[39m Variable(\u001b[38;5;28minput\u001b[39m)\u001b[38;5;241m.\u001b[39mto(device)\n\u001b[1;32m      9\u001b[0m         target_var \u001b[38;5;241m=\u001b[39m Variable(target)\u001b[38;5;241m.\u001b[39mto(device)\n",
      "File \u001b[0;32m~/anaconda3/envs/dl/lib/python3.10/site-packages/torch/utils/data/dataloader.py:681\u001b[0m, in \u001b[0;36m_BaseDataLoaderIter.__next__\u001b[0;34m(self)\u001b[0m\n\u001b[1;32m    678\u001b[0m \u001b[38;5;28;01mif\u001b[39;00m \u001b[38;5;28mself\u001b[39m\u001b[38;5;241m.\u001b[39m_sampler_iter \u001b[38;5;129;01mis\u001b[39;00m \u001b[38;5;28;01mNone\u001b[39;00m:\n\u001b[1;32m    679\u001b[0m     \u001b[38;5;66;03m# TODO(https://github.com/pytorch/pytorch/issues/76750)\u001b[39;00m\n\u001b[1;32m    680\u001b[0m     \u001b[38;5;28mself\u001b[39m\u001b[38;5;241m.\u001b[39m_reset()  \u001b[38;5;66;03m# type: ignore[call-arg]\u001b[39;00m\n\u001b[0;32m--> 681\u001b[0m data \u001b[38;5;241m=\u001b[39m \u001b[38;5;28;43mself\u001b[39;49m\u001b[38;5;241;43m.\u001b[39;49m\u001b[43m_next_data\u001b[49m\u001b[43m(\u001b[49m\u001b[43m)\u001b[49m\n\u001b[1;32m    682\u001b[0m \u001b[38;5;28mself\u001b[39m\u001b[38;5;241m.\u001b[39m_num_yielded \u001b[38;5;241m+\u001b[39m\u001b[38;5;241m=\u001b[39m \u001b[38;5;241m1\u001b[39m\n\u001b[1;32m    683\u001b[0m \u001b[38;5;28;01mif\u001b[39;00m \u001b[38;5;28mself\u001b[39m\u001b[38;5;241m.\u001b[39m_dataset_kind \u001b[38;5;241m==\u001b[39m _DatasetKind\u001b[38;5;241m.\u001b[39mIterable \u001b[38;5;129;01mand\u001b[39;00m \\\n\u001b[1;32m    684\u001b[0m         \u001b[38;5;28mself\u001b[39m\u001b[38;5;241m.\u001b[39m_IterableDataset_len_called \u001b[38;5;129;01mis\u001b[39;00m \u001b[38;5;129;01mnot\u001b[39;00m \u001b[38;5;28;01mNone\u001b[39;00m \u001b[38;5;129;01mand\u001b[39;00m \\\n\u001b[1;32m    685\u001b[0m         \u001b[38;5;28mself\u001b[39m\u001b[38;5;241m.\u001b[39m_num_yielded \u001b[38;5;241m>\u001b[39m \u001b[38;5;28mself\u001b[39m\u001b[38;5;241m.\u001b[39m_IterableDataset_len_called:\n",
      "File \u001b[0;32m~/anaconda3/envs/dl/lib/python3.10/site-packages/torch/utils/data/dataloader.py:1376\u001b[0m, in \u001b[0;36m_MultiProcessingDataLoaderIter._next_data\u001b[0;34m(self)\u001b[0m\n\u001b[1;32m   1374\u001b[0m \u001b[38;5;28;01melse\u001b[39;00m:\n\u001b[1;32m   1375\u001b[0m     \u001b[38;5;28;01mdel\u001b[39;00m \u001b[38;5;28mself\u001b[39m\u001b[38;5;241m.\u001b[39m_task_info[idx]\n\u001b[0;32m-> 1376\u001b[0m     \u001b[38;5;28;01mreturn\u001b[39;00m \u001b[38;5;28;43mself\u001b[39;49m\u001b[38;5;241;43m.\u001b[39;49m\u001b[43m_process_data\u001b[49m\u001b[43m(\u001b[49m\u001b[43mdata\u001b[49m\u001b[43m)\u001b[49m\n",
      "File \u001b[0;32m~/anaconda3/envs/dl/lib/python3.10/site-packages/torch/utils/data/dataloader.py:1402\u001b[0m, in \u001b[0;36m_MultiProcessingDataLoaderIter._process_data\u001b[0;34m(self, data)\u001b[0m\n\u001b[1;32m   1400\u001b[0m \u001b[38;5;28mself\u001b[39m\u001b[38;5;241m.\u001b[39m_try_put_index()\n\u001b[1;32m   1401\u001b[0m \u001b[38;5;28;01mif\u001b[39;00m \u001b[38;5;28misinstance\u001b[39m(data, ExceptionWrapper):\n\u001b[0;32m-> 1402\u001b[0m     \u001b[43mdata\u001b[49m\u001b[38;5;241;43m.\u001b[39;49m\u001b[43mreraise\u001b[49m\u001b[43m(\u001b[49m\u001b[43m)\u001b[49m\n\u001b[1;32m   1403\u001b[0m \u001b[38;5;28;01mreturn\u001b[39;00m data\n",
      "File \u001b[0;32m~/anaconda3/envs/dl/lib/python3.10/site-packages/torch/_utils.py:461\u001b[0m, in \u001b[0;36mExceptionWrapper.reraise\u001b[0;34m(self)\u001b[0m\n\u001b[1;32m    457\u001b[0m \u001b[38;5;28;01mexcept\u001b[39;00m \u001b[38;5;167;01mTypeError\u001b[39;00m:\n\u001b[1;32m    458\u001b[0m     \u001b[38;5;66;03m# If the exception takes multiple arguments, don't try to\u001b[39;00m\n\u001b[1;32m    459\u001b[0m     \u001b[38;5;66;03m# instantiate since we don't know how to\u001b[39;00m\n\u001b[1;32m    460\u001b[0m     \u001b[38;5;28;01mraise\u001b[39;00m \u001b[38;5;167;01mRuntimeError\u001b[39;00m(msg) \u001b[38;5;28;01mfrom\u001b[39;00m \u001b[38;5;28;01mNone\u001b[39;00m\n\u001b[0;32m--> 461\u001b[0m \u001b[38;5;28;01mraise\u001b[39;00m exception\n",
      "\u001b[0;31mFileNotFoundError\u001b[0m: Caught FileNotFoundError in DataLoader worker process 0.\nOriginal Traceback (most recent call last):\n  File \"/root/anaconda3/envs/dl/lib/python3.10/site-packages/torch/utils/data/_utils/worker.py\", line 302, in _worker_loop\n    data = fetcher.fetch(index)\n  File \"/root/anaconda3/envs/dl/lib/python3.10/site-packages/torch/utils/data/_utils/fetch.py\", line 49, in fetch\n    data = [self.dataset[idx] for idx in possibly_batched_index]\n  File \"/root/anaconda3/envs/dl/lib/python3.10/site-packages/torch/utils/data/_utils/fetch.py\", line 49, in <listcomp>\n    data = [self.dataset[idx] for idx in possibly_batched_index]\n  File \"/tmp/ipykernel_203176/810415501.py\", line 23, in __getitem__\n    mask = Image.open(self.mask_files[i]).convert('L')\n  File \"/root/anaconda3/envs/dl/lib/python3.10/site-packages/PIL/Image.py\", line 3218, in open\n    fp = builtins.open(filename, \"rb\")\nFileNotFoundError: [Errno 2] No such file or directory: '/root/2024winter/DL_tutorial/posts/Semantic_Custom_Datasets/masks/CFD_001.jpg'\n"
     ]
    }
   ],
   "source": [
    "test_data_dir = '/root/2024winter/DL_tutorial/posts/Semantic_Custom_Datasets'\n",
    "test_img_path = os.path.join(test_data_dir, 'images')\n",
    "test_mask_path = os.path.join(test_data_dir, 'masks')\n",
    "\n",
    "test_tfms = transforms.Compose([transforms.ToTensor(),\n",
    "                               transforms.Normalize(channel_means, channel_stds)])\n",
    "mask_tfms = transforms.Compose([transforms.ToTensor()])\n",
    "\n",
    "test_dataset = CrackDatasets(img_dir=test_img_path, img_transform=test_tfms, mask_dir=test_mask_path, mask_transform=mask_tfms)\n",
    "test_loader = DataLoader(test_dataset, 1, shuffle=False, num_workers=num_workers)\n",
    "\n",
    "# 모델 할당\n",
    "model = UNet(num_classes=1)\n",
    "best_model_path = os.path.join(*[model_dir, 'model_best.pth'])\n",
    "\n",
    "if best_model_path is not None:\n",
    "    state = torch.load(best_model_path)\n",
    "    epoch = state['epoch']\n",
    "    model.load_state_dict(state['model'])\n",
    "\n",
    "model.to(device)\n",
    "\n",
    "# 결과물 저장 폴더 생성\n",
    "os.makedirs('/root/2024winter/DL_tutorial/posts/custom_results/predicts', exist_ok=True)\n",
    "os.makedirs('/root/2024winter/DL_tutorial/posts/custom_results/masks', exist_ok=True)\n",
    "\n",
    "output_path = '/root/2024winter/DL_tutorial/posts/custom_results'\n",
    "evaluate(test_loader, model, output_path)"
   ]
  },
  {
   "cell_type": "code",
   "execution_count": null,
   "id": "ffe427fb-412b-4886-a07a-ec3ae79076e1",
   "metadata": {},
   "outputs": [],
   "source": []
  }
 ],
 "metadata": {
  "kernelspec": {
   "display_name": "Python 3 (ipykernel)",
   "language": "python",
   "name": "python3"
  },
  "language_info": {
   "codemirror_mode": {
    "name": "ipython",
    "version": 3
   },
   "file_extension": ".py",
   "mimetype": "text/x-python",
   "name": "python",
   "nbconvert_exporter": "python",
   "pygments_lexer": "ipython3",
   "version": "3.10.13"
  }
 },
 "nbformat": 4,
 "nbformat_minor": 5
}
