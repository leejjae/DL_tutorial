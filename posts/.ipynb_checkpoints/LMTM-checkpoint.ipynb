{
 "cells": [
  {
   "cell_type": "raw",
   "id": "350b87ec-04eb-4376-8876-69b4484d0c97",
   "metadata": {},
   "source": [
    "---\n",
    "\"title\": \"LMTM\"\n",
    "\"author\": \"이정재\"\n",
    "\"date\": \"2024-01-31\"\n",
    "---"
   ]
  },
  {
   "cell_type": "markdown",
   "id": "8360c724-c342-42d9-acde-6133eacc4dea",
   "metadata": {},
   "source": [
    "## Sentimental Analysis\n",
    "----"
   ]
  },
  {
   "cell_type": "markdown",
   "id": "712e37ed-a5b1-422e-af1f-dce58401fdb5",
   "metadata": {},
   "source": [
    "- **many to one**\n",
    "    - 영화 리뷰 텍스트(many)를 입력으로 받아 긍정 또는 부정(one)을 출력하는 구조\n",
    "    - **Embedding**: 영화 리뷰(text)를 벡터로 변환하는 연산\n",
    "    - **LSTM**: 시계열 데이터를 처리하기 위한 구조\n",
    "    - **Linear**: 결과 출력"
   ]
  },
  {
   "cell_type": "markdown",
   "id": "29725c33-e699-4054-898f-78ae2b0c9e37",
   "metadata": {},
   "source": [
    "## `Step 1` : Load libraries & Datsets"
   ]
  },
  {
   "cell_type": "code",
   "execution_count": 1,
   "id": "3a9d65f7-b8c6-465a-b1ea-3ab4e1271d17",
   "metadata": {},
   "outputs": [],
   "source": [
    "import pandas as pd\n",
    "import numpy as np\n",
    "import matplotlib.pyplot as plt\n",
    "import seaborn as sns\n",
    "\n",
    "import torch\n",
    "from torch import nn\n",
    "from torch.optim import Adam\n",
    "from torch.utils.data import TensorDataset, DataLoader\n",
    "\n",
    "import os\n",
    "from tqdm import tqdm\n",
    "tqdm.pandas()\n",
    "from collections import Counter"
   ]
  },
  {
   "cell_type": "code",
   "execution_count": 2,
   "id": "3facb110-2235-4568-9fd2-a4dafeff1c15",
   "metadata": {},
   "outputs": [
    {
     "data": {
      "text/html": [
       "<div>\n",
       "<style scoped>\n",
       "    .dataframe tbody tr th:only-of-type {\n",
       "        vertical-align: middle;\n",
       "    }\n",
       "\n",
       "    .dataframe tbody tr th {\n",
       "        vertical-align: top;\n",
       "    }\n",
       "\n",
       "    .dataframe thead th {\n",
       "        text-align: right;\n",
       "    }\n",
       "</style>\n",
       "<table border=\"1\" class=\"dataframe\">\n",
       "  <thead>\n",
       "    <tr style=\"text-align: right;\">\n",
       "      <th></th>\n",
       "      <th>processed</th>\n",
       "      <th>label</th>\n",
       "    </tr>\n",
       "  </thead>\n",
       "  <tbody>\n",
       "    <tr>\n",
       "      <th>0</th>\n",
       "      <td>One reviewer mentioned watching Oz episode hoo...</td>\n",
       "      <td>1</td>\n",
       "    </tr>\n",
       "    <tr>\n",
       "      <th>1</th>\n",
       "      <td>A wonderful little production . The filming te...</td>\n",
       "      <td>1</td>\n",
       "    </tr>\n",
       "    <tr>\n",
       "      <th>2</th>\n",
       "      <td>I thought wonderful way spend time hot summer ...</td>\n",
       "      <td>1</td>\n",
       "    </tr>\n",
       "    <tr>\n",
       "      <th>3</th>\n",
       "      <td>Basically family little boy Jake think zombie ...</td>\n",
       "      <td>0</td>\n",
       "    </tr>\n",
       "    <tr>\n",
       "      <th>4</th>\n",
       "      <td>Petter Mattei Love Time Money visually stunnin...</td>\n",
       "      <td>1</td>\n",
       "    </tr>\n",
       "  </tbody>\n",
       "</table>\n",
       "</div>"
      ],
      "text/plain": [
       "                                           processed  label\n",
       "0  One reviewer mentioned watching Oz episode hoo...      1\n",
       "1  A wonderful little production . The filming te...      1\n",
       "2  I thought wonderful way spend time hot summer ...      1\n",
       "3  Basically family little boy Jake think zombie ...      0\n",
       "4  Petter Mattei Love Time Money visually stunnin...      1"
      ]
     },
     "execution_count": 2,
     "metadata": {},
     "output_type": "execute_result"
    }
   ],
   "source": [
    "data = pd.read_csv('exercise4.csv')\n",
    "data.head()"
   ]
  },
  {
   "cell_type": "code",
   "execution_count": 3,
   "id": "45cb267e-9fda-486b-abdf-caffd9ab2ac2",
   "metadata": {},
   "outputs": [
    {
     "data": {
      "text/plain": [
       "'One reviewer mentioned watching Oz episode hooked . They right , exactly happened . The first thing struck Oz brutality unflinching scene violence , set right word GO . Trust , show faint hearted timid . This show pull punch regard drug , sex violence . Its hardcore , classic use word . It called OZ nickname given Oswald Maximum Security State Penitentary . It focus mainly Emerald City , experimental section prison cell glass front face inwards , privacy high agenda . Em City home many . . Aryans , Muslims , gangsta , Latinos , Christians , Italians , Irish . . . . scuffle , death stare , dodgy dealing shady agreement never far away . I would say main appeal show due fact go show dare . Forget pretty picture painted mainstream audience , forget charm , forget romance . . . OZ mess around . The first episode I ever saw struck nasty surreal , I say I ready , I watched , I developed taste Oz , got accustomed high level graphic violence . Not violence , injustice crooked guard sold nickel , inmate kill order get away , well mannered , middle class inmate turned prison bitch due lack street skill prison experience Watching Oz , may become comfortable uncomfortable viewing . . . . thats get touch darker side .'"
      ]
     },
     "execution_count": 3,
     "metadata": {},
     "output_type": "execute_result"
    }
   ],
   "source": [
    "data['processed'][0]"
   ]
  },
  {
   "cell_type": "code",
   "execution_count": 4,
   "id": "8089c1a1-c2da-4d20-8dda-ba6887552f73",
   "metadata": {},
   "outputs": [],
   "source": [
    "data['processed'] = data['processed'].str.lower().replace(r\"[^a-zA-Z ]\", \"\", regex=True)"
   ]
  },
  {
   "cell_type": "code",
   "execution_count": 5,
   "id": "5800f510-6657-4e36-ae40-bbb560fac00c",
   "metadata": {},
   "outputs": [
    {
     "data": {
      "text/plain": [
       "'one reviewer mentioned watching oz episode hooked  they right  exactly happened  the first thing struck oz brutality unflinching scene violence  set right word go  trust  show faint hearted timid  this show pull punch regard drug  sex violence  its hardcore  classic use word  it called oz nickname given oswald maximum security state penitentary  it focus mainly emerald city  experimental section prison cell glass front face inwards  privacy high agenda  em city home many   aryans  muslims  gangsta  latinos  christians  italians  irish     scuffle  death stare  dodgy dealing shady agreement never far away  i would say main appeal show due fact go show dare  forget pretty picture painted mainstream audience  forget charm  forget romance    oz mess around  the first episode i ever saw struck nasty surreal  i say i ready  i watched  i developed taste oz  got accustomed high level graphic violence  not violence  injustice crooked guard sold nickel  inmate kill order get away  well mannered  middle class inmate turned prison bitch due lack street skill prison experience watching oz  may become comfortable uncomfortable viewing     thats get touch darker side '"
      ]
     },
     "execution_count": 5,
     "metadata": {},
     "output_type": "execute_result"
    }
   ],
   "source": [
    "data['processed'][0]"
   ]
  },
  {
   "cell_type": "markdown",
   "id": "60ba7842-8920-40a8-aee6-4d54903238d4",
   "metadata": {},
   "source": [
    "###  - 사전생성\n",
    "\n",
    " * 리뷰 문장에 들어있는 단어들을 추출하고, 각각의 단어에 숫자를 부여하는 작업\n",
    " * ['one', 'reviewer', 'mentioned', 'watching', 'oz', 'episode', 'hooked']"
   ]
  },
  {
   "cell_type": "code",
   "execution_count": 7,
   "id": "b035f2ea-b2b6-4fdf-89fc-b9cb9a9996ee",
   "metadata": {},
   "outputs": [
    {
     "data": {
      "text/plain": [
       "['one',\n",
       " 'reviewer',\n",
       " 'mentioned',\n",
       " 'watching',\n",
       " 'oz',\n",
       " 'episode',\n",
       " 'hooked',\n",
       " 'they',\n",
       " 'right',\n",
       " 'exactly']"
      ]
     },
     "execution_count": 7,
     "metadata": {},
     "output_type": "execute_result"
    }
   ],
   "source": [
    "# 문장에 포함된 단어 토큰화\n",
    "reviews = data['processed'].values\n",
    "words = ' '.join(reviews).split()\n",
    "words[:10]"
   ]
  },
  {
   "cell_type": "code",
   "execution_count": 63,
   "id": "af1fb683-0ac6-4f59-b558-d7e97e57403f",
   "metadata": {},
   "outputs": [],
   "source": [
    "counter = Counter(words)\n",
    "vocab = sorted(counter, key=counter.get, reverse=True)\n",
    "int2word = dict(enumerate(vocab, 1))\n",
    "int2word[0] = '<PAD>'\n",
    "word2int = {word: id for id, word in int2word.items()}\n",
    "#word2int"
   ]
  },
  {
   "cell_type": "code",
   "execution_count": 26,
   "id": "9a976b8d-ef89-4c36-a6f1-a9940e7c9ce6",
   "metadata": {},
   "outputs": [
    {
     "data": {
      "text/plain": [
       "0"
      ]
     },
     "execution_count": 26,
     "metadata": {},
     "output_type": "execute_result"
    }
   ],
   "source": [
    "word2int['<PAD>']"
   ]
  },
  {
   "cell_type": "markdown",
   "id": "b88c9639-0ea3-4f34-b94c-3325dc5f2241",
   "metadata": {},
   "source": [
    "### - 리뷰 인코딩\n",
    " * 리뷰에 포함된 단어를 숫자형태로 변환하는 작업\n",
    " * {'i': 1, 'movie': 2, 'film': 3, 'the': 4, 'one': 5, 'like': 6, 'it': 7, 'time': 8, 'this': 9, 'good': 10, 'character': 11,...}"
   ]
  },
  {
   "cell_type": "code",
   "execution_count": 9,
   "id": "88419428-ac2f-45e2-9177-718848e993c3",
   "metadata": {},
   "outputs": [
    {
     "name": "stderr",
     "output_type": "stream",
     "text": [
      "100%|██████████████████████████████████████████████████████████████████████████| 50000/50000 [00:02<00:00, 24930.36it/s]\n"
     ]
    }
   ],
   "source": [
    "reviews_enc = [[word2int[word] for word in review.split()] for review in tqdm(reviews)]"
   ]
  },
  {
   "cell_type": "code",
   "execution_count": 10,
   "id": "b0fe25ab-4acb-48e4-81b9-34928f4dea78",
   "metadata": {},
   "outputs": [
    {
     "data": {
      "text/plain": [
       "[1095, 972, 74, 2893, 186, 2982, 119, 114, 538]"
      ]
     },
     "execution_count": 10,
     "metadata": {},
     "output_type": "execute_result"
    }
   ],
   "source": [
    "reviews_enc[0][1:10]"
   ]
  },
  {
   "cell_type": "code",
   "execution_count": 11,
   "id": "d7067ca8-258e-4ace-bf9d-93492655731e",
   "metadata": {},
   "outputs": [
    {
     "data": {
      "text/plain": [
       "'one reviewer mentioned watching oz episode hooked  they right  exactly happened  the first thing struck oz brutality unflinching scene violence  set right word go  trust  show faint hearted timid  this show pull punch regard drug  sex violence  its hardcore  classic use word  it called oz nickname given oswald maximum security state penitentary  it focus mainly emerald city  experimental section prison cell glass front face inwards  privacy high agenda  em city home many   aryans  muslims  gangsta  latinos  christians  italians  irish     scuffle  death stare  dodgy dealing shady agreement never far away  i would say main appeal show due fact go show dare  forget pretty picture painted mainstream audience  forget charm  forget romance    oz mess around  the first episode i ever saw struck nasty surreal  i say i ready  i watched  i developed taste oz  got accustomed high level graphic violence  not violence  injustice crooked guard sold nickel  inmate kill order get away  well mannered  middle class inmate turned prison bitch due lack street skill prison experience watching oz  may become comfortable uncomfortable viewing     thats get touch darker side '"
      ]
     },
     "execution_count": 11,
     "metadata": {},
     "output_type": "execute_result"
    }
   ],
   "source": [
    "data['processed'][0]"
   ]
  },
  {
   "cell_type": "code",
   "execution_count": 12,
   "id": "9cf5b2bf-6f5f-4e85-878a-f9da5978effd",
   "metadata": {},
   "outputs": [
    {
     "data": {
      "text/plain": [
       "(5, 1095, 972)"
      ]
     },
     "execution_count": 12,
     "metadata": {},
     "output_type": "execute_result"
    }
   ],
   "source": [
    "word2int['one'], word2int['reviewer'], word2int['mentioned']"
   ]
  },
  {
   "cell_type": "code",
   "execution_count": 13,
   "id": "ea404ea8-e029-4331-b10d-64adf5c0bf19",
   "metadata": {},
   "outputs": [
    {
     "data": {
      "text/plain": [
       "0        [5, 1095, 972, 74, 2893, 186, 2982, 119, 114, ...\n",
       "1        [45, 311, 53, 247, 4, 1270, 1633, 16086, 78, 8...\n",
       "2        [1, 97, 311, 28, 1053, 8, 763, 1343, 2345, 112...\n",
       "3        [591, 130, 53, 221, 3123, 33, 565, 3653, 608, ...\n",
       "4        [57645, 9676, 39, 8, 203, 1993, 1312, 3, 37, 3...\n",
       "                               ...                        \n",
       "49995    [1, 97, 2, 114, 10, 191, 7, 1413, 128, 26, 913...\n",
       "49996    [22, 40, 22, 307, 22, 50, 2847, 869, 545, 1364...\n",
       "49997    [1, 3168, 4064, 34678, 7571, 269, 4234, 4064, ...\n",
       "49998    [1, 86, 2839, 825, 369, 348, 9292, 5, 9, 208, ...\n",
       "49999    [264, 5, 5445, 109, 1941, 2, 213, 328, 123, 44...\n",
       "Name: encoded, Length: 50000, dtype: object"
      ]
     },
     "execution_count": 13,
     "metadata": {},
     "output_type": "execute_result"
    }
   ],
   "source": [
    "data['encoded'] = reviews_enc\n",
    "data['encoded']"
   ]
  },
  {
   "cell_type": "markdown",
   "id": "d1ec7fe5-0ce1-4154-b664-302c99c64779",
   "metadata": {},
   "source": [
    "### - 길이 맞춰주기(padding or trim)\n",
    " * 신경망의 입력으로 사용하기 위해 일정 길이만큼 맞춰주는 작업\n",
    " * 길이가 긴 문장은 잘라주고(trim), 길이가 짧은 문장은 채워주는(padding) 작업"
   ]
  },
  {
   "cell_type": "code",
   "execution_count": 49,
   "id": "a9643445-9286-4fe8-bf27-a06b27722135",
   "metadata": {},
   "outputs": [],
   "source": [
    "def pad_features(reviews, pad_id, seq_length=128):\n",
    "    features = np.full((len(reviews), seq_length), pad_id, dtype=int)\n",
    "\n",
    "    for i, row in enumerate(reviews):\n",
    "        features[i, :len(row)] = np.array(row)[:seq_length]\n",
    "\n",
    "    return features\n",
    "\n",
    "seq_length = 256\n",
    "features = pad_features(reviews_enc, pad_id=word2int['<PAD>'], seq_length=seq_length)\n",
    "\n",
    "assert len(features) == len(reviews_enc)\n",
    "assert len(features[0]) == seq_length"
   ]
  },
  {
   "cell_type": "code",
   "execution_count": 64,
   "id": "60ed6399-c492-4ccd-b6e0-6170ddd8d3f2",
   "metadata": {},
   "outputs": [
    {
     "data": {
      "text/plain": [
       "array([[2, 2, 2],\n",
       "       [2, 2, 2],\n",
       "       [2, 2, 2],\n",
       "       [2, 2, 2],\n",
       "       [2, 2, 2]])"
      ]
     },
     "execution_count": 64,
     "metadata": {},
     "output_type": "execute_result"
    }
   ],
   "source": [
    "np.full((5,3),2)"
   ]
  },
  {
   "cell_type": "code",
   "execution_count": 50,
   "id": "0185efe2-7ed6-4c52-a84d-62756506c9f2",
   "metadata": {},
   "outputs": [
    {
     "data": {
      "text/plain": [
       "0"
      ]
     },
     "execution_count": 50,
     "metadata": {},
     "output_type": "execute_result"
    }
   ],
   "source": [
    "word2int['<PAD>']"
   ]
  },
  {
   "cell_type": "code",
   "execution_count": 51,
   "id": "ea44f8db-df5f-4248-bc3f-726bb75a7657",
   "metadata": {},
   "outputs": [
    {
     "data": {
      "text/plain": [
       "array([1, 1, 1, ..., 0, 0, 0])"
      ]
     },
     "execution_count": 51,
     "metadata": {},
     "output_type": "execute_result"
    }
   ],
   "source": [
    "labels = data['label'].to_numpy()\n",
    "labels"
   ]
  },
  {
   "cell_type": "markdown",
   "id": "27f27993-d23c-485c-9de4-e8cd6dc9ce47",
   "metadata": {},
   "source": [
    "### - 데이터 분할"
   ]
  },
  {
   "cell_type": "code",
   "execution_count": 52,
   "id": "baa46b5b-69b4-4cad-9c66-29a607a7c96e",
   "metadata": {},
   "outputs": [
    {
     "name": "stdout",
     "output_type": "stream",
     "text": [
      "Train X shape: (32000, 256), Valid X shape: (8000, 256), Test X shape: (10000, 256)\n",
      "Train y shape: (32000,), Valid y shape: (8000,), Test y shape: (10000,)\n"
     ]
    }
   ],
   "source": [
    "# train test split\n",
    "train_size = .8\n",
    "split_id = int(len(features) * train_size)\n",
    "train_x, test_x, train_y, test_y = features[:split_id], features[split_id:], labels[:split_id], labels[split_id:]\n",
    "\n",
    "split_id = int(len(train_x) * train_size)\n",
    "train_x, valid_x, train_y, valid_y = train_x[:split_id], train_x[split_id:], train_y[:split_id], train_y[split_id:]\n",
    "\n",
    "print('Train X shape: {}, Valid X shape: {}, Test X shape: {}'.format(train_x.shape, valid_x.shape, test_x.shape))\n",
    "print('Train y shape: {}, Valid y shape: {}, Test y shape: {}'.format(train_y.shape, valid_y.shape, test_y.shape))"
   ]
  },
  {
   "cell_type": "markdown",
   "id": "19cb41fd-bf3c-4265-8e01-714123b38513",
   "metadata": {},
   "source": [
    "## `Step 2` : Create DataLoader "
   ]
  },
  {
   "cell_type": "code",
   "execution_count": 53,
   "id": "ec9dca89-ea27-497d-8be7-8e8ba63f7f3a",
   "metadata": {},
   "outputs": [
    {
     "name": "stdout",
     "output_type": "stream",
     "text": [
      "cuda\n"
     ]
    }
   ],
   "source": [
    "# set hyperparameter\n",
    "device = torch.device('cuda' if torch.cuda.is_available() else 'cpu')\n",
    "print(device)\n",
    "\n",
    "lr = 0.001\n",
    "batch_size = 128\n",
    "vocab_size = len(word2int)\n",
    "embedding_size = 256\n",
    "dropout = 0.25\n",
    "\n",
    "epochs = 8\n",
    "history = {\n",
    "    'train_loss': [],\n",
    "    'train_acc': [],\n",
    "    'val_loss': [],\n",
    "    'val_acc': [],\n",
    "    'epochs': epochs\n",
    "}\n",
    "\n",
    "es_limit = 5"
   ]
  },
  {
   "cell_type": "code",
   "execution_count": 54,
   "id": "b1642650-8867-4b18-a827-4e53a7756123",
   "metadata": {},
   "outputs": [],
   "source": [
    "trainset = TensorDataset(torch.from_numpy(train_x), torch.from_numpy(train_y))\n",
    "validset = TensorDataset(torch.from_numpy(valid_x), torch.from_numpy(valid_y))\n",
    "testset = TensorDataset(torch.from_numpy(test_x), torch.from_numpy(test_y))\n",
    "\n",
    "trainloader = DataLoader(trainset, shuffle=True, batch_size=batch_size)\n",
    "valloader = DataLoader(validset, shuffle=True, batch_size=batch_size)\n",
    "testloader = DataLoader(testset, shuffle=True, batch_size=batch_size)"
   ]
  },
  {
   "cell_type": "markdown",
   "id": "61dd6e2e-109c-4e37-97d7-13789d26465f",
   "metadata": {},
   "source": [
    "## `Step 3` : Set Network Structure"
   ]
  },
  {
   "cell_type": "code",
   "execution_count": 55,
   "id": "d3c5721f-8e77-40a5-b688-43cbbcc0b46f",
   "metadata": {},
   "outputs": [],
   "source": [
    "class LSTMClassifier(nn.Module):\n",
    "    def __init__(self, vocab_size, embedding_size=400):\n",
    "        super(LSTMClassifier, self).__init__()\n",
    "        self.embedding = nn.Embedding(vocab_size, embedding_size)\n",
    "        self.lstm = nn.LSTM(embedding_size, 512, 2, dropout=0.25, batch_first=True)\n",
    "        self.dropout = nn.Dropout(0.3)\n",
    "        self.fc = nn.Linear(512, 1)\n",
    "        self.sigmoid = nn.Sigmoid()\n",
    "\n",
    "    def forward(self, x):\n",
    "        x = x.long()\n",
    "        x = self.embedding(x)\n",
    "        o, _ = self.lstm(x)\n",
    "        o = o[:, -1, :]\n",
    "        o = self.dropout(o)\n",
    "        o = self.fc(o)\n",
    "        o = self.sigmoid(o)\n",
    "\n",
    "        return o"
   ]
  },
  {
   "cell_type": "markdown",
   "id": "8941464a-4e14-4450-8378-951a05244914",
   "metadata": {},
   "source": [
    "## `Step 4` : Create Model instance "
   ]
  },
  {
   "cell_type": "code",
   "execution_count": 56,
   "id": "55d4ac37-ca95-48ad-a5eb-0948cc2a4989",
   "metadata": {},
   "outputs": [
    {
     "name": "stdout",
     "output_type": "stream",
     "text": [
      "LSTMClassifier(\n",
      "  (embedding): Embedding(96140, 256)\n",
      "  (lstm): LSTM(256, 512, num_layers=2, batch_first=True, dropout=0.25)\n",
      "  (dropout): Dropout(p=0.3, inplace=False)\n",
      "  (fc): Linear(in_features=512, out_features=1, bias=True)\n",
      "  (sigmoid): Sigmoid()\n",
      ")\n"
     ]
    }
   ],
   "source": [
    "model = LSTMClassifier(vocab_size, embedding_size).to(device)\n",
    "print(model)"
   ]
  },
  {
   "cell_type": "markdown",
   "id": "0051f48c-74b9-4004-9526-1b0b31f07710",
   "metadata": {},
   "source": [
    "## `Step 5` : Model compile "
   ]
  },
  {
   "cell_type": "code",
   "execution_count": 57,
   "id": "4137ba8e-243e-4554-8bd1-ed43d3c109cc",
   "metadata": {},
   "outputs": [],
   "source": [
    "criterion = nn.BCELoss()\n",
    "optim = Adam(model.parameters(), lr=lr)"
   ]
  },
  {
   "cell_type": "markdown",
   "id": "eaf519e4-04a5-41c9-9945-6078b0787525",
   "metadata": {},
   "source": [
    "## `Step 6` : Set train loop"
   ]
  },
  {
   "cell_type": "code",
   "execution_count": 58,
   "id": "1c73ad1d-b5f7-435c-a93a-a1749b687431",
   "metadata": {},
   "outputs": [],
   "source": [
    "def train(model, trainloader):\n",
    "    model.train()\n",
    "\n",
    "    train_loss = 0\n",
    "    train_acc = 0\n",
    "\n",
    "    for id, (X, y) in enumerate(trainloader):\n",
    "        X, y = X.to(device), y.to(device)\n",
    "        optim.zero_grad()\n",
    "        y_pred = model(X)\n",
    "        loss = criterion(y_pred.squeeze(), y.float())\n",
    "        loss.backward()\n",
    "        optim.step()\n",
    "\n",
    "        train_loss += loss.item()\n",
    "        y_pred = torch.tensor([1 if i == True else 0 for i in y_pred > 0.5], device=device)\n",
    "        equals = y_pred == y\n",
    "        acc = torch.mean(equals.type(torch.FloatTensor))\n",
    "        train_acc += acc.item()\n",
    "\n",
    "    history['train_loss'].append(train_loss / len(trainloader))\n",
    "    history['train_acc'].append(train_acc / len(trainloader))\n",
    "\n",
    "    return train_loss, train_acc"
   ]
  },
  {
   "cell_type": "markdown",
   "id": "3f2d2772-5cdc-4f7e-b4da-76a4645ac446",
   "metadata": {},
   "source": [
    "## `Step 7` : Set test loop"
   ]
  },
  {
   "cell_type": "code",
   "execution_count": 59,
   "id": "28fc51a1-fe04-4270-9509-6e92839b9656",
   "metadata": {},
   "outputs": [],
   "source": [
    "def validation(model, valloader):\n",
    "    model.eval()\n",
    "\n",
    "    val_loss = 0\n",
    "    val_acc = 0\n",
    "\n",
    "    with torch.no_grad():\n",
    "        for id, (X,y) in enumerate(valloader):\n",
    "            X, y = X.to(device), y.to(device)\n",
    "            y_pred = model(X)\n",
    "            loss = criterion(y_pred.squeeze(), y.float())\n",
    "\n",
    "            val_loss += loss.item()\n",
    "\n",
    "            y_pred = torch.tensor([1 if i == True else 0 for i in y_pred > 0.5], device=device)\n",
    "            equals = y_pred == y\n",
    "            acc = torch.mean(equals.type(torch.FloatTensor))\n",
    "            val_acc += acc.item()\n",
    "\n",
    "        history['val_loss'].append(val_loss / len(valloader))\n",
    "        history['val_acc'].append(val_acc / len(valloader))\n",
    "\n",
    "    return val_loss, val_acc\n",
    "\n",
    "    \n",
    "    "
   ]
  },
  {
   "cell_type": "markdown",
   "id": "00346eb6-2a29-4fa3-b4e1-7c74b7f65d15",
   "metadata": {},
   "source": [
    "## `Step 8` : Run Model "
   ]
  },
  {
   "cell_type": "code",
   "execution_count": 60,
   "id": "5ca6ae26-0952-4652-bc4b-ac7d754ab483",
   "metadata": {},
   "outputs": [
    {
     "name": "stderr",
     "output_type": "stream",
     "text": [
      "Training:   0%|                                                                                   | 0/8 [00:12<?, ?it/s]"
     ]
    },
    {
     "name": "stdout",
     "output_type": "stream",
     "text": [
      "Epoch[1/8] Train Loss: 0.694, Train Acc: 0.506, Val Loss: 0.692, Val Acc: 0.496\n"
     ]
    },
    {
     "name": "stderr",
     "output_type": "stream",
     "text": [
      "Training:  25%|██████████████████▊                                                        | 2/8 [00:23<01:10, 11.75s/it]"
     ]
    },
    {
     "name": "stdout",
     "output_type": "stream",
     "text": [
      "Epoch[2/8] Train Loss: 0.694, Train Acc: 0.506, Val Loss: 0.692, Val Acc: 0.514\n"
     ]
    },
    {
     "name": "stderr",
     "output_type": "stream",
     "text": [
      "Training:  25%|██████████████████▊                                                        | 2/8 [00:32<01:10, 11.75s/it]"
     ]
    },
    {
     "name": "stdout",
     "output_type": "stream",
     "text": [
      "Epoch[3/8] Train Loss: 0.669, Train Acc: 0.570, Val Loss: 0.650, Val Acc: 0.706\n"
     ]
    },
    {
     "name": "stderr",
     "output_type": "stream",
     "text": [
      "Training:  38%|████████████████████████████▏                                              | 3/8 [00:42<00:53, 10.67s/it]"
     ]
    },
    {
     "name": "stdout",
     "output_type": "stream",
     "text": [
      "Epoch[4/8] Train Loss: 0.478, Train Acc: 0.800, Val Loss: 0.601, Val Acc: 0.772\n"
     ]
    },
    {
     "name": "stderr",
     "output_type": "stream",
     "text": [
      "Training:  50%|█████████████████████████████████████▌                                     | 4/8 [00:51<00:40, 10.24s/it]"
     ]
    },
    {
     "name": "stdout",
     "output_type": "stream",
     "text": [
      "Epoch[5/8] Train Loss: 0.448, Train Acc: 0.811, Val Loss: 0.405, Val Acc: 0.818\n"
     ]
    },
    {
     "name": "stderr",
     "output_type": "stream",
     "text": [
      "Training:  62%|██████████████████████████████████████████████▉                            | 5/8 [01:01<00:29,  9.82s/it]"
     ]
    },
    {
     "name": "stdout",
     "output_type": "stream",
     "text": [
      "Epoch[6/8] Train Loss: 0.314, Train Acc: 0.879, Val Loss: 0.357, Val Acc: 0.847\n"
     ]
    },
    {
     "name": "stderr",
     "output_type": "stream",
     "text": [
      "Training:  88%|█████████████████████████████████████████████████████████████████▋         | 7/8 [01:11<00:09,  9.95s/it]"
     ]
    },
    {
     "name": "stdout",
     "output_type": "stream",
     "text": [
      "Epoch[7/8] Train Loss: 0.237, Train Acc: 0.914, Val Loss: 0.384, Val Acc: 0.842\n"
     ]
    },
    {
     "name": "stderr",
     "output_type": "stream",
     "text": [
      "Training: 100%|███████████████████████████████████████████████████████████████████████████| 8/8 [01:21<00:00, 10.20s/it]"
     ]
    },
    {
     "name": "stdout",
     "output_type": "stream",
     "text": [
      "Epoch[8/8] Train Loss: 0.203, Train Acc: 0.932, Val Loss: 0.426, Val Acc: 0.856\n"
     ]
    },
    {
     "name": "stderr",
     "output_type": "stream",
     "text": [
      "\n"
     ]
    }
   ],
   "source": [
    "# train loop\n",
    "epochloop = tqdm(range(epochs), desc='Training')\n",
    "\n",
    "# early stop trigger\n",
    "es_trigger = 0\n",
    "val_loss_min = torch.inf\n",
    "\n",
    "for e in epochloop:\n",
    "    train_loss, train_acc = train(model, trainloader)\n",
    "    val_loss, val_acc = validation(model, valloader)\n",
    "    epochloop.write(f'Epoch[{e+1}/{epochs}] Train Loss: {train_loss / len(trainloader):.3f}, Train Acc: {train_acc / len(trainloader):.3f}, Val Loss: {val_loss / len(valloader):.3f}, Val Acc: {val_acc / len(valloader):.3f}')\n",
    "\n",
    "    # save model if validation loss decrease\n",
    "    if val_loss / len(valloader) <= val_loss_min:\n",
    "        torch.save(model.state_dict(), './sentiment_lstm.pt')\n",
    "        val_loss_min=val_loss / len(valloader)\n",
    "        es_trigger = 0\n",
    "\n",
    "    else:\n",
    "        es_trigger += 1\n",
    "\n",
    "    # early stop\n",
    "    if es_trigger >= es_limit:\n",
    "        epochloop.write(f'Early stopped at Epoch-{e+1}')\n",
    "        history['epochs'] = e+1\n",
    "        break"
   ]
  },
  {
   "cell_type": "code",
   "execution_count": 61,
   "id": "0511c7ca-58bd-44cd-8d18-74a364b37980",
   "metadata": {},
   "outputs": [
    {
     "data": {
      "image/png": "[encoded data removed]",
      "text/plain": [
       "<Figure size 600x400 with 1 Axes>"
      ]
     },
     "metadata": {},
     "output_type": "display_data"
    }
   ],
   "source": [
    "# plot loss\n",
    "plt.figure(figsize=(6,4))\n",
    "plt.plot(range(history['epochs']), history['train_acc'][:history['epochs']], label='Train Acc')\n",
    "plt.plot(range(history['epochs']), history['val_acc'][:history['epochs']], label='Val Acc')\n",
    "plt.legend()\n",
    "plt.show()"
   ]
  },
  {
   "cell_type": "code",
   "execution_count": 62,
   "id": "05a38731-0b91-4605-aab1-3811d9a3711a",
   "metadata": {},
   "outputs": [
    {
     "data": {
      "image/png": "[encoded data removed]",
      "text/plain": [
       "<Figure size 600x400 with 1 Axes>"
      ]
     },
     "metadata": {},
     "output_type": "display_data"
    }
   ],
   "source": [
    "# plot loss\n",
    "plt.figure(figsize=(6,4))\n",
    "plt.plot(range(history['epochs']), history['train_loss'][:history['epochs']], label='Train Loss')\n",
    "plt.plot(range(history['epochs']), history['val_acc'][:history['epochs']], label='Val Loss')\n",
    "plt.legend()\n",
    "plt.show()"
   ]
  },
  {
   "cell_type": "code",
   "execution_count": null,
   "id": "f8676ee9-2d94-437c-b71d-fb4ecda67327",
   "metadata": {},
   "outputs": [],
   "source": []
  },
  {
   "cell_type": "code",
   "execution_count": null,
   "id": "85fc9d5d-ad34-47b7-8f2a-d6daf2ebd443",
   "metadata": {},
   "outputs": [],
   "source": []
  }
 ],
 "metadata": {
  "kernelspec": {
   "display_name": "Python 3 (ipykernel)",
   "language": "python",
   "name": "python3"
  },
  "language_info": {
   "codemirror_mode": {
    "name": "ipython",
    "version": 3
   },
   "file_extension": ".py",
   "mimetype": "text/x-python",
   "name": "python",
   "nbconvert_exporter": "python",
   "pygments_lexer": "ipython3",
   "version": "3.10.13"
  }
 },
 "nbformat": 4,
 "nbformat_minor": 5
}
