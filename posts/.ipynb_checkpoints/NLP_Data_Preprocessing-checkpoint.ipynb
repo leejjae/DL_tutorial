{
 "cells": [
  {
   "cell_type": "markdown",
   "id": "ae6613d3-7878-49ae-80fd-48e35ff065dc",
   "metadata": {},
   "source": [
    "# Word Tokenization"
   ]
  },
  {
   "cell_type": "markdown",
   "id": "b6eebfce-6a31-4306-b27c-ecaedc30715d",
   "metadata": {},
   "source": [
    "## 영어의 Word Tokenization"
   ]
  },
  {
   "cell_type": "markdown",
   "id": "b96197a4-c068-435a-9ad9-99124b3d4267",
   "metadata": {},
   "source": [
    "####  **NLTK의 토그나이저 1. word_tokenize**"
   ]
  },
  {
   "cell_type": "code",
   "execution_count": 2,
   "id": "ca65849b-9122-41f3-895d-fb4e778b353f",
   "metadata": {},
   "outputs": [],
   "source": [
    "import nltk"
   ]
  },
  {
   "cell_type": "code",
   "execution_count": 3,
   "id": "244dab3d-f190-4ac1-bf0a-3a18b64a25c3",
   "metadata": {},
   "outputs": [
    {
     "name": "stderr",
     "output_type": "stream",
     "text": [
      "[nltk_data] Downloading package punkt to /root/nltk_data...\n",
      "[nltk_data]   Package punkt is already up-to-date!\n"
     ]
    },
    {
     "data": {
      "text/plain": [
       "True"
      ]
     },
     "execution_count": 3,
     "metadata": {},
     "output_type": "execute_result"
    }
   ],
   "source": [
    "nltk.download('punkt')"
   ]
  },
  {
   "cell_type": "code",
   "execution_count": 4,
   "id": "4e1f8c50-f4f0-41fc-abef-7fe9d1c44c48",
   "metadata": {},
   "outputs": [],
   "source": [
    "sentence = \"Don't be fooled by the dark sounding name, Mr. Jone's Orphanage is as cheery as cheery goes for a pastry shop.\""
   ]
  },
  {
   "cell_type": "markdown",
   "id": "f0b78e6b-52c3-4ba6-a2bf-36d2d6b54407",
   "metadata": {},
   "source": [
    "#### Q. 아포스트로피가 들어간 상황에서 단어 토근화"
   ]
  },
  {
   "cell_type": "code",
   "execution_count": 5,
   "id": "e444c283-dae6-4328-9d33-f0e33bbb6afd",
   "metadata": {},
   "outputs": [
    {
     "name": "stdout",
     "output_type": "stream",
     "text": [
      "['Do', \"n't\", 'be', 'fooled', 'by', 'the', 'dark', 'sounding', 'name', ',', 'Mr.', 'Jone', \"'s\", 'Orphanage', 'is', 'as', 'cheery', 'as', 'cheery', 'goes', 'for', 'a', 'pastry', 'shop', '.']\n"
     ]
    }
   ],
   "source": [
    "from nltk.tokenize import word_tokenize\n",
    "print(word_tokenize(sentence))"
   ]
  },
  {
   "cell_type": "markdown",
   "id": "84d86a4e-d1c5-4e92-8174-59841415f48e",
   "metadata": {},
   "source": [
    "#### A. Don't를 Do와 n't로 분리, Jone's는 Jone과 's로 분리"
   ]
  },
  {
   "cell_type": "markdown",
   "id": "0ce24f43-8f87-4ecc-8663-b5d4ace5eed0",
   "metadata": {},
   "source": [
    "-----------------------------"
   ]
  },
  {
   "cell_type": "markdown",
   "id": "d2b1b7fe-dab7-4449-b43d-92b66cec0c17",
   "metadata": {},
   "source": [
    "#### **NLTK의 토그나이저 2. WordPunctTokenizer**"
   ]
  },
  {
   "cell_type": "code",
   "execution_count": 6,
   "id": "4c7b9a9c-e45c-412a-b970-bb0aeccefaa4",
   "metadata": {},
   "outputs": [
    {
     "name": "stdout",
     "output_type": "stream",
     "text": [
      "['Don', \"'\", 't', 'be', 'fooled', 'by', 'the', 'dark', 'sounding', 'name', ',', 'Mr', '.', 'Jone', \"'\", 's', 'Orphanage', 'is', 'as', 'cheery', 'as', 'cheery', 'goes', 'for', 'a', 'pastry', 'shop', '.']\n"
     ]
    }
   ],
   "source": [
    "from nltk.tokenize import WordPunctTokenizer\n",
    "print(WordPunctTokenizer().tokenize(sentence))"
   ]
  },
  {
   "cell_type": "markdown",
   "id": "a54aba04-cc4c-4a0f-bf77-8d7198e1f45c",
   "metadata": {},
   "source": [
    "#### Don't를 Don, ', t로 분리. Jone's를 Jone, ', s로 분리"
   ]
  },
  {
   "cell_type": "markdown",
   "id": "453192fd-4cd4-4130-8dcf-6402fcd1d38f",
   "metadata": {},
   "source": [
    "-----------------"
   ]
  },
  {
   "cell_type": "markdown",
   "id": "fa1ad051-585a-4ff0-9d44-b2c8021da8b9",
   "metadata": {},
   "source": [
    "#### **NLTK의 토그나이저 3. TreebankWordTokenizer**"
   ]
  },
  {
   "cell_type": "markdown",
   "id": "1ec2a7ac-c368-4faf-80b6-40346da90ff3",
   "metadata": {},
   "source": [
    "Penn Treebank Tokenizer의 규칙\\\n",
    "규칙1. 하이푼으로 구서된 단어는 하나로 유지\\\n",
    "규칙2. doesn't와 같이 아포스트로피로 '접어'가 함께하는 단어는 분리"
   ]
  },
  {
   "cell_type": "code",
   "execution_count": 7,
   "id": "bcda2c96-8399-4834-936d-b472fa6a7f3c",
   "metadata": {},
   "outputs": [
    {
     "name": "stdout",
     "output_type": "stream",
     "text": [
      "['Starting', 'a', 'home-based', 'restaurant', 'may', 'be', 'an', 'ideal.', 'it', 'does', \"n't\", 'have', 'a', 'food', 'chain', 'or', 'restaurant', 'of', 'their', 'own', '.']\n"
     ]
    }
   ],
   "source": [
    "from nltk.tokenize import TreebankWordTokenizer\n",
    "tokenizer = TreebankWordTokenizer()\n",
    "text = \"Starting a home-based restaurant may be an ideal. it doesn't have a food chain or restaurant of their own.\"\n",
    "print(tokenizer.tokenize(text))"
   ]
  },
  {
   "cell_type": "markdown",
   "id": "d9ec1763-0aec-4e8e-a249-7230ced0efec",
   "metadata": {},
   "source": [
    "## 한글의 Word Tokenization(KoNLPy)"
   ]
  },
  {
   "cell_type": "code",
   "execution_count": 1,
   "id": "d0b42376-6857-4ffb-b2cf-3b86899a348f",
   "metadata": {},
   "outputs": [],
   "source": [
    "from konlpy.tag import *\n",
    "\n",
    "hannanum = Hannanum()\n",
    "kkma = Kkma()\n",
    "komoran = Komoran()\n",
    "okt = Okt()\n",
    "mecab = Mecab()"
   ]
  },
  {
   "cell_type": "markdown",
   "id": "cad06704-6661-44ce-ad8e-9330def75510",
   "metadata": {},
   "source": [
    "**위 형태소 분석기들은 공통적으로 아래의 함수를 제공합니다.**\\\n",
    "nouns: 명사 추출\\\n",
    "morphs: 형태소 추출\\\n",
    "pos: 품사 부착/"
   ]
  },
  {
   "cell_type": "code",
   "execution_count": 10,
   "id": "6cc4c5ab-3cd3-4699-bd4c-96cda098c01f",
   "metadata": {},
   "outputs": [],
   "source": [
    "sentence_ = \"열심히 코딩한 당신, 연휴에는 여행을 가봐요\""
   ]
  },
  {
   "cell_type": "markdown",
   "id": "1a45bc58-5f5a-4f5e-8f45-b1da416315da",
   "metadata": {},
   "source": [
    "### 형태소 분석 Okt"
   ]
  },
  {
   "cell_type": "code",
   "execution_count": 11,
   "id": "dabededb-d6f1-48ce-bb8c-612f057bf749",
   "metadata": {},
   "outputs": [
    {
     "name": "stdout",
     "output_type": "stream",
     "text": [
      "['코딩', '당신', '연휴', '여행']\n",
      "['열심히', '코딩', '한', '당신', ',', '연휴', '에는', '여행', '을', '가봐요']\n",
      "[('열심히', 'Adverb'), ('코딩', 'Noun'), ('한', 'Josa'), ('당신', 'Noun'), (',', 'Punctuation'), ('연휴', 'Noun'), ('에는', 'Josa'), ('여행', 'Noun'), ('을', 'Josa'), ('가봐요', 'Verb')]\n"
     ]
    }
   ],
   "source": [
    "print(okt.nouns(sentence_))\n",
    "print(okt.morphs(sentence_))\n",
    "print(okt.pos(sentence_))"
   ]
  },
  {
   "cell_type": "markdown",
   "id": "86b359de-de28-4bb8-bdaf-c64ca717aef3",
   "metadata": {},
   "source": [
    "### 형태소 분석기 꼬꼬마"
   ]
  },
  {
   "cell_type": "code",
   "execution_count": 12,
   "id": "dc9d0004-03a1-4b04-be98-457f047b32e4",
   "metadata": {},
   "outputs": [
    {
     "name": "stdout",
     "output_type": "stream",
     "text": [
      "['코딩', '당신', '연휴', '여행']\n",
      "['열심히', '코딩', '하', 'ㄴ', '당신', ',', '연휴', '에', '는', '여행', '을', '가보', '아요']\n",
      "[('열심히', 'MAG'), ('코딩', 'NNG'), ('하', 'XSV'), ('ㄴ', 'ETD'), ('당신', 'NP'), (',', 'SP'), ('연휴', 'NNG'), ('에', 'JKM'), ('는', 'JX'), ('여행', 'NNG'), ('을', 'JKO'), ('가보', 'VV'), ('아요', 'EFN')]\n"
     ]
    }
   ],
   "source": [
    "print(kkma.nouns(sentence_))\n",
    "print(kkma.morphs(sentence_))\n",
    "print(kkma.pos(sentence_))"
   ]
  },
  {
   "cell_type": "markdown",
   "id": "ca6a9517-bc5d-4bb2-8e9f-0b322393e5d5",
   "metadata": {},
   "source": [
    "### 형태소 분석기 코모란"
   ]
  },
  {
   "cell_type": "code",
   "execution_count": 13,
   "id": "47c9c205-bf94-4789-bdf8-d6fc1726ae57",
   "metadata": {},
   "outputs": [
    {
     "name": "stdout",
     "output_type": "stream",
     "text": [
      "['코', '당신', '연휴', '여행']\n",
      "['열심히', '코', '딩', '하', 'ㄴ', '당신', ',', '연휴', '에', '는', '여행', '을', '가', '아', '보', '아요']\n",
      "[('열심히', 'MAG'), ('코', 'NNG'), ('딩', 'MAG'), ('하', 'XSV'), ('ㄴ', 'ETM'), ('당신', 'NNP'), (',', 'SP'), ('연휴', 'NNG'), ('에', 'JKB'), ('는', 'JX'), ('여행', 'NNG'), ('을', 'JKO'), ('가', 'VV'), ('아', 'EC'), ('보', 'VX'), ('아요', 'EC')]\n"
     ]
    }
   ],
   "source": [
    "print(komoran.nouns(sentence_))\n",
    "print(komoran.morphs(sentence_))\n",
    "print(komoran.pos(sentence_))"
   ]
  },
  {
   "cell_type": "markdown",
   "id": "afa3624c-c9a5-49b7-bbfb-4e4304ddd70e",
   "metadata": {},
   "source": [
    "### 형태소 분석기 한나눔"
   ]
  },
  {
   "cell_type": "code",
   "execution_count": 14,
   "id": "4b2b73f7-8232-4961-9d21-929dfd052c9d",
   "metadata": {},
   "outputs": [
    {
     "name": "stdout",
     "output_type": "stream",
     "text": [
      "['코딩', '당신', '연휴', '여행']\n",
      "['열심히', '코딩', '하', 'ㄴ', '당신', ',', '연휴', '에는', '여행', '을', '가', '아', '보', '아']\n",
      "[('열심히', 'M'), ('코딩', 'N'), ('하', 'X'), ('ㄴ', 'E'), ('당신', 'N'), (',', 'S'), ('연휴', 'N'), ('에는', 'J'), ('여행', 'N'), ('을', 'J'), ('가', 'P'), ('아', 'E'), ('보', 'P'), ('아', 'E')]\n"
     ]
    }
   ],
   "source": [
    "print(hannanum.nouns(sentence_))\n",
    "print(hannanum.morphs(sentence_))\n",
    "print(hannanum.pos(sentence_))"
   ]
  },
  {
   "cell_type": "markdown",
   "id": "02666e9f-f8db-4553-bd4d-4fbe20deb07e",
   "metadata": {},
   "source": [
    "### 형태소 분석기 Mecab"
   ]
  },
  {
   "cell_type": "code",
   "execution_count": 15,
   "id": "62f1471d-7bf5-447d-9de1-2790fef8d1fc",
   "metadata": {},
   "outputs": [
    {
     "name": "stdout",
     "output_type": "stream",
     "text": [
      "['코딩', '당신', '연휴', '여행']\n",
      "['열심히', '코딩', '한', '당신', ',', '연휴', '에', '는', '여행', '을', '가', '봐요']\n",
      "[('열심히', 'MAG'), ('코딩', 'NNG'), ('한', 'XSA+ETM'), ('당신', 'NP'), (',', 'SC'), ('연휴', 'NNG'), ('에', 'JKB'), ('는', 'JX'), ('여행', 'NNG'), ('을', 'JKO'), ('가', 'VV'), ('봐요', 'EC+VX+EC')]\n"
     ]
    }
   ],
   "source": [
    "print(mecab.nouns(sentence_))\n",
    "print(mecab.morphs(sentence_))\n",
    "print(mecab.pos(sentence_))"
   ]
  },
  {
   "cell_type": "markdown",
   "id": "4e50a7cf-f6c2-4615-b999-a9db7ff6584e",
   "metadata": {},
   "source": [
    "# Sentence Tokenization"
   ]
  },
  {
   "cell_type": "markdown",
   "id": "f67e196f-1f3a-4e07-b5f9-dbf8aa97b1f5",
   "metadata": {},
   "source": [
    "## 영어의 Sentence Tokenization(NLTK)"
   ]
  },
  {
   "cell_type": "code",
   "execution_count": 16,
   "id": "b3abd1aa-f085-4c7c-a715-ccfad99e514c",
   "metadata": {},
   "outputs": [],
   "source": [
    "temp = 'Yonsei University is a private research university in Seoul, South Korea. Yonsei University is deemed as one of the three most prestigious institutions in the country. It is particularly respected in the studies of medicine and business administration.'"
   ]
  },
  {
   "cell_type": "code",
   "execution_count": 18,
   "id": "fe5a5ab6-b8ac-4450-a62a-a09a7a713da4",
   "metadata": {},
   "outputs": [
    {
     "data": {
      "text/plain": [
       "['Yonsei University is a private research university in Seoul, South Korea',\n",
       " 'Yonsei University is deemed as one of the three most prestigious institutions in the country',\n",
       " 'It is particularly respected in the studies of medicine and business administration.']"
      ]
     },
     "execution_count": 18,
     "metadata": {},
     "output_type": "execute_result"
    }
   ],
   "source": [
    "temp.split('. ')"
   ]
  },
  {
   "cell_type": "markdown",
   "id": "2af8515a-3f20-4e0b-89f6-39eee8c79483",
   "metadata": {},
   "source": [
    "**\"온점을 기준으로 문장을 구분할 경우에는 예외사항이 너무 많다.\"**"
   ]
  },
  {
   "cell_type": "code",
   "execution_count": 21,
   "id": "09f019a8-58d6-4995-9313-0d3ef2a1b6ca",
   "metadata": {},
   "outputs": [
    {
     "name": "stdout",
     "output_type": "stream",
     "text": [
      "['His barber kept his word.', 'But keeping such a huge secret to himself was driving him crazy.', 'Finally, the barber went up a mountain and almost to the edge of a cliff.', 'He dug a hole in the midst of some reeds.', 'He looked about, to mae sure no one was near.']\n"
     ]
    }
   ],
   "source": [
    "from nltk.tokenize import sent_tokenize\n",
    "\n",
    "text = \"His barber kept his word. But keeping such a huge secret to himself was driving him crazy. Finally, the barber went up a mountain and almost to the edge of a cliff. He dug a hole in the midst of some reeds. He looked about, to mae sure no one was near.\"\n",
    "print(sent_tokenize(text))"
   ]
  },
  {
   "cell_type": "code",
   "execution_count": 22,
   "id": "830de2ce-be0b-4570-9def-23b3b28e517b",
   "metadata": {},
   "outputs": [
    {
     "name": "stdout",
     "output_type": "stream",
     "text": [
      "['I am actively looking for Ph.D. students.', 'and you are a Ph.D student.']\n"
     ]
    }
   ],
   "source": [
    "text=\"I am actively looking for Ph.D. students. and you are a Ph.D student.\"\n",
    "print(sent_tokenize(text))"
   ]
  },
  {
   "cell_type": "markdown",
   "id": "6c23e0f9-08ba-4350-b6c4-5fa682c013dd",
   "metadata": {},
   "source": [
    "## 한국어의 Sentence Tokenization(KSS)"
   ]
  },
  {
   "cell_type": "code",
   "execution_count": 24,
   "id": "7514ba61-2d43-4d97-ac4a-c79286a11096",
   "metadata": {},
   "outputs": [],
   "source": [
    "#pip install kss"
   ]
  },
  {
   "cell_type": "code",
   "execution_count": 25,
   "id": "2503b07f-e0a4-4357-bc9d-25b82d64997b",
   "metadata": {},
   "outputs": [
    {
     "name": "stderr",
     "output_type": "stream",
     "text": [
      "[Kss]: Oh! You have mecab in your environment. Kss will take this as a backend! :D\n",
      "\n"
     ]
    },
    {
     "name": "stdout",
     "output_type": "stream",
     "text": [
      "['딥 러닝 자연어 처리가 재미있기는 합니다.', '그런데 문제는 영어보다 한국어로 할 때 너무 어려워요.', '이제 해보면 알걸요?']\n"
     ]
    }
   ],
   "source": [
    "import kss\n",
    "\n",
    "text = '딥 러닝 자연어 처리가 재미있기는 합니다. 그런데 문제는 영어보다 한국어로 할 때 너무 어려워요. 이제 해보면 알걸요?'\n",
    "print(kss.split_sentences(text))\n"
   ]
  },
  {
   "cell_type": "markdown",
   "id": "df6e098d-2c25-47db-bd02-c8b8a2aea7ff",
   "metadata": {},
   "source": [
    "------------------------------------"
   ]
  },
  {
   "cell_type": "markdown",
   "id": "d77395d4-3551-49b0-9027-6d86a77c74cc",
   "metadata": {},
   "source": [
    "# IDBM 리뷰 데이터를 이용한 정수 인코딩과 패딩"
   ]
  },
  {
   "cell_type": "code",
   "execution_count": 9,
   "id": "6ffb75af-f940-41f8-bb7a-3694f6fd5391",
   "metadata": {},
   "outputs": [],
   "source": [
    "import pandas as pd\n",
    "import numpy as np\n",
    "import matplotlib.pyplot as plt\n",
    "import nltk\n",
    "import torch\n",
    "import urllib.request\n",
    "from tqdm import tqdm\n",
    "from collections import Counter\n",
    "from nltk.tokenize import word_tokenize\n",
    "from sklearn.model_selection import train_test_split"
   ]
  },
  {
   "cell_type": "code",
   "execution_count": 7,
   "id": "6e293be0-6643-41ba-9ff0-543ad9fb8c07",
   "metadata": {},
   "outputs": [
    {
     "name": "stderr",
     "output_type": "stream",
     "text": [
      "[nltk_data] Downloading package punkt to /root/nltk_data...\n",
      "[nltk_data]   Unzipping tokenizers/punkt.zip.\n"
     ]
    },
    {
     "data": {
      "text/plain": [
       "True"
      ]
     },
     "execution_count": 7,
     "metadata": {},
     "output_type": "execute_result"
    }
   ],
   "source": [
    "nltk.download('punkt')"
   ]
  },
  {
   "cell_type": "code",
   "execution_count": 13,
   "id": "ed13b78a-5bb1-43b8-a21f-1677f12bc646",
   "metadata": {},
   "outputs": [],
   "source": [
    "df = pd.read_csv('IMDB_Dataset.csv')"
   ]
  },
  {
   "cell_type": "code",
   "execution_count": 15,
   "id": "ba5fc421-1071-474b-85a7-45e6fce597f4",
   "metadata": {},
   "outputs": [
    {
     "data": {
      "text/html": [
       "<div>\n",
       "<style scoped>\n",
       "    .dataframe tbody tr th:only-of-type {\n",
       "        vertical-align: middle;\n",
       "    }\n",
       "\n",
       "    .dataframe tbody tr th {\n",
       "        vertical-align: top;\n",
       "    }\n",
       "\n",
       "    .dataframe thead th {\n",
       "        text-align: right;\n",
       "    }\n",
       "</style>\n",
       "<table border=\"1\" class=\"dataframe\">\n",
       "  <thead>\n",
       "    <tr style=\"text-align: right;\">\n",
       "      <th></th>\n",
       "      <th>processed</th>\n",
       "      <th>label</th>\n",
       "    </tr>\n",
       "  </thead>\n",
       "  <tbody>\n",
       "    <tr>\n",
       "      <th>0</th>\n",
       "      <td>One reviewer mentioned watching Oz episode hoo...</td>\n",
       "      <td>1</td>\n",
       "    </tr>\n",
       "    <tr>\n",
       "      <th>1</th>\n",
       "      <td>A wonderful little production . The filming te...</td>\n",
       "      <td>1</td>\n",
       "    </tr>\n",
       "    <tr>\n",
       "      <th>2</th>\n",
       "      <td>I thought wonderful way spend time hot summer ...</td>\n",
       "      <td>1</td>\n",
       "    </tr>\n",
       "    <tr>\n",
       "      <th>3</th>\n",
       "      <td>Basically family little boy Jake think zombie ...</td>\n",
       "      <td>0</td>\n",
       "    </tr>\n",
       "    <tr>\n",
       "      <th>4</th>\n",
       "      <td>Petter Mattei Love Time Money visually stunnin...</td>\n",
       "      <td>1</td>\n",
       "    </tr>\n",
       "  </tbody>\n",
       "</table>\n",
       "</div>"
      ],
      "text/plain": [
       "                                           processed  label\n",
       "0  One reviewer mentioned watching Oz episode hoo...      1\n",
       "1  A wonderful little production . The filming te...      1\n",
       "2  I thought wonderful way spend time hot summer ...      1\n",
       "3  Basically family little boy Jake think zombie ...      0\n",
       "4  Petter Mattei Love Time Money visually stunnin...      1"
      ]
     },
     "execution_count": 15,
     "metadata": {},
     "output_type": "execute_result"
    }
   ],
   "source": [
    "df.head()"
   ]
  },
  {
   "cell_type": "code",
   "execution_count": 17,
   "id": "f54a0243-0972-4cc3-88a5-d23721b08f64",
   "metadata": {},
   "outputs": [
    {
     "name": "stdout",
     "output_type": "stream",
     "text": [
      "<class 'pandas.core.frame.DataFrame'>\n",
      "RangeIndex: 50000 entries, 0 to 49999\n",
      "Data columns (total 2 columns):\n",
      " #   Column     Non-Null Count  Dtype \n",
      "---  ------     --------------  ----- \n",
      " 0   processed  50000 non-null  object\n",
      " 1   label      50000 non-null  int64 \n",
      "dtypes: int64(1), object(1)\n",
      "memory usage: 781.4+ KB\n"
     ]
    }
   ],
   "source": [
    "df.info()"
   ]
  },
  {
   "cell_type": "code",
   "execution_count": 18,
   "id": "8ff9900a-dbce-451c-8708-def809f8be1f",
   "metadata": {},
   "outputs": [
    {
     "data": {
      "text/plain": [
       "<matplotlib.axes._subplots.AxesSubplot at 0x7f839b97c5b0>"
      ]
     },
     "execution_count": 18,
     "metadata": {},
     "output_type": "execute_result"
    },
    {
     "data": {
      "image/png": "[encoded data removed]",
      "text/plain": [
       "<Figure size 432x288 with 1 Axes>"
      ]
     },
     "metadata": {
      "needs_background": "light"
     },
     "output_type": "display_data"
    }
   ],
   "source": [
    "df['label'].value_counts().plot(kind='bar')"
   ]
  },
  {
   "cell_type": "code",
   "execution_count": 19,
   "id": "ec21dca3-58d9-49e0-b2e5-4f3bbfc9c0f0",
   "metadata": {},
   "outputs": [
    {
     "name": "stdout",
     "output_type": "stream",
     "text": [
      "레이블 개수\n",
      "   label  count\n",
      "0      0  25000\n",
      "1      1  25000\n"
     ]
    }
   ],
   "source": [
    "print('레이블 개수')\n",
    "print(df.groupby('label').size().reset_index(name='count'))"
   ]
  },
  {
   "cell_type": "code",
   "execution_count": 22,
   "id": "ee4ee5e2-4ef7-4949-9dda-b2c476249157",
   "metadata": {},
   "outputs": [
    {
     "name": "stdout",
     "output_type": "stream",
     "text": [
      "영화 리뷰의 개수: 50000\n",
      "레이블의 개수: 50000\n"
     ]
    }
   ],
   "source": [
    "X_data = df['processed']\n",
    "y_data = df['label']\n",
    "print('영화 리뷰의 개수: {}'.format(len(X_data)))\n",
    "print('레이블의 개수: {}'.format(len(y_data)))"
   ]
  },
  {
   "cell_type": "code",
   "execution_count": 23,
   "id": "c21d5efb-1858-46b0-8871-3a5d48d7c4a5",
   "metadata": {},
   "outputs": [],
   "source": [
    "X_train, X_test, y_test, y_train = train_test_split(X_data, y_data, test_size=0.5,\n",
    "                                                   random_state=0, stratify=y_data)"
   ]
  },
  {
   "cell_type": "code",
   "execution_count": 24,
   "id": "470a16ce-5acc-4261-a496-dc4e17734861",
   "metadata": {},
   "outputs": [
    {
     "name": "stdout",
     "output_type": "stream",
     "text": [
      "----------훈련 데이터의 비율----------\n",
      "긍정 리뷰 = 50.0%\n",
      "부정 리뷰 = 50.0%\n",
      "----------테스트 데이터의 비율----------\n",
      "긍정 리뷰 = 50.0%\n",
      "부정 리뷰 = 50.0%\n"
     ]
    }
   ],
   "source": [
    "print('----------훈련 데이터의 비율----------')\n",
    "print(f'긍정 리뷰 = {round(y_train.value_counts()[0]/len(y_train)*100,3)}%')\n",
    "print(f'부정 리뷰 = {round(y_train.value_counts()[1]/len(y_train)*100,3)}%')\n",
    "print('----------테스트 데이터의 비율----------')\n",
    "print(f'긍정 리뷰 = {round(y_test.value_counts()[0]/len(y_test)*100,3)}%')\n",
    "print(f'부정 리뷰 = {round(y_test.value_counts()[1]/len(y_test)*100,3)}%')\n"
   ]
  },
  {
   "cell_type": "code",
   "execution_count": 25,
   "id": "6b50d574-d2dd-4a9d-9d0f-8f695ff6dec9",
   "metadata": {},
   "outputs": [
    {
     "data": {
      "text/plain": [
       "'One reviewer mentioned watching Oz episode hooked . They right , exactly happened . The first thing struck Oz brutality unflinching scene violence , set right word GO . Trust , show faint hearted timid . This show pull punch regard drug , sex violence . Its hardcore , classic use word . It called OZ nickname given Oswald Maximum Security State Penitentary . It focus mainly Emerald City , experimental section prison cell glass front face inwards , privacy high agenda . Em City home many . . Aryans , Muslims , gangsta , Latinos , Christians , Italians , Irish . . . . scuffle , death stare , dodgy dealing shady agreement never far away . I would say main appeal show due fact go show dare . Forget pretty picture painted mainstream audience , forget charm , forget romance . . . OZ mess around . The first episode I ever saw struck nasty surreal , I say I ready , I watched , I developed taste Oz , got accustomed high level graphic violence . Not violence , injustice crooked guard sold nickel , inmate kill order get away , well mannered , middle class inmate turned prison bitch due lack street skill prison experience Watching Oz , may become comfortable uncomfortable viewing . . . . thats get touch darker side .'"
      ]
     },
     "execution_count": 25,
     "metadata": {},
     "output_type": "execute_result"
    }
   ],
   "source": [
    "X_train[0]"
   ]
  },
  {
   "cell_type": "code",
   "execution_count": 27,
   "id": "f3e3b956-4817-4e6c-8f19-e60945541f38",
   "metadata": {},
   "outputs": [
    {
     "name": "stdout",
     "output_type": "stream",
     "text": [
      "['One', 'reviewer', 'mentioned', 'watching', 'Oz', 'episode', 'hooked', '.', 'They', 'right', ',', 'exactly', 'happened', '.', 'The', 'first', 'thing', 'struck', 'Oz', 'brutality', 'unflinching', 'scene', 'violence', ',', 'set', 'right', 'word', 'GO', '.', 'Trust', ',', 'show', 'faint', 'hearted', 'timid', '.', 'This', 'show', 'pull', 'punch', 'regard', 'drug', ',', 'sex', 'violence', '.', 'Its', 'hardcore', ',', 'classic', 'use', 'word', '.', 'It', 'called', 'OZ', 'nickname', 'given', 'Oswald', 'Maximum', 'Security', 'State', 'Penitentary', '.', 'It', 'focus', 'mainly', 'Emerald', 'City', ',', 'experimental', 'section', 'prison', 'cell', 'glass', 'front', 'face', 'inwards', ',', 'privacy', 'high', 'agenda', '.', 'Em', 'City', 'home', 'many', '.', '.', 'Aryans', ',', 'Muslims', ',', 'gangsta', ',', 'Latinos', ',', 'Christians', ',', 'Italians', ',', 'Irish', '.', '.', '.', '.', 'scuffle', ',', 'death', 'stare', ',', 'dodgy', 'dealing', 'shady', 'agreement', 'never', 'far', 'away', '.', 'I', 'would', 'say', 'main', 'appeal', 'show', 'due', 'fact', 'go', 'show', 'dare', '.', 'Forget', 'pretty', 'picture', 'painted', 'mainstream', 'audience', ',', 'forget', 'charm', ',', 'forget', 'romance', '.', '.', '.', 'OZ', 'mess', 'around', '.', 'The', 'first', 'episode', 'I', 'ever', 'saw', 'struck', 'nasty', 'surreal', ',', 'I', 'say', 'I', 'ready', ',', 'I', 'watched', ',', 'I', 'developed', 'taste', 'Oz', ',', 'got', 'accustomed', 'high', 'level', 'graphic', 'violence', '.', 'Not', 'violence', ',', 'injustice', 'crooked', 'guard', 'sold', 'nickel', ',', 'inmate', 'kill', 'order', 'get', 'away', ',', 'well', 'mannered', ',', 'middle', 'class', 'inmate', 'turned', 'prison', 'bitch', 'due', 'lack', 'street', 'skill', 'prison', 'experience', 'Watching', 'Oz', ',', 'may', 'become', 'comfortable', 'uncomfortable', 'viewing', '.', '.', '.', '.', 'thats', 'get', 'touch', 'darker', 'side', '.']\n"
     ]
    }
   ],
   "source": [
    "sample = word_tokenize(X_train[0])\n",
    "print(sample)"
   ]
  },
  {
   "cell_type": "code",
   "execution_count": 29,
   "id": "56359aa1-9fcf-46fe-bd80-90e0bfbbd249",
   "metadata": {},
   "outputs": [
    {
     "name": "stdout",
     "output_type": "stream",
     "text": [
      "['one', 'reviewer', 'mentioned', 'watching', 'oz', 'episode', 'hooked', '.', 'they', 'right', ',', 'exactly', 'happened', '.', 'the', 'first', 'thing', 'struck', 'oz', 'brutality', 'unflinching', 'scene', 'violence', ',', 'set', 'right', 'word', 'go', '.', 'trust', ',', 'show', 'faint', 'hearted', 'timid', '.', 'this', 'show', 'pull', 'punch', 'regard', 'drug', ',', 'sex', 'violence', '.', 'its', 'hardcore', ',', 'classic', 'use', 'word', '.', 'it', 'called', 'oz', 'nickname', 'given', 'oswald', 'maximum', 'security', 'state', 'penitentary', '.', 'it', 'focus', 'mainly', 'emerald', 'city', ',', 'experimental', 'section', 'prison', 'cell', 'glass', 'front', 'face', 'inwards', ',', 'privacy', 'high', 'agenda', '.', 'em', 'city', 'home', 'many', '.', '.', 'aryans', ',', 'muslims', ',', 'gangsta', ',', 'latinos', ',', 'christians', ',', 'italians', ',', 'irish', '.', '.', '.', '.', 'scuffle', ',', 'death', 'stare', ',', 'dodgy', 'dealing', 'shady', 'agreement', 'never', 'far', 'away', '.', 'i', 'would', 'say', 'main', 'appeal', 'show', 'due', 'fact', 'go', 'show', 'dare', '.', 'forget', 'pretty', 'picture', 'painted', 'mainstream', 'audience', ',', 'forget', 'charm', ',', 'forget', 'romance', '.', '.', '.', 'oz', 'mess', 'around', '.', 'the', 'first', 'episode', 'i', 'ever', 'saw', 'struck', 'nasty', 'surreal', ',', 'i', 'say', 'i', 'ready', ',', 'i', 'watched', ',', 'i', 'developed', 'taste', 'oz', ',', 'got', 'accustomed', 'high', 'level', 'graphic', 'violence', '.', 'not', 'violence', ',', 'injustice', 'crooked', 'guard', 'sold', 'nickel', ',', 'inmate', 'kill', 'order', 'get', 'away', ',', 'well', 'mannered', ',', 'middle', 'class', 'inmate', 'turned', 'prison', 'bitch', 'due', 'lack', 'street', 'skill', 'prison', 'experience', 'watching', 'oz', ',', 'may', 'become', 'comfortable', 'uncomfortable', 'viewing', '.', '.', '.', '.', 'thats', 'get', 'touch', 'darker', 'side', '.']\n"
     ]
    }
   ],
   "source": [
    "lower_sample = [word.lower() for word in sample]\n",
    "print(lower_sample)"
   ]
  },
  {
   "cell_type": "markdown",
   "id": "50401a85-dd18-4360-9924-0d12acf6469e",
   "metadata": {},
   "source": [
    "#### **`tokenizing function`**"
   ]
  },
  {
   "cell_type": "code",
   "execution_count": 36,
   "id": "6e1556f1-a4e9-460d-a8eb-eb03ba14cb5b",
   "metadata": {},
   "outputs": [],
   "source": [
    "def tokenize(sentences):\n",
    "    tokenized_sentences = []\n",
    "    for sent in tqdm(sentences):\n",
    "        tokenized_sent = word_tokenize(sent)\n",
    "        tokenized_sent = [word.lower() for word in tokenized_sent]\n",
    "        tokenized_sentences.append(tokenized_sent)\n",
    "    return tokenized_sentences"
   ]
  },
  {
   "cell_type": "code",
   "execution_count": 57,
   "id": "6e8c5f56-2290-4533-8248-2cfbb5d817cc",
   "metadata": {},
   "outputs": [
    {
     "name": "stderr",
     "output_type": "stream",
     "text": [
      "100%|██████████| 25000/25000 [00:54<00:00, 459.69it/s]\n",
      "100%|██████████| 25000/25000 [00:46<00:00, 543.19it/s]\n"
     ]
    }
   ],
   "source": [
    "tokenized_X_train = tokenize(X_train)\n",
    "tokenized_X_test = tokenize(X_test)"
   ]
  },
  {
   "cell_type": "code",
   "execution_count": 40,
   "id": "b963e45a-1bcd-42a7-a2aa-9d14be47d414",
   "metadata": {},
   "outputs": [
    {
     "name": "stdout",
     "output_type": "stream",
     "text": [
      "['life', 'short', 'waste', 'two', 'hour', 'hollywood', 'nonsense', 'like', ',', 'unless', 'clueless', 'naiive', 'year', 'old', 'girl', 'sense', 'reality', 'nothing', 'better', '.', 'dull', 'character', ',', 'poor', 'acting', 'artificial', 'emotion', ',', 'weak', 'story', ',', 'slow', 'pace', ',', 'important', 'film', 'flawed', 'existence', '-', 'one', 'care', 'overly', 'dramatic', 'relationship', '.']\n",
      "['for', 'expect', 'documentary', 'objective', 'creature', ',', 'let', 'give', 'little', 'lesson', 'american', 'film', '-', 'making', '.', 'documentaries', 'rely', 'heavily', 'casting', '.', 'you', 'pick', 'choose', 'character', 'think', 'enhance', 'drama', 'entertainment', 'value', 'film', '.', 'after', 'shot', 'ton', 'footage', ',', 'splice', 'together', 'make', 'film', 'ups', ',', 'turning', 'point', ',', 'climax', ',', 'etc', '.', 'if', 'trouble', 'existing', 'footage', ',', 'either', 'shoot', 'make', 'sense', ',', 'find', 'stock', 'footage', ',', 'clever', 'narration', '.', 'the', 'allegation', 'filmmaker', 'used', 'footage', 'locale', 'part', 'movie', 'favelas', 'next', 'beautiful', 'beach', 'detract', 'value', 'film', 'dramatic', 'piece', 'particular', 'image', 'one', 'resonates', 'enough', 'justify', '-', 'quite', '-', 'truthful', 'inclusion', '.', 'at', 'rate', ',', 'use', 'footage', '.', 'so', 'happen', 'police', 'violence', 'footage', 'particular', 'neighborhood', '.', 'does', 'mean', 'include', 'talk', 'maybe', 'put', 'cartoon', 'animation', 'audience', 'duped', '?', 'um', ',', '.', 'as', 'hopeful', 'ending', ',', '?', 'yes', ',', 'americans', 'made', '.', 'yes', ',', 'americans', 'optimistic', 'bastard', '.', 'but', 'end', 'note', '?', 'just', 'set', 'foreign', 'country', 'foreign', 'film', 'large', 'end', 'note', '?', 'let', 'foreigner', 'portray', 'dismal', 'outlook', 'life', '.', 'let', 'u', 'americans', 'think', 'may', 'happy', 'ending', 'looming', 'future', '.', 'there', 'may', 'one', '.']\n"
     ]
    }
   ],
   "source": [
    "# 상위 샘플 2개 추출\n",
    "for sent in tokenized_X_train[:2]:\n",
    "    print(sent)"
   ]
  },
  {
   "cell_type": "code",
   "execution_count": 41,
   "id": "1b0bcd5e-872f-4de3-a596-3d82aae38058",
   "metadata": {},
   "outputs": [
    {
     "name": "stdout",
     "output_type": "stream",
     "text": [
      "총 단어 수: 71393\n"
     ]
    }
   ],
   "source": [
    "word_list = []\n",
    "for sent in tokenized_X_train:\n",
    "    for word in sent:\n",
    "        word_list.append(word)\n",
    "\n",
    "word_counts = Counter(word_list)\n",
    "print('총 단어 수:', len(word_counts))"
   ]
  },
  {
   "cell_type": "code",
   "execution_count": 46,
   "id": "3494f21b-3106-4c1a-81a7-524d64e9f64e",
   "metadata": {},
   "outputs": [
    {
     "name": "stdout",
     "output_type": "stream",
     "text": [
      "훈련 데이터에서의 단어 the의 등장 횟수:  46204\n",
      "훈련 데이터에서의 단어 love의 등장 횟수:  6791\n"
     ]
    }
   ],
   "source": [
    "print('훈련 데이터에서의 단어 the의 등장 횟수: ', word_counts['the'])\n",
    "print('훈련 데이터에서의 단어 love의 등장 횟수: ', word_counts['love'])"
   ]
  },
  {
   "cell_type": "code",
   "execution_count": 47,
   "id": "4542aab9-776f-43a5-b306-a2f4c889c0a5",
   "metadata": {},
   "outputs": [
    {
     "name": "stdout",
     "output_type": "stream",
     "text": [
      "등장 빈도수 상위 10개 단어\n",
      "['.', ',', 'i', '-', 'movie', 'film', 'the', 'one', '!', 'like']\n"
     ]
    }
   ],
   "source": [
    "vocab = sorted(word_counts, key=word_counts.get, reverse=True)\n",
    "print('등장 빈도수 상위 10개 단어')\n",
    "print(vocab[:10])"
   ]
  },
  {
   "cell_type": "code",
   "execution_count": 48,
   "id": "4b6cb943-c15d-4b72-a1de-70b1b7eba620",
   "metadata": {},
   "outputs": [],
   "source": [
    "threshold = 3\n",
    "total_cnt = len(word_counts) # 단어의 수\n",
    "rare_cnt = 0                 # threshold보다 작은 단어의 빈도수\n",
    "total_freq = 0               # 훈련 데이터의 전체 단어 빈도수 총 합\n",
    "rare_freq = 0                # 등장 빈도수가 threshold보다 작은 단어 빈도수의 합"
   ]
  },
  {
   "cell_type": "code",
   "execution_count": 49,
   "id": "99234712-5967-4b4f-b217-c9a8df52c15b",
   "metadata": {},
   "outputs": [
    {
     "name": "stdout",
     "output_type": "stream",
     "text": [
      "단어 집합(vocabulary)의 크기 : 71393\n",
      "등장 빈도가 2번 이하인 희귀 단어의 수: 36497\n",
      "단어 집합에서 희귀 단어의 비율: 51.12125838667656\n",
      "전체 등장 빈도에서 희귀 단어 등장 빈도 비율: 1.1483939425909544\n"
     ]
    }
   ],
   "source": [
    "# 단어와 빈도수의 쌍(pair)을 key와 value로 받는다\n",
    "for key, value in word_counts.items():\n",
    "    total_freq = total_freq + value\n",
    "\n",
    "    # 단어의 등장 빈도수가 threshold보다 작으면\n",
    "    if(value < threshold):\n",
    "        rare_cnt += 1\n",
    "        rare_freq += value\n",
    "\n",
    "print('단어 집합(vocabulary)의 크기 :',total_cnt)\n",
    "print('등장 빈도가 %s번 이하인 희귀 단어의 수: %s'%(threshold - 1, rare_cnt))\n",
    "print(\"단어 집합에서 희귀 단어의 비율:\", (rare_cnt / total_cnt)*100)\n",
    "print(\"전체 등장 빈도에서 희귀 단어 등장 빈도 비율:\", (rare_freq / total_freq)*100)"
   ]
  },
  {
   "cell_type": "code",
   "execution_count": 50,
   "id": "73bbe61f-dec2-4c64-9e65-f2322b303628",
   "metadata": {},
   "outputs": [
    {
     "name": "stdout",
     "output_type": "stream",
     "text": [
      "단어 집합의 크기 :  34896\n"
     ]
    }
   ],
   "source": [
    "# 전체 단어 개수 중 빈도수 10이하인 단어는 제거\n",
    "vocab_size = total_cnt - rare_cnt\n",
    "vocab = vocab[:vocab_size]\n",
    "print('단어 집합의 크기 : ', len(vocab))"
   ]
  },
  {
   "cell_type": "markdown",
   "id": "15ac3df9-0047-4bfc-b974-b095bb25182d",
   "metadata": {},
   "source": [
    "`<UNK>` = UNKNOWN : 모르는 단어가 등장하면 맵핑하는 용도의 스페셜 토큰\\\n",
    "`<PAD>` = PADDING : 문장의 길이를 맞춰주는 용도의 스페셜 토근"
   ]
  },
  {
   "cell_type": "code",
   "execution_count": 51,
   "id": "8a548181-34b5-4233-b801-19b1dfe882bf",
   "metadata": {},
   "outputs": [],
   "source": [
    "word_to_index = {}\n",
    "word_to_index['<PAD>'] = 0\n",
    "word_to_index['<UNK>'] = 1"
   ]
  },
  {
   "cell_type": "code",
   "execution_count": 52,
   "id": "bdbf2e56-dc8f-4e9c-9cd0-ac31a1157495",
   "metadata": {},
   "outputs": [],
   "source": [
    "for index, word in enumerate(vocab):\n",
    "    word_to_index[word] = index + 2"
   ]
  },
  {
   "cell_type": "code",
   "execution_count": 53,
   "id": "03cc3024-aded-41a2-8309-f5d747bbe369",
   "metadata": {},
   "outputs": [
    {
     "name": "stdout",
     "output_type": "stream",
     "text": [
      "패딩 토큰과 UNK 토큰을 고려한 단어 집합의 크기 : 34898\n"
     ]
    }
   ],
   "source": [
    "vocab_size = len(word_to_index)\n",
    "print('패딩 토큰과 UNK 토큰을 고려한 단어 집합의 크기 :', vocab_size)"
   ]
  },
  {
   "cell_type": "markdown",
   "id": "2b0712d7-ebad-4882-a65c-db4d0069a694",
   "metadata": {},
   "source": [
    "#### **`encoding function`**"
   ]
  },
  {
   "cell_type": "code",
   "execution_count": 55,
   "id": "607c9300-8706-49c5-88b9-839ef845507d",
   "metadata": {},
   "outputs": [],
   "source": [
    "def texts_to_sequences(tokenized_X_data, word_to_index):\n",
    "    encoded_X_data = []\n",
    "    for sent in tokenized_X_data:\n",
    "        index_sequences = []\n",
    "        for word in sent:\n",
    "            try:\n",
    "                index_sequences.append(word_to_index[word])\n",
    "            except KeyError:\n",
    "                index_sequences.append(word_to_index['<UNK>'])\n",
    "        encoded_X_data.append(index_sequences)\n",
    "    return encoded_X_data"
   ]
  },
  {
   "cell_type": "code",
   "execution_count": 58,
   "id": "4eaa1c1d-f753-4f13-b0fd-11ef2cbe2cb1",
   "metadata": {},
   "outputs": [],
   "source": [
    "encoded_X_train = texts_to_sequences(tokenized_X_train, word_to_index)\n",
    "encoded_X_test = texts_to_sequences(tokenized_X_test, word_to_index)"
   ]
  },
  {
   "cell_type": "code",
   "execution_count": 60,
   "id": "357e41d5-8f7a-4aaf-91fd-ac3d4e6012f3",
   "metadata": {},
   "outputs": [
    {
     "name": "stdout",
     "output_type": "stream",
     "text": [
      "리뷰의 최대 길이 :  1721\n",
      "리뷰의 평균 길이 :  157.72288\n"
     ]
    },
    {
     "data": {
      "image/png": "[encoded data removed]",
      "text/plain": [
       "<Figure size 432x288 with 1 Axes>"
      ]
     },
     "metadata": {
      "needs_background": "light"
     },
     "output_type": "display_data"
    }
   ],
   "source": [
    "print('리뷰의 최대 길이 : ', max(len(review) for review in encoded_X_train))\n",
    "print('리뷰의 평균 길이 : ', sum(map(len, encoded_X_train))/len(encoded_X_train))\n",
    "\n",
    "plt.hist([len(review) for review in encoded_X_train], bins=50)\n",
    "plt.xlabel('length of samples')\n",
    "plt.ylabel('number of smaples')\n",
    "plt.show()"
   ]
  },
  {
   "cell_type": "code",
   "execution_count": 61,
   "id": "d34012f0-01bb-4aab-a88d-eef4b348feb8",
   "metadata": {},
   "outputs": [],
   "source": [
    "def below_threshold_len(max_len, nested_list):\n",
    "    count = 0\n",
    "    for sentence in nested_list:\n",
    "        if(len(sentence) <= max_len):\n",
    "            count += 1\n",
    "    print('전체 샘플 중 길이가 %s 이하인 샘플의 비율 : %s'%(max_len, (count/len(nested_list)*100)))"
   ]
  },
  {
   "cell_type": "code",
   "execution_count": 62,
   "id": "a3d2b10a-7a59-4212-99ae-bac0f90dc2a3",
   "metadata": {},
   "outputs": [
    {
     "name": "stdout",
     "output_type": "stream",
     "text": [
      "전체 샘플 중 길이가 500 이하인 샘플의 비율 : 97.492\n"
     ]
    }
   ],
   "source": [
    "max_len = 500\n",
    "below_threshold_len(max_len, encoded_X_train)"
   ]
  },
  {
   "cell_type": "markdown",
   "id": "d5900fc0-f0f0-45d6-92ce-68cacecacd01",
   "metadata": {},
   "source": [
    "#### **`padding function`**"
   ]
  },
  {
   "cell_type": "code",
   "execution_count": 65,
   "id": "1b913d0c-354a-48a3-ac17-8fe84e9a129d",
   "metadata": {},
   "outputs": [],
   "source": [
    "def pad_sequences(sentences, max_len):\n",
    "    features = np.zeros((len(sentences), max_len), dtype=int)\n",
    "    for index, sentence in enumerate(sentences):\n",
    "        if len(sentence) != 0:\n",
    "            features[index, :len(sentence)] = np.array(sentence[:max_len])\n",
    "    return features"
   ]
  },
  {
   "cell_type": "code",
   "execution_count": 66,
   "id": "a082db8f-6551-4ef0-90d6-339161c4bb0e",
   "metadata": {},
   "outputs": [],
   "source": [
    "padded_X_train = pad_sequences(encoded_X_train, max_len=max_len)\n",
    "padded_X_test = pad_sequences(encoded_X_test, max_len=max_len)"
   ]
  },
  {
   "cell_type": "code",
   "execution_count": 68,
   "id": "0bd5f892-50ca-48c7-bcd5-1ae9ecabc537",
   "metadata": {},
   "outputs": [
    {
     "data": {
      "text/plain": [
       "((25000, 500), (25000, 500))"
      ]
     },
     "execution_count": 68,
     "metadata": {},
     "output_type": "execute_result"
    }
   ],
   "source": [
    "padded_X_train.shape, padded_X_test.shape"
   ]
  },
  {
   "cell_type": "code",
   "execution_count": 69,
   "id": "4be6b428-9818-46d4-8ba4-e0d3bc26ce0d",
   "metadata": {},
   "outputs": [
    {
     "data": {
      "text/plain": [
       "array([[  38,  236,  358, ...,    0,    0,    0],\n",
       "       [ 218,  449,  489, ...,    0,    0,    0],\n",
       "       [ 218,    9,  260, ...,    0,    0,    0],\n",
       "       [  15,    6,   24, ...,    0,    0,    0],\n",
       "       [1581,   45,    1, ...,    0,    0,    0]])"
      ]
     },
     "execution_count": 69,
     "metadata": {},
     "output_type": "execute_result"
    }
   ],
   "source": [
    "padded_X_train[:5]"
   ]
  },
  {
   "cell_type": "code",
   "execution_count": 70,
   "id": "f6f5469e-6977-4fd0-a359-963cdfcd6b71",
   "metadata": {},
   "outputs": [
    {
     "name": "stdout",
     "output_type": "stream",
     "text": [
      "[  38  236  358   47  238  273 1685   11    3  828 5053    1   50   84\n",
      "   95  208  480   90   64    2  674   17    3  267   56 4334  654    3\n",
      "  729   18    3  468  954    3  587    7 2806 1887    5    9  327 2073\n",
      "  849  393    2    0    0    0    0    0    0    0    0    0    0    0\n",
      "    0    0    0    0    0    0    0    0    0    0    0    0    0    0\n",
      "    0    0    0    0    0    0    0    0    0    0    0    0    0    0\n",
      "    0    0    0    0    0    0    0    0    0    0    0    0    0    0\n",
      "    0    0    0    0    0    0    0    0    0    0    0    0    0    0\n",
      "    0    0    0    0    0    0    0    0    0    0    0    0    0    0\n",
      "    0    0    0    0    0    0    0    0    0    0    0    0    0    0\n",
      "    0    0    0    0    0    0    0    0    0    0    0    0    0    0\n",
      "    0    0    0    0    0    0    0    0    0    0    0    0    0    0\n",
      "    0    0    0    0    0    0    0    0    0    0    0    0    0    0\n",
      "    0    0    0    0    0    0    0    0    0    0    0    0    0    0\n",
      "    0    0    0    0    0    0    0    0    0    0    0    0    0    0\n",
      "    0    0    0    0    0    0    0    0    0    0    0    0    0    0\n",
      "    0    0    0    0    0    0    0    0    0    0    0    0    0    0\n",
      "    0    0    0    0    0    0    0    0    0    0    0    0    0    0\n",
      "    0    0    0    0    0    0    0    0    0    0    0    0    0    0\n",
      "    0    0    0    0    0    0    0    0    0    0    0    0    0    0\n",
      "    0    0    0    0    0    0    0    0    0    0    0    0    0    0\n",
      "    0    0    0    0    0    0    0    0    0    0    0    0    0    0\n",
      "    0    0    0    0    0    0    0    0    0    0    0    0    0    0\n",
      "    0    0    0    0    0    0    0    0    0    0    0    0    0    0\n",
      "    0    0    0    0    0    0    0    0    0    0    0    0    0    0\n",
      "    0    0    0    0    0    0    0    0    0    0    0    0    0    0\n",
      "    0    0    0    0    0    0    0    0    0    0    0    0    0    0\n",
      "    0    0    0    0    0    0    0    0    0    0    0    0    0    0\n",
      "    0    0    0    0    0    0    0    0    0    0    0    0    0    0\n",
      "    0    0    0    0    0    0    0    0    0    0    0    0    0    0\n",
      "    0    0    0    0    0    0    0    0    0    0    0    0    0    0\n",
      "    0    0    0    0    0    0    0    0    0    0    0    0    0    0\n",
      "    0    0    0    0    0    0    0    0    0    0    0    0    0    0\n",
      "    0    0    0    0    0    0    0    0    0    0    0    0    0    0\n",
      "    0    0    0    0    0    0    0    0    0    0    0    0    0    0\n",
      "    0    0    0    0    0    0    0    0    0    0]\n"
     ]
    }
   ],
   "source": [
    "print(padded_X_train[0])"
   ]
  }
 ],
 "metadata": {
  "kernelspec": {
   "display_name": "Python 3",
   "language": "python",
   "name": "python3"
  },
  "language_info": {
   "codemirror_mode": {
    "name": "ipython",
    "version": 3
   },
   "file_extension": ".py",
   "mimetype": "text/x-python",
   "name": "python",
   "nbconvert_exporter": "python",
   "pygments_lexer": "ipython3",
   "version": "3.8.18"
  }
 },
 "nbformat": 4,
 "nbformat_minor": 5
}
