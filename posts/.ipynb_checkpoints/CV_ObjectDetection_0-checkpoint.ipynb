{
 "cells": [
  {
   "cell_type": "raw",
   "id": "1998819b-29af-4993-8dd9-deab042f48e1",
   "metadata": {},
   "source": [
    "---\n",
    "\"title\": \"CV_ObjectDetection_0\"\n",
    "\"author\": \"이정재\"\n",
    "\"date\": \"2024-02-09\"\n",
    "---"
   ]
  },
  {
   "cell_type": "code",
   "execution_count": 1,
   "id": "6d7f1ac0-cf4a-4b26-8c38-bd32945c782a",
   "metadata": {},
   "outputs": [
    {
     "name": "stdout",
     "output_type": "stream",
     "text": [
      "--2024-02-09 07:27:15--  http://pjreddie.com/media/files/VOCtrainval_06-Nov-2007.tar\n",
      "Resolving pjreddie.com (pjreddie.com)... 162.0.215.52\n",
      "Connecting to pjreddie.com (pjreddie.com)|162.0.215.52|:80... connected.\n",
      "HTTP request sent, awaiting response... 301 Moved Permanently\n",
      "Location: https://pjreddie.com/media/files/VOCtrainval_06-Nov-2007.tar [following]\n",
      "--2024-02-09 07:27:16--  https://pjreddie.com/media/files/VOCtrainval_06-Nov-2007.tar\n",
      "Connecting to pjreddie.com (pjreddie.com)|162.0.215.52|:443... connected.\n",
      "HTTP request sent, awaiting response... 200 OK\n",
      "Length: 460032000 (439M) [application/x-tar]\n",
      "Saving to: ‘VOCtrainval_06-Nov-2007.tar.3’\n",
      "\n",
      "VOCtrainval_06-Nov- 100%[===================>] 438.72M  15.0MB/s    in 30s     \n",
      "\n",
      "2024-02-09 07:27:47 (14.5 MB/s) - ‘VOCtrainval_06-Nov-2007.tar.3’ saved [460032000/460032000]\n",
      "\n",
      "--2024-02-09 07:27:47--  http://pjreddie.com/media/files/VOCtest_06-Nov-2007.tar\n",
      "Resolving pjreddie.com (pjreddie.com)... 162.0.215.52\n",
      "Connecting to pjreddie.com (pjreddie.com)|162.0.215.52|:80... connected.\n",
      "HTTP request sent, awaiting response... 301 Moved Permanently\n",
      "Location: https://pjreddie.com/media/files/VOCtest_06-Nov-2007.tar [following]\n",
      "--2024-02-09 07:27:47--  https://pjreddie.com/media/files/VOCtest_06-Nov-2007.tar\n",
      "Connecting to pjreddie.com (pjreddie.com)|162.0.215.52|:443... connected.\n",
      "HTTP request sent, awaiting response... 200 OK\n",
      "Length: 451020800 (430M) [application/x-tar]\n",
      "Saving to: ‘VOCtest_06-Nov-2007.tar.3’\n",
      "\n",
      "VOCtest_06-Nov-2007 100%[===================>] 430.13M  16.1MB/s    in 26s     \n",
      "\n",
      "2024-02-09 07:29:06 (16.3 MB/s) - ‘VOCtest_06-Nov-2007.tar.3’ saved [451020800/451020800]\n",
      "\n"
     ]
    }
   ],
   "source": [
    "# Pascal VOC 2007 데이터 다운로드\n",
    "!wget http://pjreddie.com/media/files/VOCtrainval_06-Nov-2007.tar\n",
    "!wget http://pjreddie.com/media/files/VOCtest_06-Nov-2007.tar"
   ]
  },
  {
   "cell_type": "code",
   "execution_count": 2,
   "id": "d7c54113-e0e9-473b-9dce-e7a8040b45ad",
   "metadata": {},
   "outputs": [],
   "source": [
    "from pathlib import Path\n",
    "Path('/root/2024winter/DL_tutorial/posts/pascal_datasets/trainval').mkdir(parents=True, exist_ok=True)\n",
    "Path('/root/2024winter/DL_tutorial/posts/pascal_datasets/test').mkdir(parents=True, exist_ok=True)\n",
    "root=Path('/root/2024winter/DL_tutorial/posts/pascal_datasets')\n",
    "\n",
    "for path1 in ('images', 'labels'):\n",
    "    for path2 in ('train2007', 'val2007', 'test2007'):\n",
    "        new_path = root / 'VOC' / path1 / path2\n",
    "        new_path.mkdir(parents=True, exist_ok=True)"
   ]
  },
  {
   "cell_type": "code",
   "execution_count": 4,
   "id": "cafe80ed-b4e0-4ab1-b7d1-b2f7026e630f",
   "metadata": {},
   "outputs": [],
   "source": [
    "# 데이터셋 압축 해제\n",
    "!tar -xvf VOCtrainval_06-Nov-2007.tar -C /root/2024winter/DL_tutorial/posts/pascal_datasets/trainval/ > /dev/null 2>&1\n",
    "!tar -xvf VOCtest_06-Nov-2007.tar -C /root/2024winter/DL_tutorial/posts/pascal_datasets/test/ > /dev/null 2>&1"
   ]
  },
  {
   "cell_type": "code",
   "execution_count": 5,
   "id": "5fca2870-ed92-476f-acfa-4d4a0c8b0a89",
   "metadata": {},
   "outputs": [
    {
     "name": "stdout",
     "output_type": "stream",
     "text": [
      "fatal: destination path 'convert2Yolo' already exists and is not an empty directory.\n"
     ]
    }
   ],
   "source": [
    "# XML 형식을 YOLO Format으로 변경해주는 깃허브 클론 \n",
    "!git clone https://github.com/ssaru/convert2Yolo.git"
   ]
  },
  {
   "cell_type": "code",
   "execution_count": 19,
   "id": "e231bb3f-6c9e-4a5c-9dbb-54a6794fdf8a",
   "metadata": {},
   "outputs": [
    {
     "name": "stdout",
     "output_type": "stream",
     "text": [
      "[Errno 2] No such file or directory: 'convert2Yolo'\n",
      "/root/2024 winter/DL_tutorial/posts/yolov5\n",
      "\u001b[31mERROR: Could not open requirements file: [Errno 2] No such file or directory: 'requirements.txt'\u001b[0m\u001b[31m\n",
      "\u001b[0mNote: you may need to restart the kernel to use updated packages.\n"
     ]
    }
   ],
   "source": [
    "# 필요 라이브러리 설치\n",
    "%cd convert2Yolo\n",
    "%pip install -qr requirements.txt"
   ]
  },
  {
   "cell_type": "code",
   "execution_count": 9,
   "id": "d39f0a1a-bbed-4167-bbbe-bf2443a5efdc",
   "metadata": {},
   "outputs": [
    {
     "name": "stdout",
     "output_type": "stream",
     "text": [
      "--2024-02-08 00:13:13--  https://drive.google.com/uc?id=1WCodEuV9giZ9SmjHzfCbJ8GuBaa0Gc79\n",
      "Resolving drive.google.com (drive.google.com)... 142.250.206.206, 2404:6800:400a:80b::200e\n",
      "Connecting to drive.google.com (drive.google.com)|142.250.206.206|:443... connected.\n",
      "HTTP request sent, awaiting response... 303 See Other\n",
      "Location: https://drive.usercontent.google.com/download?id=1WCodEuV9giZ9SmjHzfCbJ8GuBaa0Gc79 [following]\n",
      "--2024-02-08 00:13:14--  https://drive.usercontent.google.com/download?id=1WCodEuV9giZ9SmjHzfCbJ8GuBaa0Gc79\n",
      "Resolving drive.usercontent.google.com (drive.usercontent.google.com)... 142.250.76.129, 2404:6800:400a:80e::2001\n",
      "Connecting to drive.usercontent.google.com (drive.usercontent.google.com)|142.250.76.129|:443... connected.\n",
      "HTTP request sent, awaiting response... 200 OK\n",
      "Length: 134 [application/octet-stream]\n",
      "Saving to: ‘uc?id=1WCodEuV9giZ9SmjHzfCbJ8GuBaa0Gc79’\n",
      "\n",
      "uc?id=1WCodEuV9giZ9 100%[===================>]     134  --.-KB/s    in 0s      \n",
      "\n",
      "2024-02-08 00:13:15 (13.2 MB/s) - ‘uc?id=1WCodEuV9giZ9SmjHzfCbJ8GuBaa0Gc79’ saved [134/134]\n",
      "\n"
     ]
    }
   ],
   "source": [
    "!wget 'https://drive.google.com/uc?id=1WCodEuV9giZ9SmjHzfCbJ8GuBaa0Gc79'"
   ]
  },
  {
   "cell_type": "code",
   "execution_count": 6,
   "id": "e1691874-dd7a-4ff1-8d21-0a9bcba4b5a6",
   "metadata": {},
   "outputs": [
    {
     "name": "stdout",
     "output_type": "stream",
     "text": [
      "\n",
      "VOC Parsing:   |████████████████████████████████████████| 100.0% (5011/5011)  Complete\n",
      "\n",
      "\n",
      "YOLO Generating:|████████████████████████████████████████| 100.0% (5011/5011)  Completeerating:|█████████-------------------------------| 22.7% (1136/5011)  Complete\n",
      "\n",
      "\n",
      "YOLO Saving:   |████████████████████████████████████████| 100.0% (5011/5011)  Complete\n",
      "\n",
      "\n",
      "VOC Parsing:   |████████████████████████████████████████| 100.0% (4952/4952)  Complete\n",
      "\n",
      "\n",
      "YOLO Generating:|████████████████████████████████████████| 100.0% (4952/4952)  Complete\n",
      "\n",
      "\n",
      "YOLO Saving:   |████████████████████████████████████████| 100.0% (4952/4952)  Complete\n",
      "\n"
     ]
    }
   ],
   "source": [
    "# trainval 데이터 yolo format 변환\n",
    "!python3 /root/2024winter/DL_tutorial/posts/convert2Yolo/example.py --datasets VOC --img_path /root/2024winter/DL_tutorial/posts/pascal_datasets/trainval/VOCdevkit/VOC2007/JPEGImages/ --label /root/2024winter/DL_tutorial/posts/pascal_datasets/trainval/VOCdevkit/VOC2007/Annotations/ --convert_output_path /root/2024winter/DL_tutorial/posts/pascal_datasets/VOC/labels/train2007 --img_type \".jpg\" --manifest_path /root/2024winter/DL_tutorial/posts/ --cls_list_file /root/2024winter/DL_tutorial/posts/convert2Yolo/voc.names\n",
    "\n",
    "# test 데이터 yolo format 변환\n",
    "!python3 /root/2024winter/DL_tutorial/posts/convert2Yolo/example.py --datasets VOC --img_path /root/2024winter/DL_tutorial/posts/pascal_datasets/test/VOCdevkit/VOC2007/JPEGImages/ --label /root/2024winter/DL_tutorial/posts/pascal_datasets/test/VOCdevkit/VOC2007/Annotations/ --convert_output_path /root/2024winter/DL_tutorial/posts/pascal_datasets/VOC/labels/test2007 --img_type \".jpg\" --manifest_path /root/2024winter/DL_tutorial/posts/ --cls_list_file /root/2024winter/DL_tutorial/posts/convert2Yolo/voc.names"
   ]
  },
  {
   "cell_type": "code",
   "execution_count": 7,
   "id": "13cb67c7-c0ad-4780-ad5c-98da939c1e2b",
   "metadata": {},
   "outputs": [],
   "source": [
    "# Pasal VOC 제공 파일로 train, val 라벨 분할\n",
    "import shutil\n",
    "path = '/root/2024winter/DL_tutorial/posts/pascal_datasets/trainval/VOCdevkit/VOC2007/ImageSets/Main/val.txt'\n",
    "with open(path) as f:\n",
    "    image_ids = f.read().strip().split()\n",
    "    for id in image_ids:\n",
    "        ori_path = '/root/2024winter/DL_tutorial/posts/pascal_datasets/VOC/labels/train2007'\n",
    "        mv_path = '/root/2024winter/DL_tutorial/posts/pascal_datasets/VOC/labels/val2007'\n",
    "        shutil.move(f\"{ori_path}/{id}.txt\", f\"{mv_path}/{id}.txt\")"
   ]
  },
  {
   "cell_type": "code",
   "execution_count": 8,
   "id": "301b2693-00fe-4f74-9e99-7aaea7b246e5",
   "metadata": {},
   "outputs": [
    {
     "name": "stdout",
     "output_type": "stream",
     "text": [
      "train2007 :  2501\n",
      "val2007 :  2510\n",
      "test2007 :  4952\n"
     ]
    }
   ],
   "source": [
    "# train / val / test 이미지 파일 복사\n",
    "import os, shutil\n",
    "path = '/root/2024winter/DL_tutorial/posts/pascal_datasets'\n",
    "for folder, subset in ('trainval', 'train2007'), ('trainval', 'val2007'), ('test', 'test2007'):\n",
    "    ex_imgs_path = f'{path}/{folder}/VOCdevkit/VOC2007/JPEGImages'\n",
    "    label_path = f'{path}/VOC/labels/{subset}'\n",
    "    img_path = f'{path}/VOC/images/{subset}'\n",
    "    print(subset,\": \", len(os.listdir(label_path)))\n",
    "    for lbs_list in os.listdir(label_path):\n",
    "        shutil.move(os.path.join(ex_imgs_path,lbs_list.split('.')[0]+'.jpg'), os.path.join(img_path,lbs_list.split('.')[0]+'.jpg'))\n",
    "    "
   ]
  },
  {
   "cell_type": "markdown",
   "id": "46fbecb3-c2f4-48b1-ae3b-41ed4488e56b",
   "metadata": {},
   "source": [
    "## 커스텀 데이터 준비"
   ]
  },
  {
   "cell_type": "code",
   "execution_count": 6,
   "id": "4eb5049a-f522-4f77-82ce-bb061002df59",
   "metadata": {},
   "outputs": [
    {
     "name": "stdout",
     "output_type": "stream",
     "text": [
      "--2024-02-08 09:16:46--  https://drive.google.com/uc?id=1avRwo9y3M1OpCh3tYTAD75Bolb-xlEJZ\n",
      "Resolving drive.google.com (drive.google.com)... 172.217.161.206, 2404:6800:400a:80b::200e\n",
      "Connecting to drive.google.com (drive.google.com)|172.217.161.206|:443... connected.\n",
      "HTTP request sent, awaiting response... 303 See Other\n",
      "Location: https://drive.usercontent.google.com/download?id=1avRwo9y3M1OpCh3tYTAD75Bolb-xlEJZ [following]\n",
      "--2024-02-08 09:16:46--  https://drive.usercontent.google.com/download?id=1avRwo9y3M1OpCh3tYTAD75Bolb-xlEJZ\n",
      "Resolving drive.usercontent.google.com (drive.usercontent.google.com)... 142.251.222.33, 2404:6800:4004:818::2001\n",
      "Connecting to drive.usercontent.google.com (drive.usercontent.google.com)|142.251.222.33|:443... connected.\n",
      "HTTP request sent, awaiting response... 200 OK\n",
      "Length: 443876 (433K) [application/octet-stream]\n",
      "Saving to: ‘uc?id=1avRwo9y3M1OpCh3tYTAD75Bolb-xlEJZ’\n",
      "\n",
      "uc?id=1avRwo9y3M1Op 100%[===================>] 433.47K  1.34MB/s    in 0.3s    \n",
      "\n",
      "2024-02-08 09:16:48 (1.34 MB/s) - ‘uc?id=1avRwo9y3M1OpCh3tYTAD75Bolb-xlEJZ’ saved [443876/443876]\n",
      "\n"
     ]
    }
   ],
   "source": [
    "# 라벨링한 커스텀 데이터셋 다운로드\n",
    "!wget 'https://drive.google.com/uc?id=1avRwo9y3M1OpCh3tYTAD75Bolb-xlEJZ'"
   ]
  },
  {
   "cell_type": "code",
   "execution_count": 10,
   "id": "93be8478-4d01-410a-b8c3-d34c9b22897f",
   "metadata": {},
   "outputs": [],
   "source": [
    "# 파일 압축 해제\n",
    "import zipfile\n",
    "with zipfile.ZipFile(\"04_detection_custom_datasets.zip\", 'r') as zip_ref:\n",
    "    zip_ref.extractall(\"04_detection_custom_datasets\")"
   ]
  },
  {
   "cell_type": "code",
   "execution_count": 9,
   "id": "c340b139-612b-4869-aed8-246867bcaa76",
   "metadata": {},
   "outputs": [
    {
     "name": "stderr",
     "output_type": "stream",
     "text": [
      "YOLOv5 🚀 v6.2-0-gd3ea0df8 Python-3.10.13 torch-1.12.1 CUDA:0 (NVIDIA A100-SXM4-80GB MIG 7g.80gb, 81251MiB)\n"
     ]
    },
    {
     "name": "stdout",
     "output_type": "stream",
     "text": [
      "Setup complete ✅ (128 CPUs, 503.7 GB RAM, 1001.9/1757.9 GB disk)\n"
     ]
    }
   ],
   "source": [
    "# Yolo 6.2 release version 클론\n",
    "%cd /root/2024\\ winter/DL_tutorial/posts\n",
    "! git clone -b v6.2 https://github.com/ultralytics/yolov5.git\n",
    "%cd yolov5\n",
    "# 필수 라이브러리 다운로드\n",
    "!pip install numpy==1.23.0\n",
    "%pip install -qr requirements.txt\n",
    "import torch\n",
    "import utils\n",
    "display = utils.notebook_init()"
   ]
  },
  {
   "cell_type": "code",
   "execution_count": 28,
   "id": "5b0d4984-6050-4897-8aa6-0fda88d3fd04",
   "metadata": {},
   "outputs": [
    {
     "name": "stdout",
     "output_type": "stream",
     "text": [
      "\u001b[33mWARNING: Running pip as the 'root' user can result in broken permissions and conflicting behaviour with the system package manager. It is recommended to use a virtual environment instead: https://pip.pypa.io/warnings/venv\u001b[0m\u001b[33m\n",
      "\u001b[0m"
     ]
    },
    {
     "name": "stderr",
     "output_type": "stream",
     "text": [
      "\u001b[34m\u001b[1mwandb\u001b[0m: Currently logged in as: \u001b[33mdlwjdwo1109\u001b[0m. Use \u001b[1m`wandb login --relogin`\u001b[0m to force relogin\n"
     ]
    },
    {
     "name": "stdout",
     "output_type": "stream",
     "text": [
      "Note: you may need to restart the kernel to use updated packages.\n"
     ]
    },
    {
     "data": {
      "text/plain": [
       "True"
      ]
     },
     "execution_count": 28,
     "metadata": {},
     "output_type": "execute_result"
    }
   ],
   "source": [
    "# Weights & Biases 셋팅\n",
    "%pip install -q wandb\n",
    "import wandb\n",
    "wandb.login()"
   ]
  },
  {
   "cell_type": "code",
   "execution_count": 10,
   "id": "4beeb577-2422-4220-a776-e8b0189719a0",
   "metadata": {},
   "outputs": [],
   "source": [
    "# 재현을 위한 랜덤 시드 고정\n",
    "import random\n",
    "import numpy as np\n",
    "import torch\n",
    "\n",
    "seed = 2024\n",
    "deterministic = True\n",
    "random.seed(seed)\n",
    "np.random.seed(seed)\n",
    "torch.manual_seed(seed)\n",
    "torch.cuda.manual_seed(seed)\n",
    "if deterministic:\n",
    "    torch.backends.cudnn.deterministic = True\n",
    "    torch.backends.cudnn.benchmark = False"
   ]
  },
  {
   "cell_type": "code",
   "execution_count": 15,
   "id": "0ce1dfc2-24c8-4ec6-91b1-3d57d6fc2bc0",
   "metadata": {},
   "outputs": [
    {
     "name": "stdout",
     "output_type": "stream",
     "text": [
      "/root/2024winter/DL_tutorial/posts/yolov5\n",
      "\u001b[34m\u001b[1mwandb\u001b[0m: Currently logged in as: \u001b[33mdlwjdwo1109\u001b[0m. Use \u001b[1m`wandb login --relogin`\u001b[0m to force relogin\n",
      "\u001b[34m\u001b[1mtrain: \u001b[0mweights=, cfg=yolov5s.yaml, data=custom_voc.yaml, hyp=data/hyps/hyp.scratch-low.yaml, epochs=30, batch_size=32, imgsz=640, rect=False, resume=False, nosave=False, noval=False, noautoanchor=False, noplots=False, evolve=None, bucket=, cache=None, image_weights=False, device=, multi_scale=False, single_cls=False, optimizer=SGD, sync_bn=False, workers=8, project=runs/train, name=exp, exist_ok=False, quad=False, cos_lr=False, label_smoothing=0.0, patience=100, freeze=[0], save_period=-1, seed=2024, local_rank=-1, entity=None, upload_dataset=False, bbox_interval=-1, artifact_alias=latest\n",
      "\u001b[34m\u001b[1mgithub: \u001b[0mskipping check (offline), for updates see https://github.com/ultralytics/yolov5\n",
      "\u001b[31m\u001b[1mrequirements:\u001b[0m Pillow==7.2.0 not found and is required by YOLOv5, attempting auto-update...\n",
      "\u001b[31m\u001b[1mrequirements:\u001b[0m 'pip install Pillow==7.2.0' skipped (offline)\n",
      "\u001b[31m\u001b[1mrequirements:\u001b[0m cycler==0.10.0 not found and is required by YOLOv5, attempting auto-update...\n",
      "\u001b[31m\u001b[1mrequirements:\u001b[0m 'pip install cycler==0.10.0' skipped (offline)\n",
      "\u001b[31m\u001b[1mrequirements:\u001b[0m kiwisolver==1.0.1 not found and is required by YOLOv5, attempting auto-update...\n",
      "\u001b[31m\u001b[1mrequirements:\u001b[0m 'pip install kiwisolver==1.0.1' skipped (offline)\n",
      "\u001b[31m\u001b[1mrequirements:\u001b[0m matplotlib==2.2.2 not found and is required by YOLOv5, attempting auto-update...\n",
      "\u001b[31m\u001b[1mrequirements:\u001b[0m 'pip install matplotlib==2.2.2' skipped (offline)\n",
      "\u001b[31m\u001b[1mrequirements:\u001b[0m numpy==1.14.3 not found and is required by YOLOv5, attempting auto-update...\n",
      "\u001b[31m\u001b[1mrequirements:\u001b[0m 'pip install numpy==1.14.3' skipped (offline)\n",
      "\u001b[31m\u001b[1mrequirements:\u001b[0m pyparsing==2.2.0 not found and is required by YOLOv5, attempting auto-update...\n",
      "\u001b[31m\u001b[1mrequirements:\u001b[0m 'pip install pyparsing==2.2.0' skipped (offline)\n",
      "\u001b[31m\u001b[1mrequirements:\u001b[0m python-dateutil==2.7.2 not found and is required by YOLOv5, attempting auto-update...\n",
      "\u001b[31m\u001b[1mrequirements:\u001b[0m 'pip install python-dateutil==2.7.2' skipped (offline)\n",
      "\u001b[31m\u001b[1mrequirements:\u001b[0m pytz==2018.4 not found and is required by YOLOv5, attempting auto-update...\n",
      "\u001b[31m\u001b[1mrequirements:\u001b[0m 'pip install pytz==2018.4' skipped (offline)\n",
      "\u001b[31m\u001b[1mrequirements:\u001b[0m six==1.11.0 not found and is required by YOLOv5, attempting auto-update...\n",
      "\u001b[31m\u001b[1mrequirements:\u001b[0m 'pip install six==1.11.0' skipped (offline)\n",
      "YOLOv5 🚀 v6.2-0-gd3ea0df8 Python-3.10.13 torch-1.12.1 CUDA:0 (NVIDIA A100-SXM4-80GB MIG 7g.80gb, 81251MiB)\n",
      "\n",
      "\u001b[34m\u001b[1mhyperparameters: \u001b[0mlr0=0.01, lrf=0.01, momentum=0.937, weight_decay=0.0005, warmup_epochs=3.0, warmup_momentum=0.8, warmup_bias_lr=0.1, box=0.05, cls=0.5, cls_pw=1.0, obj=1.0, obj_pw=1.0, iou_t=0.2, anchor_t=4.0, fl_gamma=0.0, hsv_h=0.015, hsv_s=0.7, hsv_v=0.4, degrees=0.0, translate=0.1, scale=0.5, shear=0.0, perspective=0.0, flipud=0.0, fliplr=0.5, mosaic=1.0, mixup=0.0, copy_paste=0.0\n",
      "\u001b[34m\u001b[1mClearML: \u001b[0mrun 'pip install clearml' to automatically track, visualize and remotely train YOLOv5 🚀 in ClearML\n",
      "\u001b[34m\u001b[1mTensorBoard: \u001b[0mStart with 'tensorboard --logdir runs/train', view at http://localhost:6006/\n",
      "\u001b[34m\u001b[1mwandb\u001b[0m: Tracking run with wandb version 0.16.3\n",
      "\u001b[34m\u001b[1mwandb\u001b[0m: Run data is saved locally in \u001b[35m\u001b[1m/root/2024winter/DL_tutorial/posts/yolov5/wandb/run-20240209_073845-bf46v602\u001b[0m\n",
      "\u001b[34m\u001b[1mwandb\u001b[0m: Run \u001b[1m`wandb offline`\u001b[0m to turn off syncing.\n",
      "\u001b[34m\u001b[1mwandb\u001b[0m: Syncing run \u001b[33mexalted-thunder-9\u001b[0m\n",
      "\u001b[34m\u001b[1mwandb\u001b[0m: ⭐️ View project at \u001b[34m\u001b[4mhttps://wandb.ai/dlwjdwo1109/YOLOv5\u001b[0m\n",
      "\u001b[34m\u001b[1mwandb\u001b[0m: 🚀 View run at \u001b[34m\u001b[4mhttps://wandb.ai/dlwjdwo1109/YOLOv5/runs/bf46v602\u001b[0m\n",
      "\n",
      "Dataset not found ⚠️, missing paths ['/content/pascal_datasets/VOC/images/test2007']\n",
      "Traceback (most recent call last):\n",
      "  File \"/root/2024winter/DL_tutorial/posts/yolov5/train.py\", line 632, in <module>\n",
      "    main(opt)\n",
      "  File \"/root/2024winter/DL_tutorial/posts/yolov5/train.py\", line 528, in main\n",
      "    train(opt.hyp, opt, device, callbacks)\n",
      "  File \"/root/2024winter/DL_tutorial/posts/yolov5/train.py\", line 90, in train\n",
      "    loggers = Loggers(save_dir, weights, opt, hyp, LOGGER)  # loggers instance\n",
      "  File \"/root/2024winter/DL_tutorial/posts/yolov5/utils/loggers/__init__.py\", line 95, in __init__\n",
      "    self.wandb = WandbLogger(self.opt, run_id)\n",
      "  File \"/root/2024winter/DL_tutorial/posts/yolov5/utils/loggers/wandb/wandb_utils.py\", line 187, in __init__\n",
      "    self.data_dict = check_wandb_dataset(opt.data)\n",
      "  File \"/root/2024winter/DL_tutorial/posts/yolov5/utils/loggers/wandb/wandb_utils.py\", line 59, in check_wandb_dataset\n",
      "    return check_dataset(data_file)\n",
      "  File \"/root/2024winter/DL_tutorial/posts/yolov5/utils/general.py\", line 505, in check_dataset\n",
      "    raise Exception('Dataset not found ❌')\n",
      "Exception: Dataset not found ❌\n",
      "\u001b[34m\u001b[1mwandb\u001b[0m: 🚀 View run \u001b[33mexalted-thunder-9\u001b[0m at: \u001b[34m\u001b[4mhttps://wandb.ai/dlwjdwo1109/YOLOv5/runs/bf46v602\u001b[0m\n",
      "\u001b[34m\u001b[1mwandb\u001b[0m: ️⚡ View job at \u001b[34m\u001b[4mhttps://wandb.ai/dlwjdwo1109/YOLOv5/jobs/QXJ0aWZhY3RDb2xsZWN0aW9uOjEzODM4NjQzMg==/version_details/v0\u001b[0m\n",
      "\u001b[34m\u001b[1mwandb\u001b[0m: Synced 6 W&B file(s), 0 media file(s), 0 artifact file(s) and 0 other file(s)\n",
      "\u001b[34m\u001b[1mwandb\u001b[0m: Find logs at: \u001b[35m\u001b[1m./wandb/run-20240209_073845-bf46v602/logs\u001b[0m\n"
     ]
    }
   ],
   "source": [
    "%cd /root/2024winter/DL_tutorial/posts/yolov5\n",
    "# Pasal VOC 데이터로 YOLO v5 훈련\n",
    "!python train.py --img 640 --batch 32 --epochs 30 --data custom_voc.yaml --weights '' --cfg yolov5s.yaml --seed 2024"
   ]
  },
  {
   "cell_type": "code",
   "execution_count": null,
   "id": "ceefbad2-97ed-400f-a0c7-56d28b1757ba",
   "metadata": {},
   "outputs": [],
   "source": []
  },
  {
   "cell_type": "code",
   "execution_count": null,
   "id": "4f62a988-dfd7-4c9b-a196-ee5f5554d2b8",
   "metadata": {},
   "outputs": [],
   "source": []
  }
 ],
 "metadata": {
  "kernelspec": {
   "display_name": "Python 3 (ipykernel)",
   "language": "python",
   "name": "python3"
  },
  "language_info": {
   "codemirror_mode": {
    "name": "ipython",
    "version": 3
   },
   "file_extension": ".py",
   "mimetype": "text/x-python",
   "name": "python",
   "nbconvert_exporter": "python",
   "pygments_lexer": "ipython3",
   "version": "3.10.13"
  }
 },
 "nbformat": 4,
 "nbformat_minor": 5
}
