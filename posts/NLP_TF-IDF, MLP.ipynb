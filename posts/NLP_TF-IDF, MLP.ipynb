{
 "cells": [
  {
   "cell_type": "code",
   "execution_count": 3,
   "id": "bd584529-dc62-4de2-bed7-1eedf46806fc",
   "metadata": {},
   "outputs": [],
   "source": [
    "import pandas as pd\n",
    "import numpy as np\n",
    "import torch\n",
    "from sklearn.feature_extraction.text import TfidfVectorizer\n",
    "from sklearn.datasets import fetch_20newsgroups\n",
    "from sklearn.metrics import accuracy_score, precision_score, recall_score, f1_score"
   ]
  },
  {
   "cell_type": "markdown",
   "id": "399c594f-2e26-4434-bc66-7bdf6ca3e139",
   "metadata": {},
   "source": [
    "## 1. 데이터 로드"
   ]
  },
  {
   "cell_type": "code",
   "execution_count": 85,
   "id": "ac28643d-0d87-4594-a001-4fff7ee9d4b6",
   "metadata": {},
   "outputs": [],
   "source": [
    "# train set\n",
    "newsdata = fetch_20newsgroups(subset = 'train')"
   ]
  },
  {
   "cell_type": "markdown",
   "id": "5f584dd0-5ae5-437c-8865-c33bee16cf27",
   "metadata": {},
   "source": [
    "### `-` 데이터 속성 확인하기"
   ]
  },
  {
   "cell_type": "code",
   "execution_count": 86,
   "id": "972a6326-dbcb-48a6-a2eb-22a8e4f3f23e",
   "metadata": {},
   "outputs": [
    {
     "name": "stdout",
     "output_type": "stream",
     "text": [
      "dict_keys(['data', 'filenames', 'target_names', 'target', 'DESCR'])\n"
     ]
    }
   ],
   "source": [
    "print(newsdata.keys())"
   ]
  },
  {
   "cell_type": "code",
   "execution_count": 87,
   "id": "b313021d-a5ca-4436-a9fb-284e35f9b006",
   "metadata": {},
   "outputs": [
    {
     "name": "stdout",
     "output_type": "stream",
     "text": [
      "훈련용 샘플의 개수 : 11314\n"
     ]
    }
   ],
   "source": [
    "print('훈련용 샘플의 개수 : {}'.format(len(newsdata.data)))"
   ]
  },
  {
   "cell_type": "code",
   "execution_count": 88,
   "id": "45dde37e-9e89-4374-843b-e389d0acd1ca",
   "metadata": {},
   "outputs": [
    {
     "name": "stdout",
     "output_type": "stream",
     "text": [
      "총 주제의 개수 : 20\n",
      "['alt.atheism', 'comp.graphics', 'comp.os.ms-windows.misc', 'comp.sys.ibm.pc.hardware', 'comp.sys.mac.hardware', 'comp.windows.x', 'misc.forsale', 'rec.autos', 'rec.motorcycles', 'rec.sport.baseball', 'rec.sport.hockey', 'sci.crypt', 'sci.electronics', 'sci.med', 'sci.space', 'soc.religion.christian', 'talk.politics.guns', 'talk.politics.mideast', 'talk.politics.misc', 'talk.religion.misc']\n"
     ]
    }
   ],
   "source": [
    "num_labels = len(newsdata.target_names)\n",
    "print('총 주제의 개수 : {}'.format(num_labels))\n",
    "print(newsdata.target_names)"
   ]
  },
  {
   "cell_type": "code",
   "execution_count": 89,
   "id": "faed76f8-1668-4969-9fd7-f0f97fa40df2",
   "metadata": {},
   "outputs": [
    {
     "data": {
      "text/plain": [
       "(array([7, 4, 4, ..., 3, 1, 8]), 11314)"
      ]
     },
     "execution_count": 89,
     "metadata": {},
     "output_type": "execute_result"
    }
   ],
   "source": [
    "newsdata.target, len(newsdata.target)"
   ]
  },
  {
   "cell_type": "code",
   "execution_count": 90,
   "id": "84a87cad-80a5-45ae-9746-9a99906e3645",
   "metadata": {},
   "outputs": [
    {
     "name": "stdout",
     "output_type": "stream",
     "text": [
      "첫번째 샘플의 레이블 : 7\n"
     ]
    }
   ],
   "source": [
    "print('첫번째 샘플의 레이블 : {}'.format(newsdata.target[0]))"
   ]
  },
  {
   "cell_type": "code",
   "execution_count": 91,
   "id": "d5133c8d-6f73-465b-946d-0565637ee7f8",
   "metadata": {},
   "outputs": [
    {
     "name": "stdout",
     "output_type": "stream",
     "text": [
      "From: lerxst@wam.umd.edu (where's my thing)\n",
      "Subject: WHAT car is this!?\n",
      "Nntp-Posting-Host: rac3.wam.umd.edu\n",
      "Organization: University of Maryland, College Park\n",
      "Lines: 15\n",
      "\n",
      " I was wondering if anyone out there could enlighten me on this car I saw\n",
      "the other day. It was a 2-door sports car, looked to be from the late 60s/\n",
      "early 70s. It was called a Bricklin. The doors were really small. In addition,\n",
      "the front bumper was separate from the rest of the body. This is \n",
      "all I know. If anyone can tellme a model name, engine specs, years\n",
      "of production, where this car is made, history, or whatever info you\n",
      "have on this funky looking car, please e-mail.\n",
      "\n",
      "Thanks,\n",
      "- IL\n",
      "   ---- brought to you by your neighborhood Lerxst ----\n",
      "\n",
      "\n",
      "\n",
      "\n",
      "\n"
     ]
    }
   ],
   "source": [
    "print(newsdata.data[0]) # 첫번째 샘플 출력"
   ]
  },
  {
   "cell_type": "markdown",
   "id": "3112940d-86e6-43c7-996a-ae16c0b395b8",
   "metadata": {},
   "source": [
    "# 2. 데이터 탐색"
   ]
  },
  {
   "cell_type": "code",
   "execution_count": 92,
   "id": "aaedc6fb-85d9-4a4b-8f22-d824174cb4de",
   "metadata": {},
   "outputs": [
    {
     "data": {
      "text/html": [
       "<div>\n",
       "<style scoped>\n",
       "    .dataframe tbody tr th:only-of-type {\n",
       "        vertical-align: middle;\n",
       "    }\n",
       "\n",
       "    .dataframe tbody tr th {\n",
       "        vertical-align: top;\n",
       "    }\n",
       "\n",
       "    .dataframe thead th {\n",
       "        text-align: right;\n",
       "    }\n",
       "</style>\n",
       "<table border=\"1\" class=\"dataframe\">\n",
       "  <thead>\n",
       "    <tr style=\"text-align: right;\">\n",
       "      <th></th>\n",
       "      <th>email</th>\n",
       "      <th>target</th>\n",
       "    </tr>\n",
       "  </thead>\n",
       "  <tbody>\n",
       "    <tr>\n",
       "      <th>0</th>\n",
       "      <td>From: lerxst@wam.umd.edu (where's my thing)\\nS...</td>\n",
       "      <td>7</td>\n",
       "    </tr>\n",
       "    <tr>\n",
       "      <th>1</th>\n",
       "      <td>From: guykuo@carson.u.washington.edu (Guy Kuo)...</td>\n",
       "      <td>4</td>\n",
       "    </tr>\n",
       "    <tr>\n",
       "      <th>2</th>\n",
       "      <td>From: twillis@ec.ecn.purdue.edu (Thomas E Will...</td>\n",
       "      <td>4</td>\n",
       "    </tr>\n",
       "    <tr>\n",
       "      <th>3</th>\n",
       "      <td>From: jgreen@amber (Joe Green)\\nSubject: Re: W...</td>\n",
       "      <td>1</td>\n",
       "    </tr>\n",
       "    <tr>\n",
       "      <th>4</th>\n",
       "      <td>From: jcm@head-cfa.harvard.edu (Jonathan McDow...</td>\n",
       "      <td>14</td>\n",
       "    </tr>\n",
       "  </tbody>\n",
       "</table>\n",
       "</div>"
      ],
      "text/plain": [
       "                                               email  target\n",
       "0  From: lerxst@wam.umd.edu (where's my thing)\\nS...       7\n",
       "1  From: guykuo@carson.u.washington.edu (Guy Kuo)...       4\n",
       "2  From: twillis@ec.ecn.purdue.edu (Thomas E Will...       4\n",
       "3  From: jgreen@amber (Joe Green)\\nSubject: Re: W...       1\n",
       "4  From: jcm@head-cfa.harvard.edu (Jonathan McDow...      14"
      ]
     },
     "execution_count": 92,
     "metadata": {},
     "output_type": "execute_result"
    }
   ],
   "source": [
    "data = pd.DataFrame(newsdata.data, columns = ['email'])\n",
    "data['target'] = pd.Series(newsdata.target)\n",
    "data[:5]"
   ]
  },
  {
   "cell_type": "code",
   "execution_count": 93,
   "id": "0530a0e8-39d2-44f4-bc70-c35e599709c3",
   "metadata": {},
   "outputs": [
    {
     "data": {
      "text/plain": [
       "10    600\n",
       "15    599\n",
       "8     598\n",
       "9     597\n",
       "11    595\n",
       "7     594\n",
       "13    594\n",
       "5     593\n",
       "14    593\n",
       "2     591\n",
       "12    591\n",
       "3     590\n",
       "6     585\n",
       "1     584\n",
       "4     578\n",
       "17    564\n",
       "16    546\n",
       "0     480\n",
       "18    465\n",
       "19    377\n",
       "Name: target, dtype: int64"
      ]
     },
     "execution_count": 93,
     "metadata": {},
     "output_type": "execute_result"
    }
   ],
   "source": [
    "data['target'].value_counts()"
   ]
  },
  {
   "cell_type": "code",
   "execution_count": 94,
   "id": "46e84e04-6493-4a0a-a8cf-ae854ab35c95",
   "metadata": {},
   "outputs": [
    {
     "name": "stdout",
     "output_type": "stream",
     "text": [
      "결측값 여부: False\n"
     ]
    }
   ],
   "source": [
    "print('결측값 여부:', data.isnull().values.any())"
   ]
  },
  {
   "cell_type": "code",
   "execution_count": 95,
   "id": "a8b5402e-47e6-49f8-ba63-5979b7a52cdd",
   "metadata": {},
   "outputs": [
    {
     "name": "stdout",
     "output_type": "stream",
     "text": [
      "중복을 제외한 샘플의 수 : 11314\n",
      "중복을 제외한 주제의 수 : 20\n"
     ]
    }
   ],
   "source": [
    "print('중복을 제외한 샘플의 수 : {}'.format(data['email'].nunique()))\n",
    "print('중복을 제외한 주제의 수 : {}'.format(data['target'].nunique()))"
   ]
  },
  {
   "cell_type": "code",
   "execution_count": 96,
   "id": "7b088c26-886e-4b8c-bcdf-7a3de856d4a4",
   "metadata": {},
   "outputs": [
    {
     "data": {
      "text/plain": [
       "<matplotlib.axes._subplots.AxesSubplot at 0x7f4c647e4e20>"
      ]
     },
     "execution_count": 96,
     "metadata": {},
     "output_type": "execute_result"
    },
    {
     "data": {
      "image/png": "[encoded data removed]",
      "text/plain": [
       "<Figure size 432x288 with 1 Axes>"
      ]
     },
     "metadata": {
      "needs_background": "light"
     },
     "output_type": "display_data"
    }
   ],
   "source": [
    "data['target'].value_counts().plot(kind='bar')"
   ]
  },
  {
   "cell_type": "markdown",
   "id": "f51b7550-6d59-4423-81fd-365edf2381ca",
   "metadata": {},
   "source": [
    "# 3. `X`데이터와 `y`데이터 분리"
   ]
  },
  {
   "cell_type": "code",
   "execution_count": 97,
   "id": "e5f1b9e0-cc36-4fb5-96f0-8e0447ab5bce",
   "metadata": {},
   "outputs": [],
   "source": [
    "newsdata_test = fetch_20newsgroups(subset='test', shuffle=True)\n",
    "train_email = data['email']\n",
    "train_label = data['target']\n",
    "test_email = newsdata_test.data\n",
    "test_label = newsdata_test.target"
   ]
  },
  {
   "cell_type": "code",
   "execution_count": 98,
   "id": "c2e77470-541f-4957-8f82-fcbee7d71a0a",
   "metadata": {},
   "outputs": [
    {
     "name": "stdout",
     "output_type": "stream",
     "text": [
      "e-mail 첫번째 샘플 출력 :\n",
      "From: lerxst@wam.umd.edu (where's my thing)\n",
      "Subject: WHAT car is this!?\n",
      "Nntp-Posting-Host: rac3.wam.umd.edu\n",
      "Organization: University of Maryland, College Park\n",
      "Lines: 15\n",
      "\n",
      " I was wondering if anyone out there could enlighten me on this car I saw\n",
      "the other day. It was a 2-door sports car, looked to be from the late 60s/\n",
      "early 70s. It was called a Bricklin. The doors were really small. In addition,\n",
      "the front bumper was separate from the rest of the body. This is \n",
      "all I know. If anyone can tellme a model name, engine specs, years\n",
      "of production, where this car is made, history, or whatever info you\n",
      "have on this funky looking car, please e-mail.\n",
      "\n",
      "Thanks,\n",
      "- IL\n",
      "   ---- brought to you by your neighborhood Lerxst ----\n",
      "\n",
      "\n",
      "\n",
      "\n",
      "\n",
      "========================\n",
      "e-mail 첫번째 샘플 레이블 :\n",
      "7\n"
     ]
    }
   ],
   "source": [
    "print('e-mail 첫번째 샘플 출력 :')\n",
    "print(train_email[0])\n",
    "print('========================')\n",
    "print('e-mail 첫번째 샘플 레이블 :')\n",
    "print(train_label[0])"
   ]
  },
  {
   "cell_type": "markdown",
   "id": "da7556ab-9065-433c-89e9-f3ea300a2569",
   "metadata": {},
   "source": [
    "# 4. TF-IDF를 위한 전처리"
   ]
  },
  {
   "cell_type": "code",
   "execution_count": 99,
   "id": "ccd32d28-bd10-4c83-a4a9-e38fc562b346",
   "metadata": {},
   "outputs": [],
   "source": [
    "vocab_size = 10000"
   ]
  },
  {
   "cell_type": "code",
   "execution_count": 100,
   "id": "9cc2cf20-0122-44cb-acc0-ff780a073c27",
   "metadata": {},
   "outputs": [],
   "source": [
    "tfidf_vect = TfidfVectorizer(max_features=vocab_size)\n",
    "train_tfidf_list = tfidf_vect.fit_transform(train_email).toarray().tolist()\n",
    "test_tfidf_list = tfidf_vect.transform(test_email).toarray().tolist()"
   ]
  },
  {
   "cell_type": "code",
   "execution_count": 101,
   "id": "37d611a0-3645-4865-b9bb-52cfded0a954",
   "metadata": {},
   "outputs": [],
   "source": [
    "train_tfidf_tensor = torch.tensor(train_tfidf_list)\n",
    "train_label_tensor = torch.tensor(train_label)\n",
    "\n",
    "test_tfidf_tensor = torch.tensor(test_tfidf_list)\n",
    "test_label_tensor = torch.tensor(test_label)"
   ]
  },
  {
   "cell_type": "code",
   "execution_count": 102,
   "id": "cfa50ed4-6f63-4b71-a101-47b28d3c7bc1",
   "metadata": {},
   "outputs": [
    {
     "name": "stdout",
     "output_type": "stream",
     "text": [
      "torch.Size([11314, 10000])\n",
      "torch.Size([11314])\n",
      "torch.Size([7532, 10000])\n",
      "torch.Size([7532])\n"
     ]
    }
   ],
   "source": [
    "print(train_tfidf_tensor.shape)\n",
    "print(train_label_tensor.shape)\n",
    "print(test_tfidf_tensor.shape)\n",
    "print(test_label_tensor.shape)"
   ]
  },
  {
   "cell_type": "markdown",
   "id": "05e497db-d03e-4e8b-98cf-9f453cf90793",
   "metadata": {},
   "source": [
    "# 5. 다층 퍼셉트론 설계"
   ]
  },
  {
   "cell_type": "code",
   "execution_count": 103,
   "id": "b89e978c-5728-4e09-92be-f02f9fa4bc55",
   "metadata": {},
   "outputs": [],
   "source": [
    "from torch import nn\n",
    "\n",
    "class Perceptron(nn.Module):\n",
    "    def __init__(self, tfidf_size, num_label):\n",
    "        super(Perceptron, self).__init__()\n",
    "        self.linear1 = nn.Linear(tfidf_size, 1400)\n",
    "        self.relu = nn.ReLU()\n",
    "        self.linear2 = nn.Linear(1400, num_label)\n",
    "\n",
    "    def forward(self, tfidf_input):\n",
    "        hidden = self.linear1(tfidf_input)\n",
    "        relu = self.relu(hidden)\n",
    "        y_pred = self.linear2(relu)\n",
    "        return y_pred"
   ]
  },
  {
   "cell_type": "code",
   "execution_count": 104,
   "id": "e6504994-7a3e-4a09-9c60-248f28e6f73f",
   "metadata": {},
   "outputs": [
    {
     "data": {
      "text/plain": [
       "Perceptron(\n",
       "  (linear1): Linear(in_features=10000, out_features=1400, bias=True)\n",
       "  (relu): ReLU()\n",
       "  (linear2): Linear(in_features=1400, out_features=20, bias=True)\n",
       ")"
      ]
     },
     "execution_count": 104,
     "metadata": {},
     "output_type": "execute_result"
    }
   ],
   "source": [
    "device = torch.device(\"cuda\" if torch.cuda.is_available() else \"cpu\")\n",
    "model = Perceptron(tfidf_size=vocab_size, num_label=num_labels)\n",
    "model.to(device)"
   ]
  },
  {
   "cell_type": "markdown",
   "id": "4fea2746-767d-4b3e-b03f-d7c35f8ddfdd",
   "metadata": {},
   "source": [
    "# 6. 손실 함수"
   ]
  },
  {
   "cell_type": "code",
   "execution_count": 105,
   "id": "7059b904-0d01-4eb9-9e55-8c0513d054c2",
   "metadata": {},
   "outputs": [],
   "source": [
    "criterion = nn.CrossEntropyLoss()\n",
    "optimizer = torch.optim.Adam(model.parameters(), lr=0.001)"
   ]
  },
  {
   "cell_type": "markdown",
   "id": "aedfe4b7-8785-41b1-9bc5-2778ed5eca92",
   "metadata": {},
   "source": [
    "# 7. 데이터 로더"
   ]
  },
  {
   "cell_type": "code",
   "execution_count": 106,
   "id": "970e4b55-f66b-4043-bf7d-1eaee95ad87c",
   "metadata": {},
   "outputs": [],
   "source": [
    "train_dataset = torch.utils.data.TensorDataset(train_tfidf_tensor, train_label_tensor)\n",
    "test_dataset = torch.utils.data.TensorDataset(test_tfidf_tensor, test_label_tensor)"
   ]
  },
  {
   "cell_type": "code",
   "execution_count": 107,
   "id": "798861f5-6d3f-4a85-8487-9e2e5762229f",
   "metadata": {},
   "outputs": [],
   "source": [
    "train_DataLoader = torch.utils.data.DataLoader(train_dataset, shuffle=True, batch_size=4)\n",
    "test_DataLoader = torch.utils.data.DataLoader(test_dataset, shuffle=False, batch_size=1)"
   ]
  },
  {
   "cell_type": "markdown",
   "id": "db87fab8-4d29-4240-a9ab-178c8ec16de2",
   "metadata": {},
   "source": [
    "### `-` train"
   ]
  },
  {
   "cell_type": "code",
   "execution_count": 108,
   "id": "49e590d1-a185-4588-b0ad-292116175a49",
   "metadata": {},
   "outputs": [],
   "source": [
    "for batch in train_DataLoader:\n",
    "    batch = tuple(t.to(device) for t in batch)\n",
    "    #print(batch[0])"
   ]
  },
  {
   "cell_type": "code",
   "execution_count": null,
   "id": "8de2b199-d104-4469-82f6-ec3cb6b550ae",
   "metadata": {},
   "outputs": [],
   "source": [
    "model.train(True)\n",
    "model.zero_grad()\n",
    "\n",
    "for epoch in range(5):\n",
    "    epoch_loss = 0\n",
    "    for batch in train_DataLoader:\n",
    "        # batch (tf_idf_data, label)\n",
    "        batch = tuple(t.to(device) for t in batch)\n",
    "\n",
    "        y_pred = model(batch[0])\n",
    "        loss = criterion(y_pred, batch[1])\n",
    "        epoch_loss += loss.item()\n",
    "\n",
    "        loss.backward()\n",
    "        optimizer.step()\n",
    "        model.zero_grad()\n",
    "        \n",
    "    print(epoch, epoch_loss)\n",
    "model.train(False)"
   ]
  },
  {
   "cell_type": "code",
   "execution_count": null,
   "id": "b6f15893-dd19-4ad4-a21b-c0ed31b58c36",
   "metadata": {},
   "outputs": [],
   "source": []
  }
 ],
 "metadata": {
  "kernelspec": {
   "display_name": "Python 3",
   "language": "python",
   "name": "python3"
  },
  "language_info": {
   "codemirror_mode": {
    "name": "ipython",
    "version": 3
   },
   "file_extension": ".py",
   "mimetype": "text/x-python",
   "name": "python",
   "nbconvert_exporter": "python",
   "pygments_lexer": "ipython3",
   "version": "3.8.18"
  }
 },
 "nbformat": 4,
 "nbformat_minor": 5
}
