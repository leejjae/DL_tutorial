{
  "cells": [
    {
      "cell_type": "markdown",
      "metadata": {},
      "source": [
        "# LMTM\n",
        "\n",
        "이정재  \n",
        "2024-01-31\n",
        "\n",
        "## \\## Sentimental Analysis\n",
        "\n",
        "-   **many to one**\n",
        "    -   영화 리뷰 텍스트(many)를 입력으로 받아 긍정 또는 부정(one)을\n",
        "        출력하는 구조\n",
        "    -   **Embedding**: 영화 리뷰(text)를 벡터로 변환하는 연산\n",
        "    -   **LSTM**: 시계열 데이터를 처리하기 위한 구조\n",
        "    -   **Linear**: 결과 출력\n",
        "\n",
        "## `Step 1` : Load libraries & Datsets"
      ],
      "id": "ea05dead-0a7e-481e-99c8-d0ac2b0660a5"
    },
    {
      "cell_type": "code",
      "execution_count": 1,
      "metadata": {},
      "outputs": [],
      "source": [
        "import pandas as pd\n",
        "import numpy as np\n",
        "import matplotlib.pyplot as plt\n",
        "import seaborn as sns\n",
        "\n",
        "import torch\n",
        "from torch import nn\n",
        "from torch.optim import Adam\n",
        "from torch.utils.data import TensorDataset, DataLoader\n",
        "\n",
        "import os\n",
        "from tqdm import tqdm\n",
        "tqdm.pandas()\n",
        "from collections import Counter"
      ],
      "id": "3a9d65f7-b8c6-465a-b1ea-3ab4e1271d17"
    },
    {
      "cell_type": "code",
      "execution_count": 2,
      "metadata": {},
      "outputs": [],
      "source": [
        "data = pd.read_csv('exercise4.csv')\n",
        "data.head()"
      ],
      "id": "3facb110-2235-4568-9fd2-a4dafeff1c15"
    },
    {
      "cell_type": "code",
      "execution_count": 3,
      "metadata": {},
      "outputs": [],
      "source": [
        "data['processed'][0]"
      ],
      "id": "45cb267e-9fda-486b-abdf-caffd9ab2ac2"
    },
    {
      "cell_type": "code",
      "execution_count": 4,
      "metadata": {},
      "outputs": [],
      "source": [
        "data['processed'] = data['processed'].str.lower().replace(r\"[^a-zA-Z ]\", \"\", regex=True)"
      ],
      "id": "8089c1a1-c2da-4d20-8dda-ba6887552f73"
    },
    {
      "cell_type": "code",
      "execution_count": 5,
      "metadata": {},
      "outputs": [],
      "source": [
        "data['processed'][0]"
      ],
      "id": "5800f510-6657-4e36-ae40-bbb560fac00c"
    },
    {
      "cell_type": "markdown",
      "metadata": {},
      "source": [
        "### - 사전생성\n",
        "\n",
        "-   리뷰 문장에 들어있는 단어들을 추출하고, 각각의 단어에 숫자를\n",
        "    부여하는 작업\n",
        "-   \\[‘one’, ‘reviewer’, ‘mentioned’, ‘watching’, ‘oz’, ‘episode’,\n",
        "    ‘hooked’\\]"
      ],
      "id": "daf8d098-17fd-4af6-9ac8-1d2ed21a27e6"
    },
    {
      "cell_type": "code",
      "execution_count": 7,
      "metadata": {},
      "outputs": [],
      "source": [
        "# 문장에 포함된 단어 토큰화\n",
        "reviews = data['processed'].values\n",
        "words = ' '.join(reviews).split()\n",
        "words[:10]"
      ],
      "id": "b035f2ea-b2b6-4fdf-89fc-b9cb9a9996ee"
    },
    {
      "cell_type": "code",
      "execution_count": 63,
      "metadata": {},
      "outputs": [],
      "source": [
        "counter = Counter(words)\n",
        "vocab = sorted(counter, key=counter.get, reverse=True)\n",
        "int2word = dict(enumerate(vocab, 1))\n",
        "int2word[0] = '<PAD>'\n",
        "word2int = {word: id for id, word in int2word.items()}\n",
        "#word2int"
      ],
      "id": "af1fb683-0ac6-4f59-b558-d7e97e57403f"
    },
    {
      "cell_type": "code",
      "execution_count": 26,
      "metadata": {},
      "outputs": [],
      "source": [
        "word2int['<PAD>']"
      ],
      "id": "9a976b8d-ef89-4c36-a6f1-a9940e7c9ce6"
    },
    {
      "cell_type": "markdown",
      "metadata": {},
      "source": [
        "### - 리뷰 인코딩\n",
        "\n",
        "-   리뷰에 포함된 단어를 숫자형태로 변환하는 작업\n",
        "-   {‘i’: 1, ‘movie’: 2, ‘film’: 3, ‘the’: 4, ‘one’: 5, ‘like’: 6, ‘it’:\n",
        "    7, ‘time’: 8, ‘this’: 9, ‘good’: 10, ‘character’: 11,…}"
      ],
      "id": "98210967-2526-4584-ab42-aa2a4b447d4a"
    },
    {
      "cell_type": "code",
      "execution_count": 9,
      "metadata": {},
      "outputs": [
        {
          "output_type": "stream",
          "name": "stderr",
          "text": [
            "100%|██████████████████████████████████████████████████████████████████████████| 50000/50000 [00:02<00:00, 24930.36it/s]"
          ]
        }
      ],
      "source": [
        "reviews_enc = [[word2int[word] for word in review.split()] for review in tqdm(reviews)]"
      ],
      "id": "88419428-ac2f-45e2-9177-718848e993c3"
    },
    {
      "cell_type": "code",
      "execution_count": 10,
      "metadata": {},
      "outputs": [],
      "source": [
        "reviews_enc[0][1:10]"
      ],
      "id": "b0fe25ab-4acb-48e4-81b9-34928f4dea78"
    },
    {
      "cell_type": "code",
      "execution_count": 11,
      "metadata": {},
      "outputs": [],
      "source": [
        "data['processed'][0]"
      ],
      "id": "d7067ca8-258e-4ace-bf9d-93492655731e"
    },
    {
      "cell_type": "code",
      "execution_count": 12,
      "metadata": {},
      "outputs": [],
      "source": [
        "word2int['one'], word2int['reviewer'], word2int['mentioned']"
      ],
      "id": "9cf5b2bf-6f5f-4e85-878a-f9da5978effd"
    },
    {
      "cell_type": "code",
      "execution_count": 13,
      "metadata": {},
      "outputs": [],
      "source": [
        "data['encoded'] = reviews_enc\n",
        "data['encoded']"
      ],
      "id": "ea404ea8-e029-4331-b10d-64adf5c0bf19"
    },
    {
      "cell_type": "markdown",
      "metadata": {},
      "source": [
        "### - 길이 맞춰주기(padding or trim)\n",
        "\n",
        "-   신경망의 입력으로 사용하기 위해 일정 길이만큼 맞춰주는 작업\n",
        "-   길이가 긴 문장은 잘라주고(trim), 길이가 짧은 문장은\n",
        "    채워주는(padding) 작업"
      ],
      "id": "658cae30-fc06-4fc8-9a95-cf7cf24dc581"
    },
    {
      "cell_type": "code",
      "execution_count": 49,
      "metadata": {},
      "outputs": [],
      "source": [
        "def pad_features(reviews, pad_id, seq_length=128):\n",
        "    features = np.full((len(reviews), seq_length), pad_id, dtype=int)\n",
        "\n",
        "    for i, row in enumerate(reviews):\n",
        "        features[i, :len(row)] = np.array(row)[:seq_length]\n",
        "\n",
        "    return features\n",
        "\n",
        "seq_length = 256\n",
        "features = pad_features(reviews_enc, pad_id=word2int['<PAD>'], seq_length=seq_length)\n",
        "\n",
        "assert len(features) == len(reviews_enc)\n",
        "assert len(features[0]) == seq_length"
      ],
      "id": "a9643445-9286-4fe8-bf27-a06b27722135"
    },
    {
      "cell_type": "code",
      "execution_count": 64,
      "metadata": {},
      "outputs": [],
      "source": [
        "np.full((5,3),2)"
      ],
      "id": "60ed6399-c492-4ccd-b6e0-6170ddd8d3f2"
    },
    {
      "cell_type": "code",
      "execution_count": 50,
      "metadata": {},
      "outputs": [],
      "source": [
        "word2int['<PAD>']"
      ],
      "id": "0185efe2-7ed6-4c52-a84d-62756506c9f2"
    },
    {
      "cell_type": "code",
      "execution_count": 51,
      "metadata": {},
      "outputs": [],
      "source": [
        "labels = data['label'].to_numpy()\n",
        "labels"
      ],
      "id": "ea44f8db-df5f-4248-bc3f-726bb75a7657"
    },
    {
      "cell_type": "markdown",
      "metadata": {},
      "source": [
        "### - 데이터 분할"
      ],
      "id": "0a149d36-cfdd-4e45-9f8c-73c1851dee91"
    },
    {
      "cell_type": "code",
      "execution_count": 52,
      "metadata": {},
      "outputs": [
        {
          "output_type": "stream",
          "name": "stdout",
          "text": [
            "Train X shape: (32000, 256), Valid X shape: (8000, 256), Test X shape: (10000, 256)\n",
            "Train y shape: (32000,), Valid y shape: (8000,), Test y shape: (10000,)"
          ]
        }
      ],
      "source": [
        "# train test split\n",
        "train_size = .8\n",
        "split_id = int(len(features) * train_size)\n",
        "train_x, test_x, train_y, test_y = features[:split_id], features[split_id:], labels[:split_id], labels[split_id:]\n",
        "\n",
        "split_id = int(len(train_x) * train_size)\n",
        "train_x, valid_x, train_y, valid_y = train_x[:split_id], train_x[split_id:], train_y[:split_id], train_y[split_id:]\n",
        "\n",
        "print('Train X shape: {}, Valid X shape: {}, Test X shape: {}'.format(train_x.shape, valid_x.shape, test_x.shape))\n",
        "print('Train y shape: {}, Valid y shape: {}, Test y shape: {}'.format(train_y.shape, valid_y.shape, test_y.shape))"
      ],
      "id": "baa46b5b-69b4-4cad-9c66-29a607a7c96e"
    },
    {
      "cell_type": "markdown",
      "metadata": {},
      "source": [
        "## `Step 2` : Create DataLoader"
      ],
      "id": "afd21cb0-421d-49f9-be83-6d20113e574e"
    },
    {
      "cell_type": "code",
      "execution_count": 53,
      "metadata": {},
      "outputs": [
        {
          "output_type": "stream",
          "name": "stdout",
          "text": [
            "cuda"
          ]
        }
      ],
      "source": [
        "# set hyperparameter\n",
        "device = torch.device('cuda' if torch.cuda.is_available() else 'cpu')\n",
        "print(device)\n",
        "\n",
        "lr = 0.001\n",
        "batch_size = 128\n",
        "vocab_size = len(word2int)\n",
        "embedding_size = 256\n",
        "dropout = 0.25\n",
        "\n",
        "epochs = 8\n",
        "history = {\n",
        "    'train_loss': [],\n",
        "    'train_acc': [],\n",
        "    'val_loss': [],\n",
        "    'val_acc': [],\n",
        "    'epochs': epochs\n",
        "}\n",
        "\n",
        "es_limit = 5"
      ],
      "id": "ec9dca89-ea27-497d-8be7-8e8ba63f7f3a"
    },
    {
      "cell_type": "code",
      "execution_count": 54,
      "metadata": {},
      "outputs": [],
      "source": [
        "trainset = TensorDataset(torch.from_numpy(train_x), torch.from_numpy(train_y))\n",
        "validset = TensorDataset(torch.from_numpy(valid_x), torch.from_numpy(valid_y))\n",
        "testset = TensorDataset(torch.from_numpy(test_x), torch.from_numpy(test_y))\n",
        "\n",
        "trainloader = DataLoader(trainset, shuffle=True, batch_size=batch_size)\n",
        "valloader = DataLoader(validset, shuffle=True, batch_size=batch_size)\n",
        "testloader = DataLoader(testset, shuffle=True, batch_size=batch_size)"
      ],
      "id": "b1642650-8867-4b18-a827-4e53a7756123"
    },
    {
      "cell_type": "markdown",
      "metadata": {},
      "source": [
        "## `Step 3` : Set Network Structure"
      ],
      "id": "673a65ce-e29c-4b28-b994-f8c93fd9a034"
    },
    {
      "cell_type": "code",
      "execution_count": 55,
      "metadata": {},
      "outputs": [],
      "source": [
        "class LSTMClassifier(nn.Module):\n",
        "    def __init__(self, vocab_size, embedding_size=400):\n",
        "        super(LSTMClassifier, self).__init__()\n",
        "        self.embedding = nn.Embedding(vocab_size, embedding_size)\n",
        "        self.lstm = nn.LSTM(embedding_size, 512, 2, dropout=0.25, batch_first=True)\n",
        "        self.dropout = nn.Dropout(0.3)\n",
        "        self.fc = nn.Linear(512, 1)\n",
        "        self.sigmoid = nn.Sigmoid()\n",
        "\n",
        "    def forward(self, x):\n",
        "        x = x.long()\n",
        "        x = self.embedding(x)\n",
        "        o, _ = self.lstm(x)\n",
        "        o = o[:, -1, :]\n",
        "        o = self.dropout(o)\n",
        "        o = self.fc(o)\n",
        "        o = self.sigmoid(o)\n",
        "\n",
        "        return o"
      ],
      "id": "d3c5721f-8e77-40a5-b688-43cbbcc0b46f"
    },
    {
      "cell_type": "markdown",
      "metadata": {},
      "source": [
        "## `Step 4` : Create Model instance"
      ],
      "id": "5d70ecd6-f763-411c-b15b-7a6b3447eacf"
    },
    {
      "cell_type": "code",
      "execution_count": 56,
      "metadata": {},
      "outputs": [
        {
          "output_type": "stream",
          "name": "stdout",
          "text": [
            "LSTMClassifier(\n",
            "  (embedding): Embedding(96140, 256)\n",
            "  (lstm): LSTM(256, 512, num_layers=2, batch_first=True, dropout=0.25)\n",
            "  (dropout): Dropout(p=0.3, inplace=False)\n",
            "  (fc): Linear(in_features=512, out_features=1, bias=True)\n",
            "  (sigmoid): Sigmoid()\n",
            ")"
          ]
        }
      ],
      "source": [
        "model = LSTMClassifier(vocab_size, embedding_size).to(device)\n",
        "print(model)"
      ],
      "id": "55d4ac37-ca95-48ad-a5eb-0948cc2a4989"
    },
    {
      "cell_type": "markdown",
      "metadata": {},
      "source": [
        "## `Step 5` : Model compile"
      ],
      "id": "ac01ace4-e4c7-4ff8-8589-7cc9ffd315ae"
    },
    {
      "cell_type": "code",
      "execution_count": 57,
      "metadata": {},
      "outputs": [],
      "source": [
        "criterion = nn.BCELoss()\n",
        "optim = Adam(model.parameters(), lr=lr)"
      ],
      "id": "4137ba8e-243e-4554-8bd1-ed43d3c109cc"
    },
    {
      "cell_type": "markdown",
      "metadata": {},
      "source": [
        "## `Step 6` : Set train loop"
      ],
      "id": "4527e0fb-dfd7-4010-8cc6-a7ac38b0b870"
    },
    {
      "cell_type": "code",
      "execution_count": 58,
      "metadata": {},
      "outputs": [],
      "source": [
        "def train(model, trainloader):\n",
        "    model.train()\n",
        "\n",
        "    train_loss = 0\n",
        "    train_acc = 0\n",
        "\n",
        "    for id, (X, y) in enumerate(trainloader):\n",
        "        X, y = X.to(device), y.to(device)\n",
        "        optim.zero_grad()\n",
        "        y_pred = model(X)\n",
        "        loss = criterion(y_pred.squeeze(), y.float())\n",
        "        loss.backward()\n",
        "        optim.step()\n",
        "\n",
        "        train_loss += loss.item()\n",
        "        y_pred = torch.tensor([1 if i == True else 0 for i in y_pred > 0.5], device=device)\n",
        "        equals = y_pred == y\n",
        "        acc = torch.mean(equals.type(torch.FloatTensor))\n",
        "        train_acc += acc.item()\n",
        "\n",
        "    history['train_loss'].append(train_loss / len(trainloader))\n",
        "    history['train_acc'].append(train_acc / len(trainloader))\n",
        "\n",
        "    return train_loss, train_acc"
      ],
      "id": "1c73ad1d-b5f7-435c-a93a-a1749b687431"
    },
    {
      "cell_type": "markdown",
      "metadata": {},
      "source": [
        "## `Step 7` : Set test loop"
      ],
      "id": "8fc07db7-a37c-443d-899c-be9658d4e61f"
    },
    {
      "cell_type": "code",
      "execution_count": 59,
      "metadata": {},
      "outputs": [],
      "source": [
        "def validation(model, valloader):\n",
        "    model.eval()\n",
        "\n",
        "    val_loss = 0\n",
        "    val_acc = 0\n",
        "\n",
        "    with torch.no_grad():\n",
        "        for id, (X,y) in enumerate(valloader):\n",
        "            X, y = X.to(device), y.to(device)\n",
        "            y_pred = model(X)\n",
        "            loss = criterion(y_pred.squeeze(), y.float())\n",
        "\n",
        "            val_loss += loss.item()\n",
        "\n",
        "            y_pred = torch.tensor([1 if i == True else 0 for i in y_pred > 0.5], device=device)\n",
        "            equals = y_pred == y\n",
        "            acc = torch.mean(equals.type(torch.FloatTensor))\n",
        "            val_acc += acc.item()\n",
        "\n",
        "        history['val_loss'].append(val_loss / len(valloader))\n",
        "        history['val_acc'].append(val_acc / len(valloader))\n",
        "\n",
        "    return val_loss, val_acc\n",
        "\n",
        "    \n",
        "    "
      ],
      "id": "28fc51a1-fe04-4270-9509-6e92839b9656"
    },
    {
      "cell_type": "markdown",
      "metadata": {},
      "source": [
        "## `Step 8` : Run Model"
      ],
      "id": "537f0a07-98bd-4e80-8869-ed54f9be28a9"
    },
    {
      "cell_type": "code",
      "execution_count": 60,
      "metadata": {},
      "outputs": [
        {
          "output_type": "stream",
          "name": "stderr",
          "text": [
            "Training:   0%|                                                                                   | 0/8 [00:12<?, ?it/s]Training:  25%|██████████████████▊                                                        | 2/8 [00:23<01:10, 11.75s/it]Training:  25%|██████████████████▊                                                        | 2/8 [00:32<01:10, 11.75s/it]Training:  38%|████████████████████████████▏                                              | 3/8 [00:42<00:53, 10.67s/it]Training:  50%|█████████████████████████████████████▌                                     | 4/8 [00:51<00:40, 10.24s/it]Training:  62%|██████████████████████████████████████████████▉                            | 5/8 [01:01<00:29,  9.82s/it]Training:  88%|█████████████████████████████████████████████████████████████████▋         | 7/8 [01:11<00:09,  9.95s/it]Training: 100%|███████████████████████████████████████████████████████████████████████████| 8/8 [01:21<00:00, 10.20s/it]"
          ]
        },
        {
          "output_type": "stream",
          "name": "stdout",
          "text": [
            "Epoch[1/8] Train Loss: 0.694, Train Acc: 0.506, Val Loss: 0.692, Val Acc: 0.496\n",
            "Epoch[2/8] Train Loss: 0.694, Train Acc: 0.506, Val Loss: 0.692, Val Acc: 0.514\n",
            "Epoch[3/8] Train Loss: 0.669, Train Acc: 0.570, Val Loss: 0.650, Val Acc: 0.706\n",
            "Epoch[4/8] Train Loss: 0.478, Train Acc: 0.800, Val Loss: 0.601, Val Acc: 0.772\n",
            "Epoch[5/8] Train Loss: 0.448, Train Acc: 0.811, Val Loss: 0.405, Val Acc: 0.818\n",
            "Epoch[6/8] Train Loss: 0.314, Train Acc: 0.879, Val Loss: 0.357, Val Acc: 0.847\n",
            "Epoch[7/8] Train Loss: 0.237, Train Acc: 0.914, Val Loss: 0.384, Val Acc: 0.842\n",
            "Epoch[8/8] Train Loss: 0.203, Train Acc: 0.932, Val Loss: 0.426, Val Acc: 0.856"
          ]
        }
      ],
      "source": [
        "# train loop\n",
        "epochloop = tqdm(range(epochs), desc='Training')\n",
        "\n",
        "# early stop trigger\n",
        "es_trigger = 0\n",
        "val_loss_min = torch.inf\n",
        "\n",
        "for e in epochloop:\n",
        "    train_loss, train_acc = train(model, trainloader)\n",
        "    val_loss, val_acc = validation(model, valloader)\n",
        "    epochloop.write(f'Epoch[{e+1}/{epochs}] Train Loss: {train_loss / len(trainloader):.3f}, Train Acc: {train_acc / len(trainloader):.3f}, Val Loss: {val_loss / len(valloader):.3f}, Val Acc: {val_acc / len(valloader):.3f}')\n",
        "\n",
        "    # save model if validation loss decrease\n",
        "    if val_loss / len(valloader) <= val_loss_min:\n",
        "        torch.save(model.state_dict(), './sentiment_lstm.pt')\n",
        "        val_loss_min=val_loss / len(valloader)\n",
        "        es_trigger = 0\n",
        "\n",
        "    else:\n",
        "        es_trigger += 1\n",
        "\n",
        "    # early stop\n",
        "    if es_trigger >= es_limit:\n",
        "        epochloop.write(f'Early stopped at Epoch-{e+1}')\n",
        "        history['epochs'] = e+1\n",
        "        break"
      ],
      "id": "5ca6ae26-0952-4652-bc4b-ac7d754ab483"
    },
    {
      "cell_type": "code",
      "execution_count": 61,
      "metadata": {},
      "outputs": [
        {
          "output_type": "display_data",
          "metadata": {},
          "data": {
            "image/png": "[encoded data removed]"
          }
        }
      ],
      "source": [
        "# plot loss\n",
        "plt.figure(figsize=(6,4))\n",
        "plt.plot(range(history['epochs']), history['train_acc'][:history['epochs']], label='Train Acc')\n",
        "plt.plot(range(history['epochs']), history['val_acc'][:history['epochs']], label='Val Acc')\n",
        "plt.legend()\n",
        "plt.show()"
      ],
      "id": "0511c7ca-58bd-44cd-8d18-74a364b37980"
    },
    {
      "cell_type": "code",
      "execution_count": 62,
      "metadata": {},
      "outputs": [
        {
          "output_type": "display_data",
          "metadata": {},
          "data": {
            "image/png": "[encoded data removed]"
          }
        }
      ],
      "source": [
        "# plot loss\n",
        "plt.figure(figsize=(6,4))\n",
        "plt.plot(range(history['epochs']), history['train_loss'][:history['epochs']], label='Train Loss')\n",
        "plt.plot(range(history['epochs']), history['val_acc'][:history['epochs']], label='Val Loss')\n",
        "plt.legend()\n",
        "plt.show()"
      ],
      "id": "05a38731-0b91-4605-aab1-3811d9a3711a"
    }
  ],
  "nbformat": 4,
  "nbformat_minor": 5,
  "metadata": {
    "kernelspec": {
      "name": "python3",
      "display_name": "Python 3 (ipykernel)",
      "language": "python"
    },
    "language_info": {
      "name": "python",
      "codemirror_mode": {
        "name": "ipython",
        "version": "3"
      },
      "file_extension": ".py",
      "mimetype": "text/x-python",
      "nbconvert_exporter": "python",
      "pygments_lexer": "ipython3",
      "version": "3.10.13"
    }
  }
}