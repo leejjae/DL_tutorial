{
  "cells": [
    {
      "cell_type": "markdown",
      "metadata": {},
      "source": [
        "# ANN_2\n",
        "\n",
        "이정재  \n",
        "2024-01-29\n",
        "\n",
        "# `Step 1` : Load libraries & Datasts"
      ],
      "id": "1f9018e3-e078-48b8-8adb-4e850cdab99c"
    },
    {
      "cell_type": "code",
      "execution_count": 1,
      "metadata": {},
      "outputs": [],
      "source": [
        "import numpy as np\n",
        "import matplotlib.pyplot as plt\n",
        "\n",
        "import torch\n",
        "from torch.utils.data import DataLoader\n",
        "from torch import nn\n",
        "\n",
        "from torchvision import datasets\n",
        "from torchvision.transforms import ToTensor"
      ],
      "id": "d4a1acfd-d1a2-4bd9-bd63-3eecfcf1c5b9"
    },
    {
      "cell_type": "code",
      "execution_count": 2,
      "metadata": {},
      "outputs": [],
      "source": [
        "# FashionMNIST 데이터 불러오기\n",
        "training_data = datasets.FashionMNIST(\n",
        "    root = 'data',\n",
        "    train = True,\n",
        "    download = True,\n",
        "    transform = ToTensor()\n",
        ")"
      ],
      "id": "9c16e914-0be1-46a6-a8be-a15ee06e5a72"
    },
    {
      "cell_type": "code",
      "execution_count": 3,
      "metadata": {},
      "outputs": [],
      "source": [
        "test_data = datasets.FashionMNIST(\n",
        "    root = 'data',\n",
        "    train = False,\n",
        "    download = True,\n",
        "    transform = ToTensor()\n",
        ")"
      ],
      "id": "25cbcee1-cd13-4c53-9b1e-451220e4c051"
    },
    {
      "cell_type": "markdown",
      "metadata": {},
      "source": [
        "# `Step 2` : Create DataLoader"
      ],
      "id": "d4d75724-eee7-4c9c-8847-68e1ac87b2f1"
    },
    {
      "cell_type": "code",
      "execution_count": 4,
      "metadata": {},
      "outputs": [],
      "source": [
        "train_dataloader = DataLoader(training_data, batch_size=64, shuffle=True)\n",
        "test_dataloader = DataLoader(test_data, batch_size=64, shuffle=False)"
      ],
      "id": "b9ab2b63-1ac5-4ffc-9e78-4dc0685a9fc5"
    },
    {
      "cell_type": "code",
      "execution_count": 5,
      "metadata": {},
      "outputs": [
        {
          "output_type": "stream",
          "name": "stdout",
          "text": [
            "device = cuda"
          ]
        }
      ],
      "source": [
        "# Device\n",
        "device = 'cuda' if torch.cuda.is_available() else 'cpu'\n",
        "print(f'device = {device}')"
      ],
      "id": "5143eb2f-900e-483b-9f45-bbc933ffaf28"
    },
    {
      "cell_type": "markdown",
      "metadata": {},
      "source": [
        "# EDA"
      ],
      "id": "d9512ca2-0a20-42cb-9da7-76128aab85ac"
    },
    {
      "cell_type": "code",
      "execution_count": 6,
      "metadata": {},
      "outputs": [
        {
          "output_type": "stream",
          "name": "stdout",
          "text": [
            "Dataset FashionMNIST\n",
            "    Number of datapoints: 60000\n",
            "    Root location: data\n",
            "    Split: Train\n",
            "    StandardTransform\n",
            "Transform: ToTensor() \n",
            "--------------------------\n",
            " Dataset FashionMNIST\n",
            "    Number of datapoints: 10000\n",
            "    Root location: data\n",
            "    Split: Test\n",
            "    StandardTransform\n",
            "Transform: ToTensor()"
          ]
        }
      ],
      "source": [
        "print(training_data, '\\n--------------------------\\n', test_data)"
      ],
      "id": "d01d3043-4222-496f-81c8-dbe84e95ccdd"
    },
    {
      "cell_type": "code",
      "execution_count": 7,
      "metadata": {},
      "outputs": [
        {
          "output_type": "stream",
          "name": "stdout",
          "text": [
            "Feature batch shape: torch.Size([64, 1, 28, 28])\n",
            "Labels batch shape: torch.Size([64])"
          ]
        }
      ],
      "source": [
        "train_features, train_labels = next(iter(train_dataloader))\n",
        "print(f'Feature batch shape: {train_features.size()}')\n",
        "print(f\"Labels batch shape: {train_labels.size()}\")"
      ],
      "id": "f0841a1b-1fa7-4d41-9c91-cfe7ca513120"
    },
    {
      "cell_type": "code",
      "execution_count": 8,
      "metadata": {},
      "outputs": [],
      "source": [
        "len(training_data)"
      ],
      "id": "2947e533-f0a6-4b73-abb7-897498cda77c"
    },
    {
      "cell_type": "code",
      "execution_count": 9,
      "metadata": {},
      "outputs": [
        {
          "output_type": "stream",
          "name": "stdout",
          "text": [
            "label=9"
          ]
        },
        {
          "output_type": "display_data",
          "metadata": {},
          "data": {
            "image/png": "[encoded data removed]"
          }
        }
      ],
      "source": [
        "img, label = training_data[0]\n",
        "plt.imshow(img.squeeze(), cmap='gray')\n",
        "print(f'label={label}')"
      ],
      "id": "2fa0f441-5c61-441f-9032-d694dfd49bf9"
    },
    {
      "cell_type": "code",
      "execution_count": 10,
      "metadata": {},
      "outputs": [],
      "source": [
        "labels_map = {\n",
        "    0: \"T-Shirt\",\n",
        "    1: \"Trouser\",\n",
        "    2: \"Pullover\",\n",
        "    3: \"Dress\",\n",
        "    4: \"Coat\",\n",
        "    5: \"Sandal\",\n",
        "    6: \"Shirt\",\n",
        "    7: \"Sneaker\",\n",
        "    8: \"Bag\",\n",
        "    9: \"Ankle Boot\",\n",
        "}"
      ],
      "id": "c0cd7d4d-e6a4-4d6b-addb-484f48d40a95"
    },
    {
      "cell_type": "code",
      "execution_count": 11,
      "metadata": {},
      "outputs": [
        {
          "output_type": "stream",
          "name": "stdout",
          "text": [
            "Bag\n",
            "Bag\n",
            "Trouser\n",
            "Ankle Boot\n",
            "Sneaker\n",
            "Coat\n",
            "Coat\n",
            "Bag\n",
            "Ankle Boot\n",
            "Shirt"
          ]
        },
        {
          "output_type": "display_data",
          "metadata": {},
          "data": {
            "image/png": "[encoded data removed]"
          }
        }
      ],
      "source": [
        "figure = plt.figure(figsize = (20, 8))\n",
        "cols, rows = 5, 2\n",
        "\n",
        "for i in range(1, cols * rows +1):\n",
        "    sample_idx = torch.randint(len(training_data), size=(1,)).item()\n",
        "    img, label = training_data[sample_idx]\n",
        "    figure.add_subplot(rows, cols, i)\n",
        "    plt.title(labels_map[label])\n",
        "    print(labels_map[label])\n",
        "    plt.axis('off')\n",
        "    plt.imshow(img.squeeze(), cmap='gray')\n",
        "plt.show()\n"
      ],
      "id": "c4634670-d862-4fb5-820b-8640a8c149bc"
    },
    {
      "cell_type": "markdown",
      "metadata": {},
      "source": [
        "# `Step 3` : Set Network Structure"
      ],
      "id": "72d98f9a-d788-4994-8d1f-0f6eb345ab3b"
    },
    {
      "cell_type": "code",
      "execution_count": 12,
      "metadata": {},
      "outputs": [],
      "source": [
        "class NeuralNetwork(nn.Module):\n",
        "    def __init__(self):\n",
        "        super(NeuralNetwork, self).__init__()\n",
        "        self.flatten = nn.Flatten()\n",
        "        self.classifier = nn.Sequential(\n",
        "            nn.Linear(28*28, 128),\n",
        "            nn.ReLU(),\n",
        "            nn.Dropout(0.2),\n",
        "            nn.Linear(128, 10)\n",
        "        )\n",
        "    def forward(self, x):\n",
        "        x = self.flatten(x)\n",
        "        output = self.classifier(x)\n",
        "        return output"
      ],
      "id": "6b603681-eb86-4268-a41c-e64da1681652"
    },
    {
      "cell_type": "markdown",
      "metadata": {},
      "source": [
        "# `Step 4` : Create Model instacne"
      ],
      "id": "dde7e9f8-2a0e-410f-bcb7-5ba4159f17c7"
    },
    {
      "cell_type": "code",
      "execution_count": 14,
      "metadata": {},
      "outputs": [
        {
          "output_type": "stream",
          "name": "stdout",
          "text": [
            "NeuralNetwork(\n",
            "  (flatten): Flatten(start_dim=1, end_dim=-1)\n",
            "  (classifier): Sequential(\n",
            "    (0): Linear(in_features=784, out_features=128, bias=True)\n",
            "    (1): ReLU()\n",
            "    (2): Dropout(p=0.2, inplace=False)\n",
            "    (3): Linear(in_features=128, out_features=10, bias=True)\n",
            "  )\n",
            ")"
          ]
        }
      ],
      "source": [
        "model = NeuralNetwork().to(device)\n",
        "print(model)"
      ],
      "id": "64b54691-cb76-46dd-880a-e63e0856a077"
    },
    {
      "cell_type": "markdown",
      "metadata": {},
      "source": [
        "# Model test"
      ],
      "id": "bd2b00d1-7fb3-4665-b0f6-9bf84badf630"
    },
    {
      "cell_type": "code",
      "execution_count": 15,
      "metadata": {},
      "outputs": [
        {
          "output_type": "stream",
          "name": "stdout",
          "text": [
            "모델 출력 결과: tensor([[ 0.2122, -0.0533,  0.4609, -0.1348, -0.2897,  0.0426,  0.2330, -0.0539,\n",
            "         -0.2371,  0.3135]], device='cuda:0', grad_fn=<AddmmBackward0>)\n",
            "\n",
            "Softmax 결과: tensor([[0.1144, 0.0878, 0.1468, 0.0809, 0.0693, 0.0966, 0.1169, 0.0877, 0.0730,\n",
            "         0.1267]], device='cuda:0', grad_fn=<SoftmaxBackward0>)\n",
            "\n",
            "tensor(2, device='cuda:0')"
          ]
        }
      ],
      "source": [
        "X = torch.rand(1, 28, 28, device=device)\n",
        "output = model(X)\n",
        "print(f'모델 출력 결과: {output}\\n')\n",
        "pred_probab = nn.Softmax(dim=1)(output)\n",
        "print(f'Softmax 결과: {pred_probab}\\n')\n",
        "y_pred = pred_probab.argmax()\n",
        "print(y_pred)"
      ],
      "id": "9d4488d1-2681-4cf1-ab2a-bd81be32f44f"
    },
    {
      "cell_type": "markdown",
      "metadata": {},
      "source": [
        "# `Step 5` : Model compile"
      ],
      "id": "9f1e2b70-842c-417f-b6ca-edf75ea4b801"
    },
    {
      "cell_type": "code",
      "execution_count": 16,
      "metadata": {},
      "outputs": [],
      "source": [
        "# Loss\n",
        "loss = nn.CrossEntropyLoss()\n",
        "# Optimizer\n",
        "learning_rate = 1e-3\n",
        "optimizer = torch.optim.Adam(model.parameters(), lr=learning_rate)"
      ],
      "id": "7e582a89-e5d6-4f12-aa1c-77e9ecb026bf"
    },
    {
      "cell_type": "markdown",
      "metadata": {},
      "source": [
        "# `Step 6` : Set train loop"
      ],
      "id": "de5d76bf-5d9c-4119-a823-46833940e924"
    },
    {
      "cell_type": "code",
      "execution_count": 1,
      "metadata": {},
      "outputs": [],
      "source": [
        "def train_loop(train_loader, model, loss_fn, optimizer):\n",
        "    size = len(train_loader.dataset)\n",
        "\n",
        "    for batch, (X,y) in enumerate(train_loader):\n",
        "        X, y = X.to(device), y.to(device)\n",
        "        pred = model(X)\n",
        "\n",
        "        # loss calculation\n",
        "        loss = loss_fn(pred, y)\n",
        "\n",
        "        # backpropagation\n",
        "        optimizer.zero_grad()\n",
        "        loss.backward()\n",
        "        optimizer.step()\n",
        "\n",
        "        if batch % 100 == 0:\n",
        "            loss, current = loss.item(), batch * len(X)\n",
        "            print(f'loss: {loss:7>f} [{current:>5d}]/{size:5d}')"
      ],
      "id": "e0d1a7ee-906d-4576-aaa5-25ef47fae48e"
    },
    {
      "cell_type": "markdown",
      "metadata": {},
      "source": [
        "# `Step 7` : Set test loop"
      ],
      "id": "1ead6bf5-9461-4237-a974-953e13cf11f6"
    },
    {
      "cell_type": "code",
      "execution_count": 21,
      "metadata": {},
      "outputs": [],
      "source": [
        "def test_loop(test_loader, model, loss_fn):\n",
        "    size = len(test_loader.dataset)\n",
        "    num_batches = len(test_loader)\n",
        "    test_loss, correct = 0, 0\n",
        "\n",
        "    with torch.no_grad():\n",
        "        for X, y in test_loader:\n",
        "            X, y = X.to(device), y.to(device)\n",
        "            pred = model(X)\n",
        "            test_loss += loss_fn(pred, y).item()\n",
        "            correct += (pred.argmax(1)==y).type(torch.float).sum().item()\n",
        "\n",
        "    test_loss /= num_batches\n",
        "    correct /= size\n",
        "    print(f'Test Error: \\n Accuracy: {(100*correct):>0.1f}%, Avg loss: {test_loss:8f}\\n')"
      ],
      "id": "44defa55-3a14-48e7-8b6f-2adfe7d54146"
    },
    {
      "cell_type": "markdown",
      "metadata": {},
      "source": [
        "# `Step 8` : Run model"
      ],
      "id": "f3c80f7b-d998-4474-8ab9-5a234a2b0427"
    },
    {
      "cell_type": "code",
      "execution_count": 22,
      "metadata": {},
      "outputs": [
        {
          "output_type": "stream",
          "name": "stdout",
          "text": [
            "Epoch 1 \n",
            "--------------------------\n",
            "loss: 0.431373 [    0]/60000\n",
            "loss: 0.587412 [ 6400]/60000\n",
            "loss: 0.583656 [12800]/60000\n",
            "loss: 0.526607 [19200]/60000\n",
            "loss: 0.425904 [25600]/60000\n",
            "loss: 0.559104 [32000]/60000\n",
            "loss: 0.255318 [38400]/60000\n",
            "loss: 0.401609 [44800]/60000\n",
            "loss: 0.359597 [51200]/60000\n",
            "loss: 0.415519 [57600]/60000\n",
            "Test Error: \n",
            " Accuracy: 84.0%, Avg loss: 0.441000\n",
            "\n",
            "Epoch 2 \n",
            "--------------------------\n",
            "loss: 0.396597 [    0]/60000\n",
            "loss: 0.282736 [ 6400]/60000\n",
            "loss: 0.348952 [12800]/60000\n",
            "loss: 0.394269 [19200]/60000\n",
            "loss: 0.309174 [25600]/60000\n",
            "loss: 0.406731 [32000]/60000\n",
            "loss: 0.255115 [38400]/60000\n",
            "loss: 0.464652 [44800]/60000\n",
            "loss: 0.266001 [51200]/60000\n",
            "loss: 0.316354 [57600]/60000\n",
            "Test Error: \n",
            " Accuracy: 86.0%, Avg loss: 0.396377\n",
            "\n",
            "Epoch 3 \n",
            "--------------------------\n",
            "loss: 0.343163 [    0]/60000\n",
            "loss: 0.417957 [ 6400]/60000\n",
            "loss: 0.361057 [12800]/60000\n",
            "loss: 0.290214 [19200]/60000\n",
            "loss: 0.439867 [25600]/60000\n",
            "loss: 0.573623 [32000]/60000\n",
            "loss: 0.358405 [38400]/60000\n",
            "loss: 0.280711 [44800]/60000\n",
            "loss: 0.403463 [51200]/60000\n",
            "loss: 0.364402 [57600]/60000\n",
            "Test Error: \n",
            " Accuracy: 85.9%, Avg loss: 0.389022\n",
            "\n",
            "Epoch 4 \n",
            "--------------------------\n",
            "loss: 0.269444 [    0]/60000\n",
            "loss: 0.317166 [ 6400]/60000\n",
            "loss: 0.371522 [12800]/60000\n",
            "loss: 0.389202 [19200]/60000\n",
            "loss: 0.290166 [25600]/60000\n",
            "loss: 0.557429 [32000]/60000\n",
            "loss: 0.463130 [38400]/60000\n",
            "loss: 0.320192 [44800]/60000\n",
            "loss: 0.230014 [51200]/60000\n",
            "loss: 0.221253 [57600]/60000\n",
            "Test Error: \n",
            " Accuracy: 86.5%, Avg loss: 0.380155\n",
            "\n",
            "Epoch 5 \n",
            "--------------------------\n",
            "loss: 0.378960 [    0]/60000\n",
            "loss: 0.463637 [ 6400]/60000\n",
            "loss: 0.203711 [12800]/60000\n",
            "loss: 0.376729 [19200]/60000\n",
            "loss: 0.376216 [25600]/60000\n",
            "loss: 0.302987 [32000]/60000\n",
            "loss: 0.401179 [38400]/60000\n",
            "loss: 0.283290 [44800]/60000\n",
            "loss: 0.314023 [51200]/60000\n",
            "loss: 0.380436 [57600]/60000\n",
            "Test Error: \n",
            " Accuracy: 86.1%, Avg loss: 0.391101\n",
            "\n",
            "Epoch 6 \n",
            "--------------------------\n",
            "loss: 0.324956 [    0]/60000\n",
            "loss: 0.376954 [ 6400]/60000\n",
            "loss: 0.286267 [12800]/60000\n",
            "loss: 0.302243 [19200]/60000\n",
            "loss: 0.253790 [25600]/60000\n",
            "loss: 0.259367 [32000]/60000\n",
            "loss: 0.489078 [38400]/60000\n",
            "loss: 0.244414 [44800]/60000\n",
            "loss: 0.335011 [51200]/60000\n",
            "loss: 0.284465 [57600]/60000\n",
            "Test Error: \n",
            " Accuracy: 86.4%, Avg loss: 0.392578\n",
            "\n",
            "Epoch 7 \n",
            "--------------------------\n",
            "loss: 0.470740 [    0]/60000\n",
            "loss: 0.352301 [ 6400]/60000\n",
            "loss: 0.215639 [12800]/60000\n",
            "loss: 0.214226 [19200]/60000\n",
            "loss: 0.198628 [25600]/60000\n",
            "loss: 0.290468 [32000]/60000\n",
            "loss: 0.396786 [38400]/60000\n",
            "loss: 0.337734 [44800]/60000\n",
            "loss: 0.209183 [51200]/60000\n",
            "loss: 0.446850 [57600]/60000\n",
            "Test Error: \n",
            " Accuracy: 86.5%, Avg loss: 0.375429\n",
            "\n",
            "Epoch 8 \n",
            "--------------------------\n",
            "loss: 0.325714 [    0]/60000\n",
            "loss: 0.252096 [ 6400]/60000\n",
            "loss: 0.266274 [12800]/60000\n",
            "loss: 0.404169 [19200]/60000\n",
            "loss: 0.398270 [25600]/60000\n",
            "loss: 0.240059 [32000]/60000\n",
            "loss: 0.345725 [38400]/60000\n",
            "loss: 0.339798 [44800]/60000\n",
            "loss: 0.232539 [51200]/60000\n",
            "loss: 0.371980 [57600]/60000\n",
            "Test Error: \n",
            " Accuracy: 87.3%, Avg loss: 0.363998\n",
            "\n",
            "Epoch 9 \n",
            "--------------------------\n",
            "loss: 0.275302 [    0]/60000\n",
            "loss: 0.459145 [ 6400]/60000\n",
            "loss: 0.477752 [12800]/60000\n",
            "loss: 0.368110 [19200]/60000\n",
            "loss: 0.166666 [25600]/60000\n",
            "loss: 0.340989 [32000]/60000\n",
            "loss: 0.412024 [38400]/60000\n",
            "loss: 0.255185 [44800]/60000\n",
            "loss: 0.370468 [51200]/60000\n",
            "loss: 0.383511 [57600]/60000\n",
            "Test Error: \n",
            " Accuracy: 87.2%, Avg loss: 0.362548\n",
            "\n",
            "Epoch 10 \n",
            "--------------------------\n",
            "loss: 0.163738 [    0]/60000\n",
            "loss: 0.234758 [ 6400]/60000\n",
            "loss: 0.498840 [12800]/60000\n",
            "loss: 0.502605 [19200]/60000\n",
            "loss: 0.460932 [25600]/60000\n",
            "loss: 0.459421 [32000]/60000\n",
            "loss: 0.243460 [38400]/60000\n",
            "loss: 0.231028 [44800]/60000\n",
            "loss: 0.239964 [51200]/60000\n",
            "loss: 0.273228 [57600]/60000\n",
            "Test Error: \n",
            " Accuracy: 87.0%, Avg loss: 0.363198\n",
            "\n",
            "Done"
          ]
        }
      ],
      "source": [
        "epochs = 10\n",
        "\n",
        "for i in range(epochs):\n",
        "    print(f'Epoch {i+1} \\n--------------------------')\n",
        "    train_loop(train_dataloader, model, loss, optimizer)\n",
        "    test_loop(test_dataloader, model, loss)\n",
        "print(\"Done\")"
      ],
      "id": "4069a417-924a-4795-bb1b-457304c32814"
    },
    {
      "cell_type": "markdown",
      "metadata": {},
      "source": [
        "# `Step 9` : Save & load model\n",
        "\n",
        "### **parameter만 저장하고 불러오기**"
      ],
      "id": "f2f02744-def4-413a-a0ae-82124e628794"
    },
    {
      "cell_type": "code",
      "execution_count": 23,
      "metadata": {},
      "outputs": [],
      "source": [
        "torch.save(model.state_dict(), 'model_weights.pth')"
      ],
      "id": "d23ea500-20ba-439a-8a92-40c2289588cd"
    },
    {
      "cell_type": "code",
      "execution_count": 24,
      "metadata": {},
      "outputs": [
        {
          "output_type": "stream",
          "name": "stdout",
          "text": [
            "NeuralNetwork(\n",
            "  (flatten): Flatten(start_dim=1, end_dim=-1)\n",
            "  (classifier): Sequential(\n",
            "    (0): Linear(in_features=784, out_features=128, bias=True)\n",
            "    (1): ReLU()\n",
            "    (2): Dropout(p=0.2, inplace=False)\n",
            "    (3): Linear(in_features=128, out_features=10, bias=True)\n",
            "  )\n",
            ")"
          ]
        }
      ],
      "source": [
        "model2 = NeuralNetwork().to(device)\n",
        "print(model2)"
      ],
      "id": "ee2a6bd8-1179-4165-bf7b-78a99a8e68f7"
    },
    {
      "cell_type": "code",
      "execution_count": 25,
      "metadata": {},
      "outputs": [],
      "source": [
        "model2.load_state_dict(torch.load('model_weights.pth'))"
      ],
      "id": "57e4789a-41d9-4c33-a5a0-f034571c941b"
    },
    {
      "cell_type": "code",
      "execution_count": 26,
      "metadata": {},
      "outputs": [
        {
          "output_type": "stream",
          "name": "stdout",
          "text": [
            "Test Error: \n",
            " Accuracy: 88.1%, Avg loss: 0.334797\n"
          ]
        }
      ],
      "source": [
        "model2.eval()\n",
        "test_loop(test_dataloader, model2, loss)"
      ],
      "id": "c217b7e0-d643-4fd6-ac20-2d4df9fcc80a"
    },
    {
      "cell_type": "markdown",
      "metadata": {},
      "source": [
        "# Model 전체를 저장하고 불러오기"
      ],
      "id": "87a58604-6eba-408e-a514-b1089cb220a9"
    },
    {
      "cell_type": "code",
      "execution_count": 27,
      "metadata": {},
      "outputs": [],
      "source": [
        "torch.save(model, 'model.pth')"
      ],
      "id": "9233434c-2121-42de-a5b7-7cf861db5585"
    },
    {
      "cell_type": "code",
      "execution_count": 28,
      "metadata": {},
      "outputs": [],
      "source": [
        "model3 = torch.load('model.pth')"
      ],
      "id": "bb77ebb5-0dd3-4e2c-af34-5e47d644955c"
    },
    {
      "cell_type": "code",
      "execution_count": 29,
      "metadata": {},
      "outputs": [
        {
          "output_type": "stream",
          "name": "stdout",
          "text": [
            "Test Error: \n",
            " Accuracy: 88.1%, Avg loss: 0.334797\n"
          ]
        }
      ],
      "source": [
        "model3.eval()\n",
        "test_loop(test_dataloader, model3, loss)"
      ],
      "id": "cf49d87d-8d4f-49e2-b7e6-d7392bef7cba"
    }
  ],
  "nbformat": 4,
  "nbformat_minor": 5,
  "metadata": {
    "kernelspec": {
      "name": "python3",
      "display_name": "Python 3 (ipykernel)",
      "language": "python"
    },
    "language_info": {
      "name": "python",
      "codemirror_mode": {
        "name": "ipython",
        "version": "3"
      },
      "file_extension": ".py",
      "mimetype": "text/x-python",
      "nbconvert_exporter": "python",
      "pygments_lexer": "ipython3",
      "version": "3.10.13"
    }
  }
}