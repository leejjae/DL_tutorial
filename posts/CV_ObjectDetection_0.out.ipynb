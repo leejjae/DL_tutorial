{
  "cells": [
    {
      "cell_type": "markdown",
      "metadata": {},
      "source": [
        "# CV_ObjectDetection_0\n",
        "\n",
        "이정재  \n",
        "2024-02-09"
      ],
      "id": "a234077f-503e-4f3f-8891-fe00326375a2"
    },
    {
      "cell_type": "code",
      "execution_count": 1,
      "metadata": {},
      "outputs": [
        {
          "output_type": "stream",
          "name": "stdout",
          "text": [
            "--2024-02-09 07:27:15--  http://pjreddie.com/media/files/VOCtrainval_06-Nov-2007.tar\n",
            "Resolving pjreddie.com (pjreddie.com)... 162.0.215.52\n",
            "Connecting to pjreddie.com (pjreddie.com)|162.0.215.52|:80... connected.\n",
            "HTTP request sent, awaiting response... 301 Moved Permanently\n",
            "Location: https://pjreddie.com/media/files/VOCtrainval_06-Nov-2007.tar [following]\n",
            "--2024-02-09 07:27:16--  https://pjreddie.com/media/files/VOCtrainval_06-Nov-2007.tar\n",
            "Connecting to pjreddie.com (pjreddie.com)|162.0.215.52|:443... connected.\n",
            "HTTP request sent, awaiting response... 200 OK\n",
            "Length: 460032000 (439M) [application/x-tar]\n",
            "Saving to: ‘VOCtrainval_06-Nov-2007.tar.3’\n",
            "\n",
            "VOCtrainval_06-Nov- 100%[===================>] 438.72M  15.0MB/s    in 30s     \n",
            "\n",
            "2024-02-09 07:27:47 (14.5 MB/s) - ‘VOCtrainval_06-Nov-2007.tar.3’ saved [460032000/460032000]\n",
            "\n",
            "--2024-02-09 07:27:47--  http://pjreddie.com/media/files/VOCtest_06-Nov-2007.tar\n",
            "Resolving pjreddie.com (pjreddie.com)... 162.0.215.52\n",
            "Connecting to pjreddie.com (pjreddie.com)|162.0.215.52|:80... connected.\n",
            "HTTP request sent, awaiting response... 301 Moved Permanently\n",
            "Location: https://pjreddie.com/media/files/VOCtest_06-Nov-2007.tar [following]\n",
            "--2024-02-09 07:27:47--  https://pjreddie.com/media/files/VOCtest_06-Nov-2007.tar\n",
            "Connecting to pjreddie.com (pjreddie.com)|162.0.215.52|:443... connected.\n",
            "HTTP request sent, awaiting response... 200 OK\n",
            "Length: 451020800 (430M) [application/x-tar]\n",
            "Saving to: ‘VOCtest_06-Nov-2007.tar.3’\n",
            "\n",
            "VOCtest_06-Nov-2007 100%[===================>] 430.13M  16.1MB/s    in 26s     \n",
            "\n",
            "2024-02-09 07:29:06 (16.3 MB/s) - ‘VOCtest_06-Nov-2007.tar.3’ saved [451020800/451020800]\n"
          ]
        }
      ],
      "source": [
        "# Pascal VOC 2007 데이터 다운로드\n",
        "!wget http://pjreddie.com/media/files/VOCtrainval_06-Nov-2007.tar\n",
        "!wget http://pjreddie.com/media/files/VOCtest_06-Nov-2007.tar"
      ],
      "id": "6d7f1ac0-cf4a-4b26-8c38-bd32945c782a"
    },
    {
      "cell_type": "code",
      "execution_count": 2,
      "metadata": {},
      "outputs": [],
      "source": [
        "from pathlib import Path\n",
        "Path('/root/2024winter/DL_tutorial/posts/pascal_datasets/trainval').mkdir(parents=True, exist_ok=True)\n",
        "Path('/root/2024winter/DL_tutorial/posts/pascal_datasets/test').mkdir(parents=True, exist_ok=True)\n",
        "root=Path('/root/2024winter/DL_tutorial/posts/pascal_datasets')\n",
        "\n",
        "for path1 in ('images', 'labels'):\n",
        "    for path2 in ('train2007', 'val2007', 'test2007'):\n",
        "        new_path = root / 'VOC' / path1 / path2\n",
        "        new_path.mkdir(parents=True, exist_ok=True)"
      ],
      "id": "d7c54113-e0e9-473b-9dce-e7a8040b45ad"
    },
    {
      "cell_type": "code",
      "execution_count": 4,
      "metadata": {},
      "outputs": [],
      "source": [
        "# 데이터셋 압축 해제\n",
        "!tar -xvf VOCtrainval_06-Nov-2007.tar -C /root/2024winter/DL_tutorial/posts/pascal_datasets/trainval/ > /dev/null 2>&1\n",
        "!tar -xvf VOCtest_06-Nov-2007.tar -C /root/2024winter/DL_tutorial/posts/pascal_datasets/test/ > /dev/null 2>&1"
      ],
      "id": "cafe80ed-b4e0-4ab1-b7d1-b2f7026e630f"
    },
    {
      "cell_type": "code",
      "execution_count": 5,
      "metadata": {},
      "outputs": [
        {
          "output_type": "stream",
          "name": "stdout",
          "text": [
            "fatal: destination path 'convert2Yolo' already exists and is not an empty directory."
          ]
        }
      ],
      "source": [
        "# XML 형식을 YOLO Format으로 변경해주는 깃허브 클론 \n",
        "!git clone https://github.com/ssaru/convert2Yolo.git"
      ],
      "id": "5fca2870-ed92-476f-acfa-4d4a0c8b0a89"
    },
    {
      "cell_type": "code",
      "execution_count": 19,
      "metadata": {},
      "outputs": [
        {
          "output_type": "stream",
          "name": "stdout",
          "text": [
            "[Errno 2] No such file or directory: 'convert2Yolo'\n",
            "/root/2024 winter/DL_tutorial/posts/yolov5\n",
            "ERROR: Could not open requirements file: [Errno 2] No such file or directory: 'requirements.txt'\n",
            "Note: you may need to restart the kernel to use updated packages."
          ]
        }
      ],
      "source": [
        "# 필요 라이브러리 설치\n",
        "%cd convert2Yolo\n",
        "%pip install -qr requirements.txt"
      ],
      "id": "e231bb3f-6c9e-4a5c-9dbb-54a6794fdf8a"
    },
    {
      "cell_type": "code",
      "execution_count": 9,
      "metadata": {},
      "outputs": [
        {
          "output_type": "stream",
          "name": "stdout",
          "text": [
            "--2024-02-08 00:13:13--  https://drive.google.com/uc?id=1WCodEuV9giZ9SmjHzfCbJ8GuBaa0Gc79\n",
            "Resolving drive.google.com (drive.google.com)... 142.250.206.206, 2404:6800:400a:80b::200e\n",
            "Connecting to drive.google.com (drive.google.com)|142.250.206.206|:443... connected.\n",
            "HTTP request sent, awaiting response... 303 See Other\n",
            "Location: https://drive.usercontent.google.com/download?id=1WCodEuV9giZ9SmjHzfCbJ8GuBaa0Gc79 [following]\n",
            "--2024-02-08 00:13:14--  https://drive.usercontent.google.com/download?id=1WCodEuV9giZ9SmjHzfCbJ8GuBaa0Gc79\n",
            "Resolving drive.usercontent.google.com (drive.usercontent.google.com)... 142.250.76.129, 2404:6800:400a:80e::2001\n",
            "Connecting to drive.usercontent.google.com (drive.usercontent.google.com)|142.250.76.129|:443... connected.\n",
            "HTTP request sent, awaiting response... 200 OK\n",
            "Length: 134 [application/octet-stream]\n",
            "Saving to: ‘uc?id=1WCodEuV9giZ9SmjHzfCbJ8GuBaa0Gc79’\n",
            "\n",
            "uc?id=1WCodEuV9giZ9 100%[===================>]     134  --.-KB/s    in 0s      \n",
            "\n",
            "2024-02-08 00:13:15 (13.2 MB/s) - ‘uc?id=1WCodEuV9giZ9SmjHzfCbJ8GuBaa0Gc79’ saved [134/134]\n"
          ]
        }
      ],
      "source": [
        "!wget 'https://drive.google.com/uc?id=1WCodEuV9giZ9SmjHzfCbJ8GuBaa0Gc79'"
      ],
      "id": "d39f0a1a-bbed-4167-bbbe-bf2443a5efdc"
    },
    {
      "cell_type": "code",
      "execution_count": 6,
      "metadata": {},
      "outputs": [
        {
          "output_type": "stream",
          "name": "stdout",
          "text": [
            "\n",
            "VOC Parsing:   |████████████████████████████████████████| 100.0% (5011/5011)  Complete\n",
            "\n",
            "\n",
            "YOLO Generating:|████████████████████████████████████████| 100.0% (5011/5011)  Completeerating:|█████████-------------------------------| 22.7% (1136/5011)  Complete\n",
            "\n",
            "\n",
            "YOLO Saving:   |████████████████████████████████████████| 100.0% (5011/5011)  Complete\n",
            "\n",
            "\n",
            "VOC Parsing:   |████████████████████████████████████████| 100.0% (4952/4952)  Complete\n",
            "\n",
            "\n",
            "YOLO Generating:|████████████████████████████████████████| 100.0% (4952/4952)  Complete\n",
            "\n",
            "\n",
            "YOLO Saving:   |████████████████████████████████████████| 100.0% (4952/4952)  Complete\n"
          ]
        }
      ],
      "source": [
        "# trainval 데이터 yolo format 변환\n",
        "!python3 /root/2024winter/DL_tutorial/posts/convert2Yolo/example.py --datasets VOC --img_path /root/2024winter/DL_tutorial/posts/pascal_datasets/trainval/VOCdevkit/VOC2007/JPEGImages/ --label /root/2024winter/DL_tutorial/posts/pascal_datasets/trainval/VOCdevkit/VOC2007/Annotations/ --convert_output_path /root/2024winter/DL_tutorial/posts/pascal_datasets/VOC/labels/train2007 --img_type \".jpg\" --manifest_path /root/2024winter/DL_tutorial/posts/ --cls_list_file /root/2024winter/DL_tutorial/posts/convert2Yolo/voc.names\n",
        "\n",
        "# test 데이터 yolo format 변환\n",
        "!python3 /root/2024winter/DL_tutorial/posts/convert2Yolo/example.py --datasets VOC --img_path /root/2024winter/DL_tutorial/posts/pascal_datasets/test/VOCdevkit/VOC2007/JPEGImages/ --label /root/2024winter/DL_tutorial/posts/pascal_datasets/test/VOCdevkit/VOC2007/Annotations/ --convert_output_path /root/2024winter/DL_tutorial/posts/pascal_datasets/VOC/labels/test2007 --img_type \".jpg\" --manifest_path /root/2024winter/DL_tutorial/posts/ --cls_list_file /root/2024winter/DL_tutorial/posts/convert2Yolo/voc.names"
      ],
      "id": "e1691874-dd7a-4ff1-8d21-0a9bcba4b5a6"
    },
    {
      "cell_type": "code",
      "execution_count": 7,
      "metadata": {},
      "outputs": [],
      "source": [
        "# Pasal VOC 제공 파일로 train, val 라벨 분할\n",
        "import shutil\n",
        "path = '/root/2024winter/DL_tutorial/posts/pascal_datasets/trainval/VOCdevkit/VOC2007/ImageSets/Main/val.txt'\n",
        "with open(path) as f:\n",
        "    image_ids = f.read().strip().split()\n",
        "    for id in image_ids:\n",
        "        ori_path = '/root/2024winter/DL_tutorial/posts/pascal_datasets/VOC/labels/train2007'\n",
        "        mv_path = '/root/2024winter/DL_tutorial/posts/pascal_datasets/VOC/labels/val2007'\n",
        "        shutil.move(f\"{ori_path}/{id}.txt\", f\"{mv_path}/{id}.txt\")"
      ],
      "id": "13cb67c7-c0ad-4780-ad5c-98da939c1e2b"
    },
    {
      "cell_type": "code",
      "execution_count": 8,
      "metadata": {},
      "outputs": [
        {
          "output_type": "stream",
          "name": "stdout",
          "text": [
            "train2007 :  2501\n",
            "val2007 :  2510\n",
            "test2007 :  4952"
          ]
        }
      ],
      "source": [
        "# train / val / test 이미지 파일 복사\n",
        "import os, shutil\n",
        "path = '/root/2024winter/DL_tutorial/posts/pascal_datasets'\n",
        "for folder, subset in ('trainval', 'train2007'), ('trainval', 'val2007'), ('test', 'test2007'):\n",
        "    ex_imgs_path = f'{path}/{folder}/VOCdevkit/VOC2007/JPEGImages'\n",
        "    label_path = f'{path}/VOC/labels/{subset}'\n",
        "    img_path = f'{path}/VOC/images/{subset}'\n",
        "    print(subset,\": \", len(os.listdir(label_path)))\n",
        "    for lbs_list in os.listdir(label_path):\n",
        "        shutil.move(os.path.join(ex_imgs_path,lbs_list.split('.')[0]+'.jpg'), os.path.join(img_path,lbs_list.split('.')[0]+'.jpg'))\n",
        "    "
      ],
      "id": "301b2693-00fe-4f74-9e99-7aaea7b246e5"
    },
    {
      "cell_type": "markdown",
      "metadata": {},
      "source": [
        "## 커스텀 데이터 준비"
      ],
      "id": "8441ade0-76a2-466d-a588-cbd7bdfe2bb7"
    },
    {
      "cell_type": "code",
      "execution_count": 6,
      "metadata": {},
      "outputs": [
        {
          "output_type": "stream",
          "name": "stdout",
          "text": [
            "--2024-02-08 09:16:46--  https://drive.google.com/uc?id=1avRwo9y3M1OpCh3tYTAD75Bolb-xlEJZ\n",
            "Resolving drive.google.com (drive.google.com)... 172.217.161.206, 2404:6800:400a:80b::200e\n",
            "Connecting to drive.google.com (drive.google.com)|172.217.161.206|:443... connected.\n",
            "HTTP request sent, awaiting response... 303 See Other\n",
            "Location: https://drive.usercontent.google.com/download?id=1avRwo9y3M1OpCh3tYTAD75Bolb-xlEJZ [following]\n",
            "--2024-02-08 09:16:46--  https://drive.usercontent.google.com/download?id=1avRwo9y3M1OpCh3tYTAD75Bolb-xlEJZ\n",
            "Resolving drive.usercontent.google.com (drive.usercontent.google.com)... 142.251.222.33, 2404:6800:4004:818::2001\n",
            "Connecting to drive.usercontent.google.com (drive.usercontent.google.com)|142.251.222.33|:443... connected.\n",
            "HTTP request sent, awaiting response... 200 OK\n",
            "Length: 443876 (433K) [application/octet-stream]\n",
            "Saving to: ‘uc?id=1avRwo9y3M1OpCh3tYTAD75Bolb-xlEJZ’\n",
            "\n",
            "uc?id=1avRwo9y3M1Op 100%[===================>] 433.47K  1.34MB/s    in 0.3s    \n",
            "\n",
            "2024-02-08 09:16:48 (1.34 MB/s) - ‘uc?id=1avRwo9y3M1OpCh3tYTAD75Bolb-xlEJZ’ saved [443876/443876]\n"
          ]
        }
      ],
      "source": [
        "# 라벨링한 커스텀 데이터셋 다운로드\n",
        "!wget 'https://drive.google.com/uc?id=1avRwo9y3M1OpCh3tYTAD75Bolb-xlEJZ'"
      ],
      "id": "4eb5049a-f522-4f77-82ce-bb061002df59"
    },
    {
      "cell_type": "code",
      "execution_count": 10,
      "metadata": {},
      "outputs": [],
      "source": [
        "# 파일 압축 해제\n",
        "import zipfile\n",
        "with zipfile.ZipFile(\"04_detection_custom_datasets.zip\", 'r') as zip_ref:\n",
        "    zip_ref.extractall(\"04_detection_custom_datasets\")"
      ],
      "id": "93be8478-4d01-410a-b8c3-d34c9b22897f"
    },
    {
      "cell_type": "code",
      "execution_count": 9,
      "metadata": {},
      "outputs": [
        {
          "output_type": "stream",
          "name": "stderr",
          "text": [
            "YOLOv5 🚀 v6.2-0-gd3ea0df8 Python-3.10.13 torch-1.12.1 CUDA:0 (NVIDIA A100-SXM4-80GB MIG 7g.80gb, 81251MiB)"
          ]
        },
        {
          "output_type": "stream",
          "name": "stdout",
          "text": [
            "Setup complete ✅ (128 CPUs, 503.7 GB RAM, 1001.9/1757.9 GB disk)"
          ]
        }
      ],
      "source": [
        "# Yolo 6.2 release version 클론\n",
        "%cd /root/2024\\ winter/DL_tutorial/posts\n",
        "! git clone -b v6.2 https://github.com/ultralytics/yolov5.git\n",
        "%cd yolov5\n",
        "# 필수 라이브러리 다운로드\n",
        "!pip install numpy==1.23.0\n",
        "%pip install -qr requirements.txt\n",
        "import torch\n",
        "import utils\n",
        "display = utils.notebook_init()"
      ],
      "id": "c340b139-612b-4869-aed8-246867bcaa76"
    },
    {
      "cell_type": "code",
      "execution_count": 28,
      "metadata": {},
      "outputs": [
        {
          "output_type": "stream",
          "name": "stdout",
          "text": [
            "WARNING: Running pip as the 'root' user can result in broken permissions and conflicting behaviour with the system package manager. It is recommended to use a virtual environment instead: https://pip.pypa.io/warnings/venv\n",
            "Note: you may need to restart the kernel to use updated packages."
          ]
        },
        {
          "output_type": "stream",
          "name": "stderr",
          "text": [
            "wandb: Currently logged in as: dlwjdwo1109. Use `wandb login --relogin` to force relogin"
          ]
        }
      ],
      "source": [
        "# Weights & Biases 셋팅\n",
        "%pip install -q wandb\n",
        "import wandb\n",
        "wandb.login()"
      ],
      "id": "5b0d4984-6050-4897-8aa6-0fda88d3fd04"
    },
    {
      "cell_type": "code",
      "execution_count": 10,
      "metadata": {},
      "outputs": [],
      "source": [
        "# 재현을 위한 랜덤 시드 고정\n",
        "import random\n",
        "import numpy as np\n",
        "import torch\n",
        "\n",
        "seed = 2024\n",
        "deterministic = True\n",
        "random.seed(seed)\n",
        "np.random.seed(seed)\n",
        "torch.manual_seed(seed)\n",
        "torch.cuda.manual_seed(seed)\n",
        "if deterministic:\n",
        "    torch.backends.cudnn.deterministic = True\n",
        "    torch.backends.cudnn.benchmark = False"
      ],
      "id": "4beeb577-2422-4220-a776-e8b0189719a0"
    },
    {
      "cell_type": "code",
      "execution_count": 15,
      "metadata": {},
      "outputs": [
        {
          "output_type": "stream",
          "name": "stdout",
          "text": [
            "/root/2024winter/DL_tutorial/posts/yolov5\n",
            "wandb: Currently logged in as: dlwjdwo1109. Use `wandb login --relogin` to force relogin\n",
            "train: weights=, cfg=yolov5s.yaml, data=custom_voc.yaml, hyp=data/hyps/hyp.scratch-low.yaml, epochs=30, batch_size=32, imgsz=640, rect=False, resume=False, nosave=False, noval=False, noautoanchor=False, noplots=False, evolve=None, bucket=, cache=None, image_weights=False, device=, multi_scale=False, single_cls=False, optimizer=SGD, sync_bn=False, workers=8, project=runs/train, name=exp, exist_ok=False, quad=False, cos_lr=False, label_smoothing=0.0, patience=100, freeze=[0], save_period=-1, seed=2024, local_rank=-1, entity=None, upload_dataset=False, bbox_interval=-1, artifact_alias=latest\n",
            "github: skipping check (offline), for updates see https://github.com/ultralytics/yolov5\n",
            "requirements: Pillow==7.2.0 not found and is required by YOLOv5, attempting auto-update...\n",
            "requirements: 'pip install Pillow==7.2.0' skipped (offline)\n",
            "requirements: cycler==0.10.0 not found and is required by YOLOv5, attempting auto-update...\n",
            "requirements: 'pip install cycler==0.10.0' skipped (offline)\n",
            "requirements: kiwisolver==1.0.1 not found and is required by YOLOv5, attempting auto-update...\n",
            "requirements: 'pip install kiwisolver==1.0.1' skipped (offline)\n",
            "requirements: matplotlib==2.2.2 not found and is required by YOLOv5, attempting auto-update...\n",
            "requirements: 'pip install matplotlib==2.2.2' skipped (offline)\n",
            "requirements: numpy==1.14.3 not found and is required by YOLOv5, attempting auto-update...\n",
            "requirements: 'pip install numpy==1.14.3' skipped (offline)\n",
            "requirements: pyparsing==2.2.0 not found and is required by YOLOv5, attempting auto-update...\n",
            "requirements: 'pip install pyparsing==2.2.0' skipped (offline)\n",
            "requirements: python-dateutil==2.7.2 not found and is required by YOLOv5, attempting auto-update...\n",
            "requirements: 'pip install python-dateutil==2.7.2' skipped (offline)\n",
            "requirements: pytz==2018.4 not found and is required by YOLOv5, attempting auto-update...\n",
            "requirements: 'pip install pytz==2018.4' skipped (offline)\n",
            "requirements: six==1.11.0 not found and is required by YOLOv5, attempting auto-update...\n",
            "requirements: 'pip install six==1.11.0' skipped (offline)\n",
            "YOLOv5 🚀 v6.2-0-gd3ea0df8 Python-3.10.13 torch-1.12.1 CUDA:0 (NVIDIA A100-SXM4-80GB MIG 7g.80gb, 81251MiB)\n",
            "\n",
            "hyperparameters: lr0=0.01, lrf=0.01, momentum=0.937, weight_decay=0.0005, warmup_epochs=3.0, warmup_momentum=0.8, warmup_bias_lr=0.1, box=0.05, cls=0.5, cls_pw=1.0, obj=1.0, obj_pw=1.0, iou_t=0.2, anchor_t=4.0, fl_gamma=0.0, hsv_h=0.015, hsv_s=0.7, hsv_v=0.4, degrees=0.0, translate=0.1, scale=0.5, shear=0.0, perspective=0.0, flipud=0.0, fliplr=0.5, mosaic=1.0, mixup=0.0, copy_paste=0.0\n",
            "ClearML: run 'pip install clearml' to automatically track, visualize and remotely train YOLOv5 🚀 in ClearML\n",
            "TensorBoard: Start with 'tensorboard --logdir runs/train', view at http://localhost:6006/\n",
            "wandb: Tracking run with wandb version 0.16.3\n",
            "wandb: Run data is saved locally in /root/2024winter/DL_tutorial/posts/yolov5/wandb/run-20240209_073845-bf46v602\n",
            "wandb: Run `wandb offline` to turn off syncing.\n",
            "wandb: Syncing run exalted-thunder-9\n",
            "wandb: ⭐️ View project at https://wandb.ai/dlwjdwo1109/YOLOv5\n",
            "wandb: 🚀 View run at https://wandb.ai/dlwjdwo1109/YOLOv5/runs/bf46v602\n",
            "\n",
            "Dataset not found ⚠️, missing paths ['/content/pascal_datasets/VOC/images/test2007']\n",
            "Traceback (most recent call last):\n",
            "  File \"/root/2024winter/DL_tutorial/posts/yolov5/train.py\", line 632, in <module>\n",
            "    main(opt)\n",
            "  File \"/root/2024winter/DL_tutorial/posts/yolov5/train.py\", line 528, in main\n",
            "    train(opt.hyp, opt, device, callbacks)\n",
            "  File \"/root/2024winter/DL_tutorial/posts/yolov5/train.py\", line 90, in train\n",
            "    loggers = Loggers(save_dir, weights, opt, hyp, LOGGER)  # loggers instance\n",
            "  File \"/root/2024winter/DL_tutorial/posts/yolov5/utils/loggers/__init__.py\", line 95, in __init__\n",
            "    self.wandb = WandbLogger(self.opt, run_id)\n",
            "  File \"/root/2024winter/DL_tutorial/posts/yolov5/utils/loggers/wandb/wandb_utils.py\", line 187, in __init__\n",
            "    self.data_dict = check_wandb_dataset(opt.data)\n",
            "  File \"/root/2024winter/DL_tutorial/posts/yolov5/utils/loggers/wandb/wandb_utils.py\", line 59, in check_wandb_dataset\n",
            "    return check_dataset(data_file)\n",
            "  File \"/root/2024winter/DL_tutorial/posts/yolov5/utils/general.py\", line 505, in check_dataset\n",
            "    raise Exception('Dataset not found ❌')\n",
            "Exception: Dataset not found ❌\n",
            "wandb: 🚀 View run exalted-thunder-9 at: https://wandb.ai/dlwjdwo1109/YOLOv5/runs/bf46v602\n",
            "wandb: ️⚡ View job at https://wandb.ai/dlwjdwo1109/YOLOv5/jobs/QXJ0aWZhY3RDb2xsZWN0aW9uOjEzODM4NjQzMg==/version_details/v0\n",
            "wandb: Synced 6 W&B file(s), 0 media file(s), 0 artifact file(s) and 0 other file(s)\n",
            "wandb: Find logs at: ./wandb/run-20240209_073845-bf46v602/logs"
          ]
        }
      ],
      "source": [
        "%cd /root/2024winter/DL_tutorial/posts/yolov5\n",
        "# Pasal VOC 데이터로 YOLO v5 훈련\n",
        "!python train.py --img 640 --batch 32 --epochs 30 --data custom_voc.yaml --weights '' --cfg yolov5s.yaml --seed 2024"
      ],
      "id": "0ce1dfc2-24c8-4ec6-91b1-3d57d6fc2bc0"
    }
  ],
  "nbformat": 4,
  "nbformat_minor": 5,
  "metadata": {
    "kernelspec": {
      "name": "python3",
      "display_name": "Python 3 (ipykernel)",
      "language": "python"
    },
    "language_info": {
      "name": "python",
      "codemirror_mode": {
        "name": "ipython",
        "version": "3"
      },
      "file_extension": ".py",
      "mimetype": "text/x-python",
      "nbconvert_exporter": "python",
      "pygments_lexer": "ipython3",
      "version": "3.10.13"
    }
  }
}