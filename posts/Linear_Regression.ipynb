{
 "cells": [
  {
   "cell_type": "markdown",
   "id": "5d4ec33d-f3db-4e44-85e6-264aaa922047",
   "metadata": {},
   "source": [
    "# 1. 선형 회귀 구현"
   ]
  },
  {
   "cell_type": "code",
   "execution_count": 1,
   "id": "801d0832-38a7-4553-bc84-df1cb99da49c",
   "metadata": {},
   "outputs": [
    {
     "name": "stderr",
     "output_type": "stream",
     "text": [
      "/root/anaconda3/envs/nlp/lib/python3.8/site-packages/tqdm/auto.py:21: TqdmWarning: IProgress not found. Please update jupyter and ipywidgets. See https://ipywidgets.readthedocs.io/en/stable/user_install.html\n",
      "  from .autonotebook import tqdm as notebook_tqdm\n"
     ]
    },
    {
     "data": {
      "text/plain": [
       "False"
      ]
     },
     "execution_count": 1,
     "metadata": {},
     "output_type": "execute_result"
    }
   ],
   "source": [
    "import torch\n",
    "torch.cuda.is_available()"
   ]
  },
  {
   "cell_type": "code",
   "execution_count": 8,
   "id": "c847b4a5-618e-4551-9c75-2c8bd52eba85",
   "metadata": {},
   "outputs": [],
   "source": [
    "import torch\n",
    "import torch.nn as nn\n",
    "import torch.nn.functional as F\n",
    "import torch.optim as optim"
   ]
  },
  {
   "cell_type": "code",
   "execution_count": 2,
   "id": "e4cc2367-b4f7-4278-9a7a-972cb39684a4",
   "metadata": {},
   "outputs": [
    {
     "data": {
      "text/plain": [
       "<torch._C.Generator at 0x7f03f84f9d50>"
      ]
     },
     "execution_count": 2,
     "metadata": {},
     "output_type": "execute_result"
    }
   ],
   "source": [
    "torch.manual_seed(1)"
   ]
  },
  {
   "cell_type": "code",
   "execution_count": 3,
   "id": "27fc6f99-3091-417f-a463-311db1b7e5ba",
   "metadata": {},
   "outputs": [],
   "source": [
    "x_train = torch.FloatTensor([[1], [2], [3]])\n",
    "y_train = torch.FloatTensor([[1], [2], [3]])"
   ]
  },
  {
   "cell_type": "code",
   "execution_count": 4,
   "id": "fcfe780e-0b3d-44f6-851f-6459891ebb5b",
   "metadata": {},
   "outputs": [
    {
     "name": "stdout",
     "output_type": "stream",
     "text": [
      "tensor([[1.],\n",
      "        [2.],\n",
      "        [3.]]) torch.Size([3, 1])\n",
      "tensor([[1.],\n",
      "        [2.],\n",
      "        [3.]]) torch.Size([3, 1])\n"
     ]
    }
   ],
   "source": [
    "print(x_train, x_train.shape)\n",
    "print(y_train, y_train.shape)"
   ]
  },
  {
   "cell_type": "markdown",
   "id": "7adeec0a-d447-4e9c-9ff2-7263760dc5b2",
   "metadata": {},
   "source": [
    "### weight, bias 초기화"
   ]
  },
  {
   "cell_type": "code",
   "execution_count": 5,
   "id": "55bd116f-af22-4a99-8f84-e113c5fa4c3a",
   "metadata": {},
   "outputs": [
    {
     "name": "stdout",
     "output_type": "stream",
     "text": [
      "tensor([0.], requires_grad=True)\n"
     ]
    }
   ],
   "source": [
    "W = torch.zeros(1, requires_grad = True)\n",
    "print(W)"
   ]
  },
  {
   "cell_type": "code",
   "execution_count": 6,
   "id": "47deda89-8969-4445-810a-d5d58da8b9fc",
   "metadata": {},
   "outputs": [
    {
     "name": "stdout",
     "output_type": "stream",
     "text": [
      "tensor([0.], requires_grad=True)\n"
     ]
    }
   ],
   "source": [
    "b = torch.zeros(1, requires_grad=True)\n",
    "print(b)"
   ]
  },
  {
   "cell_type": "markdown",
   "id": "00f5840a-7b7f-4646-91ac-99c547258e50",
   "metadata": {},
   "source": [
    "### 직선의 방정식 $ H(x)= Wx+b$ 선언"
   ]
  },
  {
   "cell_type": "code",
   "execution_count": 7,
   "id": "1dbcba68-8513-4c66-b1b3-91a405bd867f",
   "metadata": {},
   "outputs": [],
   "source": [
    "H = W * x_train + b"
   ]
  },
  {
   "cell_type": "markdown",
   "id": "f1d3183d-70da-4b37-85d6-e47f8887abec",
   "metadata": {},
   "source": [
    "### 평균제곱오차 선언 $$ cost(W, b) = \\frac{1}{n} \\sum_{i=1}^{n} \\left[y^{(i)} - H(x^{(i)})\\right]^2 $$ "
   ]
  },
  {
   "cell_type": "code",
   "execution_count": 9,
   "id": "b9577b74-1da1-4076-80d7-4ee67b40e800",
   "metadata": {},
   "outputs": [
    {
     "name": "stdout",
     "output_type": "stream",
     "text": [
      "tensor(4.6667, grad_fn=<MeanBackward0>)\n"
     ]
    }
   ],
   "source": [
    "cost = torch.mean((H - y_train)**2)\n",
    "print(cost)"
   ]
  },
  {
   "cell_type": "code",
   "execution_count": 10,
   "id": "22ebed08-1619-437f-88ec-74c2404bdbc0",
   "metadata": {},
   "outputs": [],
   "source": [
    "# optimizer 정의\n",
    "optimizer = optim.SGD([W, b], lr=0.01)"
   ]
  },
  {
   "cell_type": "code",
   "execution_count": 11,
   "id": "66b4974f-f24a-47ba-88b7-7d5adbce4d0e",
   "metadata": {},
   "outputs": [],
   "source": [
    "# gradient를 0으로 초기화\n",
    "optimizer.zero_grad()\n",
    "\n",
    "# 비용 함수를 미분하여 gradienr 계산\n",
    "cost.backward()\n",
    "\n",
    "# W와 b를 업데이트\n",
    "optimizer.step()"
   ]
  },
  {
   "cell_type": "markdown",
   "id": "573f4ea9-a2f5-4405-8b38-9288f9059389",
   "metadata": {},
   "source": [
    "### 학습"
   ]
  },
  {
   "cell_type": "code",
   "execution_count": 12,
   "id": "f166bc6b-cc0f-4408-99b7-399e4a575cfc",
   "metadata": {},
   "outputs": [
    {
     "name": "stdout",
     "output_type": "stream",
     "text": [
      "Epoch  100/2000 W: 0.873, b: 0.290 Cost: 0.012101\n",
      "Epoch  200/2000 W: 0.900, b: 0.228 Cost: 0.007478\n",
      "Epoch  300/2000 W: 0.921, b: 0.179 Cost: 0.004621\n",
      "Epoch  400/2000 W: 0.938, b: 0.141 Cost: 0.002855\n",
      "Epoch  500/2000 W: 0.951, b: 0.111 Cost: 0.001764\n",
      "Epoch  600/2000 W: 0.962, b: 0.087 Cost: 0.001090\n",
      "Epoch  700/2000 W: 0.970, b: 0.068 Cost: 0.000674\n",
      "Epoch  800/2000 W: 0.976, b: 0.054 Cost: 0.000416\n",
      "Epoch  900/2000 W: 0.981, b: 0.042 Cost: 0.000257\n",
      "Epoch 1000/2000 W: 0.985, b: 0.033 Cost: 0.000159\n",
      "Epoch 1100/2000 W: 0.989, b: 0.026 Cost: 0.000098\n",
      "Epoch 1200/2000 W: 0.991, b: 0.021 Cost: 0.000061\n",
      "Epoch 1300/2000 W: 0.993, b: 0.016 Cost: 0.000038\n",
      "Epoch 1400/2000 W: 0.994, b: 0.013 Cost: 0.000023\n",
      "Epoch 1500/2000 W: 0.996, b: 0.010 Cost: 0.000014\n",
      "Epoch 1600/2000 W: 0.997, b: 0.008 Cost: 0.000009\n",
      "Epoch 1700/2000 W: 0.997, b: 0.006 Cost: 0.000005\n",
      "Epoch 1800/2000 W: 0.998, b: 0.005 Cost: 0.000003\n",
      "Epoch 1900/2000 W: 0.998, b: 0.004 Cost: 0.000002\n",
      "Epoch 2000/2000 W: 0.999, b: 0.003 Cost: 0.000001\n"
     ]
    }
   ],
   "source": [
    "torch. manual_seed(1)\n",
    "\n",
    "# 데이터\n",
    "x_train = torch.FloatTensor([[1], [2], [3]])\n",
    "y_train = torch.FloatTensor([[1], [2], [3]])\n",
    "\n",
    "# 모델 초기화\n",
    "W = torch.zeros(1, requires_grad=True)\n",
    "b = torch.zeros(1, requires_grad=True)\n",
    "\n",
    "# optimizer 설정\n",
    "optimizer = optim.SGD([W, b], lr=0.01)\n",
    "\n",
    "# gradient descent 반복\n",
    "epochs = 2000\n",
    "\n",
    "for epoch in range(1, epochs+1):\n",
    "\n",
    "    # H(x) 계산\n",
    "    H = x_train *W + b\n",
    "\n",
    "    # cost 계산\n",
    "    cost = torch.mean((H-y_train)**2)\n",
    "\n",
    "    # cost로 H(x) 업데이트\n",
    "    optimizer.zero_grad()\n",
    "    cost.backward()\n",
    "    optimizer.step()\n",
    "\n",
    "    # 100번 마다 로그 출력\n",
    "    if epoch % 100 == 0:\n",
    "            print('Epoch {:4d}/{} W: {:.3f}, b: {:.3f} Cost: {:.6f}'.format(\n",
    "                epoch, epochs, W.item(), b.item(), cost.item()\n",
    "            ))\n"
   ]
  },
  {
   "cell_type": "markdown",
   "id": "92cef62e-945d-4b3f-af46-55a20a74fac0",
   "metadata": {},
   "source": [
    "# 2. optimizer.zero_grad()가 필요한 이유"
   ]
  },
  {
   "cell_type": "code",
   "execution_count": 18,
   "id": "44e6f0c6-86ee-448a-aad4-d1bed45f5a21",
   "metadata": {},
   "outputs": [
    {
     "name": "stdout",
     "output_type": "stream",
     "text": [
      "수식을 w로 미분한 값: 2.0\n",
      "수식을 w로 미분한 값: 4.0\n",
      "수식을 w로 미분한 값: 6.0\n",
      "수식을 w로 미분한 값: 8.0\n",
      "수식을 w로 미분한 값: 10.0\n",
      "수식을 w로 미분한 값: 12.0\n",
      "수식을 w로 미분한 값: 14.0\n",
      "수식을 w로 미분한 값: 16.0\n",
      "수식을 w로 미분한 값: 18.0\n",
      "수식을 w로 미분한 값: 20.0\n",
      "수식을 w로 미분한 값: 22.0\n",
      "수식을 w로 미분한 값: 24.0\n",
      "수식을 w로 미분한 값: 26.0\n",
      "수식을 w로 미분한 값: 28.0\n",
      "수식을 w로 미분한 값: 30.0\n",
      "수식을 w로 미분한 값: 32.0\n",
      "수식을 w로 미분한 값: 34.0\n",
      "수식을 w로 미분한 값: 36.0\n",
      "수식을 w로 미분한 값: 38.0\n",
      "수식을 w로 미분한 값: 40.0\n"
     ]
    }
   ],
   "source": [
    "import torch\n",
    "\n",
    "w = torch.tensor(2.0, requires_grad=True)\n",
    "\n",
    "epochs=20\n",
    "for epoch in range(1, epochs+1):\n",
    "\n",
    "    z = 2 * w\n",
    "    z.backward()\n",
    "    print('수식을 w로 미분한 값: {}'.format(w.grad))"
   ]
  },
  {
   "cell_type": "code",
   "execution_count": null,
   "id": "77890422-2ca6-4686-954e-7c6c7ed7482d",
   "metadata": {},
   "outputs": [],
   "source": []
  }
 ],
 "metadata": {
  "kernelspec": {
   "display_name": "Python 3",
   "language": "python",
   "name": "python3"
  },
  "language_info": {
   "codemirror_mode": {
    "name": "ipython",
    "version": 3
   },
   "file_extension": ".py",
   "mimetype": "text/x-python",
   "name": "python",
   "nbconvert_exporter": "python",
   "pygments_lexer": "ipython3",
   "version": "3.8.18"
  }
 },
 "nbformat": 4,
 "nbformat_minor": 5
}
