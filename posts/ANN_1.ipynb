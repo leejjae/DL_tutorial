{
 "cells": [
  {
   "cell_type": "raw",
   "id": "d96b746f-d127-4f90-b64d-dcd4ff0553d7",
   "metadata": {},
   "source": [
    "---\n",
    "\"title\": \"ANN_1\"\n",
    "\"author\": \"이정재\"\n",
    "\"date\": \"2024-01-27\"\n",
    "---"
   ]
  },
  {
   "cell_type": "markdown",
   "id": "b854919d-f5e2-406f-b0d5-3af2fc420a5d",
   "metadata": {},
   "source": [
    "## `Step 1` : Import\n"
   ]
  },
  {
   "cell_type": "code",
   "execution_count": 14,
   "id": "5a594df7-74e7-4f36-a5af-e02a3724b681",
   "metadata": {},
   "outputs": [],
   "source": [
    "import numpy as np\n",
    "import pandas as pd\n",
    "import matplotlib.pyplot as plt\n",
    "import seaborn as sns\n",
    "from sklearn.datasets import load_iris\n",
    "from sklearn.model_selection import train_test_split\n",
    "import torch\n",
    "import torch.nn as nn\n",
    "from torch.utils.data import  TensorDataset, DataLoader"
   ]
  },
  {
   "cell_type": "markdown",
   "id": "c2845020-6fcf-4b4b-ad10-b779a4cdb18c",
   "metadata": {},
   "source": [
    "## `Step 2` : Create DataLoader"
   ]
  },
  {
   "cell_type": "code",
   "execution_count": 27,
   "id": "8c3ae6eb-ce7a-40bf-8d66-8b1f10b8cee3",
   "metadata": {},
   "outputs": [],
   "source": [
    "# 데이터 불러오기\n",
    "iris = load_iris()\n",
    "df = pd.DataFrame(data=iris.data, columns=iris.feature_names)\n",
    "df['label'] = iris.target\n",
    "\n",
    "# 데이터 분할\n",
    "y = df['label']\n",
    "X = df.drop(['label'], axis=1)\n",
    "\n",
    "X_train, X_test, y_train, y_test = train_test_split(X.values, y.values,\n",
    "                                                   random_state=42, stratify=y)\n",
    "\n",
    "X_train = torch.tensor(X_train, dtype=torch.float32)\n",
    "X_test = torch.tensor(X_test, dtype=torch.float32)\n",
    "y_train = torch.tensor(y_train, dtype=torch.int64)\n",
    "y_test = torch.tensor(y_test, dtype=torch.int64)\n",
    "\n",
    "train_dataset = TensorDataset(X_train, y_train)\n",
    "test_dataset = TensorDataset(X_test, y_test)\n",
    "\n",
    "train_dataloader = DataLoader(train_dataset, batch_size=10, shuffle=True)\n",
    "test_dataloader = DataLoader(test_dataset, batch_size=10, shuffle=True)\n",
    "\n"
   ]
  },
  {
   "cell_type": "markdown",
   "id": "938d0cd8-4efa-4eee-b2c8-d6ecdd4be9a3",
   "metadata": {},
   "source": [
    "## `Step 3` : Set Network Structure"
   ]
  },
  {
   "cell_type": "code",
   "execution_count": 28,
   "id": "0a603c04-2e3e-4858-9002-bdb8cb5f73b4",
   "metadata": {},
   "outputs": [],
   "source": [
    "class NeuralNetwork(nn.Module):\n",
    "    def __init__(self):\n",
    "        super(NeuralNetwork, self).__init__()\n",
    "        self.input_layer = nn.Linear(4, 16)\n",
    "        self.hidden_layer1 = nn.Linear(16, 32)\n",
    "        self.output_layer = nn.Linear(32, 3)\n",
    "        self.relu = nn.ReLU()\n",
    "\n",
    "    def forward(self, x):\n",
    "        out = self.relu(self.input_layer(x))\n",
    "        out = self.relu(self.hidden_layer1(out))\n",
    "        out = self.output_layer(out)\n",
    "        return out"
   ]
  },
  {
   "cell_type": "markdown",
   "id": "ecbc3ef6-8296-411d-993c-c68e3119dccf",
   "metadata": {},
   "source": [
    "## `Step 4` : Create Model instance"
   ]
  },
  {
   "cell_type": "code",
   "execution_count": 29,
   "id": "7a0734be-8775-47d4-9377-d17c551fa5ba",
   "metadata": {},
   "outputs": [
    {
     "name": "stdout",
     "output_type": "stream",
     "text": [
      "device = cuda\n"
     ]
    }
   ],
   "source": [
    "device = 'cuda' if torch.cuda.is_available() else 'cpu'\n",
    "print(f'device = {device}')\n",
    "model = NeuralNetwork().to(device)\n"
   ]
  },
  {
   "cell_type": "markdown",
   "id": "e9edad27-e402-48f4-952c-6eaca28697e8",
   "metadata": {},
   "source": [
    "## `Step 5` : Model compile"
   ]
  },
  {
   "cell_type": "code",
   "execution_count": 30,
   "id": "f6585042-731c-4603-8ad5-c4d81ce34df8",
   "metadata": {},
   "outputs": [],
   "source": [
    "# 모델 컴파일\n",
    "learning_rate = 0.001\n",
    "loss = nn.CrossEntropyLoss()\n",
    "optimizer = torch.optim.Adam(model.parameters(), lr = learning_rate)"
   ]
  },
  {
   "cell_type": "markdown",
   "id": "5e9d6ba6-a2c1-4f3e-b48f-f9f84f3824be",
   "metadata": {},
   "source": [
    "## `Step 6` : Set train loop"
   ]
  },
  {
   "cell_type": "code",
   "execution_count": 34,
   "id": "4f0e5539-34ba-431c-8197-03a80b51a406",
   "metadata": {},
   "outputs": [],
   "source": [
    "def train_loop(train_loader, model, loss_fn, optimizer):\n",
    "    size = len(train_loader.dataset)\n",
    "\n",
    "    for batch, (X,y) in enumerate(train_loader):\n",
    "        X, y = X.to(device), y.to(device)\n",
    "        pred = model(X)\n",
    "\n",
    "        # loss\n",
    "        loss = loss_fn(pred, y)\n",
    "\n",
    "        # backpropagation\n",
    "        optimizer.zero_grad()\n",
    "        loss.backward()\n",
    "        optimizer.step()\n",
    "\n",
    "        loss, current = loss.item(), batch * len(X)\n",
    "        print(f'loss: {loss:>7f}  [{current:>5d}]/{size:5d}')"
   ]
  },
  {
   "cell_type": "markdown",
   "id": "a10be2cf-8a8f-4569-802a-1baa29e2483f",
   "metadata": {},
   "source": [
    "## `Step 7` : Set test loop"
   ]
  },
  {
   "cell_type": "code",
   "execution_count": 36,
   "id": "19b9d89a-98bc-4ca2-b211-00ba26af7db0",
   "metadata": {},
   "outputs": [],
   "source": [
    "def test_loop(test_loader, model, loss_fn):\n",
    "    size = len(test_loader.dataset)\n",
    "    num_batches = len(test_loader)\n",
    "    test_loss, correct = 0, 0\n",
    "\n",
    "    with torch.no_grad():\n",
    "        for X, y in test_loader:\n",
    "            X, y = X.to(device), y.to(device)\n",
    "            pred = model(X)\n",
    "            test_loss += loss_fn(pred, y).item()\n",
    "            correct += (pred.argmax(1) == y).type(torch.float).sum().item()\n",
    "\n",
    "    test_loss /= num_batches\n",
    "    correct /= size\n",
    "    print(f'Test Error : \\n Accuracy: {(100*correct):>0.1f}%, Avg loss: {test_loss:8f}\\n')"
   ]
  },
  {
   "cell_type": "markdown",
   "id": "fb3d0329-a3bd-497e-a9d5-b4777d441cae",
   "metadata": {},
   "source": [
    "## `Step 8` : Run model"
   ]
  },
  {
   "cell_type": "code",
   "execution_count": 37,
   "id": "01078ddd-e089-4251-b309-8fc58210b5cb",
   "metadata": {},
   "outputs": [
    {
     "name": "stdout",
     "output_type": "stream",
     "text": [
      "Epoch 1 \n",
      "------------------------------\n",
      "loss: 1.104175  [    0]/  112\n",
      "loss: 1.063668  [   10]/  112\n",
      "loss: 1.001417  [   20]/  112\n",
      "loss: 0.974181  [   30]/  112\n",
      "loss: 1.099196  [   40]/  112\n",
      "loss: 1.131157  [   50]/  112\n",
      "loss: 1.029493  [   60]/  112\n",
      "loss: 1.046669  [   70]/  112\n",
      "loss: 0.991781  [   80]/  112\n",
      "loss: 0.980483  [   90]/  112\n",
      "loss: 0.995154  [  100]/  112\n",
      "loss: 1.178336  [   22]/  112\n",
      "Test Error : \n",
      " Accuracy: 34.2%, Avg loss: 1.013189\n",
      "\n",
      "Epoch 2 \n",
      "------------------------------\n",
      "loss: 0.998811  [    0]/  112\n",
      "loss: 1.072228  [   10]/  112\n",
      "loss: 0.861224  [   20]/  112\n",
      "loss: 1.145309  [   30]/  112\n",
      "loss: 0.923511  [   40]/  112\n",
      "loss: 1.029394  [   50]/  112\n",
      "loss: 1.038562  [   60]/  112\n",
      "loss: 0.923659  [   70]/  112\n",
      "loss: 1.022684  [   80]/  112\n",
      "loss: 0.942879  [   90]/  112\n",
      "loss: 1.011915  [  100]/  112\n",
      "loss: 0.944836  [   22]/  112\n",
      "Test Error : \n",
      " Accuracy: 34.2%, Avg loss: 0.978484\n",
      "\n",
      "Epoch 3 \n",
      "------------------------------\n",
      "loss: 0.973278  [    0]/  112\n",
      "loss: 0.857192  [   10]/  112\n",
      "loss: 1.025384  [   20]/  112\n",
      "loss: 0.974613  [   30]/  112\n",
      "loss: 0.966374  [   40]/  112\n",
      "loss: 0.901531  [   50]/  112\n",
      "loss: 1.019788  [   60]/  112\n",
      "loss: 0.999571  [   70]/  112\n",
      "loss: 0.854874  [   80]/  112\n",
      "loss: 1.000906  [   90]/  112\n",
      "loss: 0.900930  [  100]/  112\n",
      "loss: 1.044610  [   22]/  112\n",
      "Test Error : \n",
      " Accuracy: 39.5%, Avg loss: 0.925748\n",
      "\n",
      "Epoch 4 \n",
      "------------------------------\n",
      "loss: 1.016448  [    0]/  112\n",
      "loss: 0.965601  [   10]/  112\n",
      "loss: 0.949101  [   20]/  112\n",
      "loss: 0.891714  [   30]/  112\n",
      "loss: 0.936245  [   40]/  112\n",
      "loss: 0.809627  [   50]/  112\n",
      "loss: 0.898013  [   60]/  112\n",
      "loss: 0.915918  [   70]/  112\n",
      "loss: 0.908495  [   80]/  112\n",
      "loss: 0.837218  [   90]/  112\n",
      "loss: 0.851940  [  100]/  112\n",
      "loss: 1.014478  [   22]/  112\n",
      "Test Error : \n",
      " Accuracy: 65.8%, Avg loss: 0.887178\n",
      "\n",
      "Epoch 5 \n",
      "------------------------------\n",
      "loss: 0.929125  [    0]/  112\n",
      "loss: 0.860350  [   10]/  112\n",
      "loss: 0.894982  [   20]/  112\n",
      "loss: 0.848951  [   30]/  112\n",
      "loss: 0.874831  [   40]/  112\n",
      "loss: 0.867019  [   50]/  112\n",
      "loss: 0.865059  [   60]/  112\n",
      "loss: 0.850359  [   70]/  112\n",
      "loss: 0.778505  [   80]/  112\n",
      "loss: 0.894542  [   90]/  112\n",
      "loss: 0.853558  [  100]/  112\n",
      "loss: 0.779387  [   22]/  112\n",
      "Test Error : \n",
      " Accuracy: 68.4%, Avg loss: 0.844504\n",
      "\n",
      "Epoch 6 \n",
      "------------------------------\n",
      "loss: 0.901229  [    0]/  112\n",
      "loss: 0.800752  [   10]/  112\n",
      "loss: 0.798276  [   20]/  112\n",
      "loss: 0.743961  [   30]/  112\n",
      "loss: 0.844832  [   40]/  112\n",
      "loss: 0.806112  [   50]/  112\n",
      "loss: 0.788561  [   60]/  112\n",
      "loss: 0.879695  [   70]/  112\n",
      "loss: 0.851877  [   80]/  112\n",
      "loss: 0.764796  [   90]/  112\n",
      "loss: 0.764707  [  100]/  112\n",
      "loss: 0.804097  [   22]/  112\n",
      "Test Error : \n",
      " Accuracy: 65.8%, Avg loss: 0.798580\n",
      "\n",
      "Epoch 7 \n",
      "------------------------------\n",
      "loss: 0.797247  [    0]/  112\n",
      "loss: 0.836456  [   10]/  112\n",
      "loss: 0.829977  [   20]/  112\n",
      "loss: 0.725152  [   30]/  112\n",
      "loss: 0.715440  [   40]/  112\n",
      "loss: 0.670871  [   50]/  112\n",
      "loss: 0.751514  [   60]/  112\n",
      "loss: 0.811848  [   70]/  112\n",
      "loss: 0.754924  [   80]/  112\n",
      "loss: 0.847931  [   90]/  112\n",
      "loss: 0.647542  [  100]/  112\n",
      "loss: 0.773911  [   22]/  112\n",
      "Test Error : \n",
      " Accuracy: 65.8%, Avg loss: 0.743698\n",
      "\n",
      "Epoch 8 \n",
      "------------------------------\n",
      "loss: 0.745911  [    0]/  112\n",
      "loss: 0.756747  [   10]/  112\n",
      "loss: 0.697434  [   20]/  112\n",
      "loss: 0.770861  [   30]/  112\n",
      "loss: 0.675138  [   40]/  112\n",
      "loss: 0.756205  [   50]/  112\n",
      "loss: 0.699248  [   60]/  112\n",
      "loss: 0.632746  [   70]/  112\n",
      "loss: 0.680969  [   80]/  112\n",
      "loss: 0.731905  [   90]/  112\n",
      "loss: 0.697679  [  100]/  112\n",
      "loss: 0.612848  [   22]/  112\n",
      "Test Error : \n",
      " Accuracy: 73.7%, Avg loss: 0.692100\n",
      "\n",
      "Epoch 9 \n",
      "------------------------------\n",
      "loss: 0.709632  [    0]/  112\n",
      "loss: 0.619151  [   10]/  112\n",
      "loss: 0.675694  [   20]/  112\n",
      "loss: 0.595196  [   30]/  112\n",
      "loss: 0.690987  [   40]/  112\n",
      "loss: 0.679168  [   50]/  112\n",
      "loss: 0.648694  [   60]/  112\n",
      "loss: 0.642780  [   70]/  112\n",
      "loss: 0.661847  [   80]/  112\n",
      "loss: 0.611258  [   90]/  112\n",
      "loss: 0.658153  [  100]/  112\n",
      "loss: 0.781440  [   22]/  112\n",
      "Test Error : \n",
      " Accuracy: 71.1%, Avg loss: 0.642173\n",
      "\n",
      "Epoch 10 \n",
      "------------------------------\n",
      "loss: 0.675161  [    0]/  112\n",
      "loss: 0.570343  [   10]/  112\n",
      "loss: 0.511772  [   20]/  112\n",
      "loss: 0.692174  [   30]/  112\n",
      "loss: 0.523068  [   40]/  112\n",
      "loss: 0.557191  [   50]/  112\n",
      "loss: 0.715832  [   60]/  112\n",
      "loss: 0.556040  [   70]/  112\n",
      "loss: 0.620830  [   80]/  112\n",
      "loss: 0.581826  [   90]/  112\n",
      "loss: 0.604469  [  100]/  112\n",
      "loss: 0.707001  [   22]/  112\n",
      "Test Error : \n",
      " Accuracy: 81.6%, Avg loss: 0.595252\n",
      "\n",
      "Done!\n"
     ]
    }
   ],
   "source": [
    "# 모델 실행\n",
    "epochs = 10\n",
    "\n",
    "for i in range(epochs):\n",
    "    print(f'Epoch {i+1} \\n------------------------------')\n",
    "    train_loop(train_dataloader, model, loss, optimizer)\n",
    "    test_loop(test_dataloader, model, loss)\n",
    "\n",
    "print(\"Done!\")"
   ]
  },
  {
   "cell_type": "code",
   "execution_count": null,
   "id": "a574f59f-5708-45ab-a20c-3c4fe1d34988",
   "metadata": {},
   "outputs": [],
   "source": []
  },
  {
   "cell_type": "code",
   "execution_count": null,
   "id": "5623c675-a763-469c-925e-5f3ff24c333f",
   "metadata": {},
   "outputs": [],
   "source": []
  }
 ],
 "metadata": {
  "kernelspec": {
   "display_name": "Python 3 (ipykernel)",
   "language": "python",
   "name": "python3"
  },
  "language_info": {
   "codemirror_mode": {
    "name": "ipython",
    "version": 3
   },
   "file_extension": ".py",
   "mimetype": "text/x-python",
   "name": "python",
   "nbconvert_exporter": "python",
   "pygments_lexer": "ipython3",
   "version": "3.10.13"
  }
 },
 "nbformat": 4,
 "nbformat_minor": 5
}
